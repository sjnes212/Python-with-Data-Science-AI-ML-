{
 "cells": [
  {
   "cell_type": "markdown",
   "metadata": {},
   "source": [
    "# Import Libraries"
   ]
  },
  {
   "cell_type": "code",
   "execution_count": 48,
   "metadata": {},
   "outputs": [],
   "source": [
    "# !pip install matplotlib\n",
    "# !pip install opencv-python"
   ]
  },
  {
   "cell_type": "markdown",
   "metadata": {},
   "source": [
    "# Import Libraries"
   ]
  },
  {
   "cell_type": "code",
   "execution_count": 1,
   "metadata": {},
   "outputs": [],
   "source": [
    "import numpy as np\n",
    "import matplotlib.pyplot as plt"
   ]
  },
  {
   "cell_type": "markdown",
   "metadata": {},
   "source": [
    "# Function to plot"
   ]
  },
  {
   "cell_type": "code",
   "execution_count": 2,
   "metadata": {},
   "outputs": [],
   "source": [
    "def plot_image(image, title, cmap='gray'):\n",
    "    plt.imshow(image, cmap=cmap)\n",
    "    plt.title(title)\n",
    "    plt.axis('off')"
   ]
  },
  {
   "cell_type": "markdown",
   "metadata": {},
   "source": [
    "# Image Array"
   ]
  },
  {
   "cell_type": "code",
   "execution_count": 3,
   "metadata": {},
   "outputs": [],
   "source": [
    "image = np.array([\n",
    "    [0, 0, 0, 0, 0],\n",
    "    [0, 1, 1, 1, 0],\n",
    "    [0, 1, 0, 1, 0],\n",
    "    [0, 1, 1, 1, 0],\n",
    "    [0, 0, 0, 0, 0]\n",
    "], dtype=np.float32)"
   ]
  },
  {
   "cell_type": "code",
   "execution_count": 4,
   "metadata": {},
   "outputs": [
    {
     "data": {
      "text/plain": [
       "(5, 5)"
      ]
     },
     "execution_count": 4,
     "metadata": {},
     "output_type": "execute_result"
    }
   ],
   "source": [
    "image.shape"
   ]
  },
  {
   "cell_type": "markdown",
   "metadata": {},
   "source": [
    "# Kernels"
   ]
  },
  {
   "cell_type": "code",
   "execution_count": 5,
   "metadata": {},
   "outputs": [],
   "source": [
    "kernels = [\n",
    "    np.array([\n",
    "        [1, 1, 1],\n",
    "        [0, 0, 0],\n",
    "        [-1, -1, -1]\n",
    "    ], dtype=np.float32),\n",
    "    np.array([\n",
    "        [1, 0, -1],\n",
    "        [1, 0, -1],\n",
    "        [1, 0, -1]\n",
    "    ], dtype=np.float32),\n",
    "    np.array([\n",
    "        [0, 1, 0],\n",
    "        [1, -4, 1],\n",
    "        [0, 1, 0]\n",
    "    ], dtype=np.float32)\n",
    "]\n"
   ]
  },
  {
   "cell_type": "markdown",
   "metadata": {},
   "source": [
    "# Convolution Operation"
   ]
  },
  {
   "cell_type": "code",
   "execution_count": 6,
   "metadata": {},
   "outputs": [],
   "source": [
    "def apply_padding(image, padding):\n",
    "    if padding > 0:\n",
    "        return np.pad(image, pad_width=((padding, padding), (padding, padding)), mode='constant', constant_values=0)\n",
    "    return image"
   ]
  },
  {
   "cell_type": "code",
   "execution_count": 7,
   "metadata": {},
   "outputs": [
    {
     "data": {
      "text/plain": [
       "array([[0., 0., 0., 0., 0., 0., 0.],\n",
       "       [0., 0., 0., 0., 0., 0., 0.],\n",
       "       [0., 0., 1., 1., 1., 0., 0.],\n",
       "       [0., 0., 1., 0., 1., 0., 0.],\n",
       "       [0., 0., 1., 1., 1., 0., 0.],\n",
       "       [0., 0., 0., 0., 0., 0., 0.],\n",
       "       [0., 0., 0., 0., 0., 0., 0.]], dtype=float32)"
      ]
     },
     "execution_count": 7,
     "metadata": {},
     "output_type": "execute_result"
    }
   ],
   "source": [
    "apply_padding(image,padding=1)"
   ]
  },
  {
   "cell_type": "code",
   "execution_count": 8,
   "metadata": {},
   "outputs": [],
   "source": [
    "def convolve(image, kernel, padding=0, stride=1):\n",
    "    kernel_height, kernel_width = kernel.shape\n",
    "    \n",
    "    # Apply padding to the image\n",
    "    image_padded = apply_padding(image, padding)\n",
    "    image_height, image_width = image_padded.shape\n",
    "    \n",
    "    # Calculate the dimensions of the output image\n",
    "    output_height = (image_height - kernel_height) // stride + 1\n",
    "    output_width = (image_width - kernel_width) // stride + 1\n",
    "    \n",
    "    # Initialize the output image\n",
    "    output = np.zeros((output_height, output_width))\n",
    "    \n",
    "    # Perform the convolution operation\n",
    "    for i in range(0, output_height):\n",
    "        for j in range(0, output_width):\n",
    "            # Extract the region of interest\n",
    "            region = image_padded[i*stride:i*stride+kernel_height, j*stride:j*stride+kernel_width]\n",
    "            output[i, j] = np.sum(region * kernel)\n",
    "    \n",
    "    return output\n"
   ]
  },
  {
   "cell_type": "markdown",
   "metadata": {},
   "source": [
    "# Max Pooling"
   ]
  },
  {
   "cell_type": "code",
   "execution_count": 9,
   "metadata": {},
   "outputs": [],
   "source": [
    "def max_pooling(image, pool_size=2):\n",
    "    output_height = image.shape[0] // pool_size\n",
    "    output_width = image.shape[1] // pool_size\n",
    "    result = np.zeros((output_height, output_width))\n",
    "    \n",
    "    for i in range(output_height):\n",
    "        for j in range(output_width):\n",
    "            result[i, j] = np.max(image[i*pool_size:(i+1)*pool_size, j*pool_size:(j+1)*pool_size])\n",
    "    \n",
    "    return result"
   ]
  },
  {
   "cell_type": "markdown",
   "metadata": {},
   "source": [
    "# Plot"
   ]
  },
  {
   "cell_type": "code",
   "execution_count": 10,
   "metadata": {},
   "outputs": [
    {
     "name": "stdout",
     "output_type": "stream",
     "text": [
      "Convolution result with kernel 1:\n",
      " [[ 0.  0.  0.  0.  0.  0.  0.]\n",
      " [ 0. -1. -2. -3. -2. -1.  0.]\n",
      " [ 0. -1. -1. -2. -1. -1.  0.]\n",
      " [ 0.  0.  0.  0.  0.  0.  0.]\n",
      " [ 0.  1.  1.  2.  1.  1.  0.]\n",
      " [ 0.  1.  2.  3.  2.  1.  0.]\n",
      " [ 0.  0.  0.  0.  0.  0.  0.]]\n",
      "********\n",
      "Shape Before Convolution (5, 5)\n",
      "Shape After Convolution (7, 7)\n",
      "********\n",
      "ReLU result with kernel 1:\n",
      " [[0. 0. 0. 0. 0. 0. 0.]\n",
      " [0. 0. 0. 0. 0. 0. 0.]\n",
      " [0. 0. 0. 0. 0. 0. 0.]\n",
      " [0. 0. 0. 0. 0. 0. 0.]\n",
      " [0. 1. 1. 2. 1. 1. 0.]\n",
      " [0. 1. 2. 3. 2. 1. 0.]\n",
      " [0. 0. 0. 0. 0. 0. 0.]]\n",
      "********\n",
      "Shape Before Max Pooling (7, 7)\n",
      "Shape After Max Pooling (3, 3)\n",
      "********\n",
      "Max Pooling result with kernel 1:\n",
      " [[0. 0. 0.]\n",
      " [0. 0. 0.]\n",
      " [1. 3. 2.]]\n",
      "********************************************\n",
      "Convolution result with kernel 2:\n",
      " [[ 0.  0.  0.  0.  0.  0.  0.]\n",
      " [ 0. -1. -1.  0.  1.  1.  0.]\n",
      " [ 0. -2. -1.  0.  1.  2.  0.]\n",
      " [ 0. -3. -2.  0.  2.  3.  0.]\n",
      " [ 0. -2. -1.  0.  1.  2.  0.]\n",
      " [ 0. -1. -1.  0.  1.  1.  0.]\n",
      " [ 0.  0.  0.  0.  0.  0.  0.]]\n",
      "********\n",
      "Shape Before Convolution (5, 5)\n",
      "Shape After Convolution (7, 7)\n",
      "********\n",
      "ReLU result with kernel 2:\n",
      " [[0. 0. 0. 0. 0. 0. 0.]\n",
      " [0. 0. 0. 0. 1. 1. 0.]\n",
      " [0. 0. 0. 0. 1. 2. 0.]\n",
      " [0. 0. 0. 0. 2. 3. 0.]\n",
      " [0. 0. 0. 0. 1. 2. 0.]\n",
      " [0. 0. 0. 0. 1. 1. 0.]\n",
      " [0. 0. 0. 0. 0. 0. 0.]]\n",
      "********\n",
      "Shape Before Max Pooling (7, 7)\n",
      "Shape After Max Pooling (3, 3)\n",
      "********\n",
      "Max Pooling result with kernel 2:\n",
      " [[0. 0. 1.]\n",
      " [0. 0. 3.]\n",
      " [0. 0. 2.]]\n",
      "********************************************\n",
      "Convolution result with kernel 3:\n",
      " [[ 0.  0.  0.  0.  0.  0.  0.]\n",
      " [ 0.  0.  1.  1.  1.  0.  0.]\n",
      " [ 0.  1. -2. -2. -2.  1.  0.]\n",
      " [ 0.  1. -2.  4. -2.  1.  0.]\n",
      " [ 0.  1. -2. -2. -2.  1.  0.]\n",
      " [ 0.  0.  1.  1.  1.  0.  0.]\n",
      " [ 0.  0.  0.  0.  0.  0.  0.]]\n",
      "********\n",
      "Shape Before Convolution (5, 5)\n",
      "Shape After Convolution (7, 7)\n",
      "********\n",
      "ReLU result with kernel 3:\n",
      " [[0. 0. 0. 0. 0. 0. 0.]\n",
      " [0. 0. 1. 1. 1. 0. 0.]\n",
      " [0. 1. 0. 0. 0. 1. 0.]\n",
      " [0. 1. 0. 4. 0. 1. 0.]\n",
      " [0. 1. 0. 0. 0. 1. 0.]\n",
      " [0. 0. 1. 1. 1. 0. 0.]\n",
      " [0. 0. 0. 0. 0. 0. 0.]]\n",
      "********\n",
      "Shape Before Max Pooling (7, 7)\n",
      "Shape After Max Pooling (3, 3)\n",
      "********\n",
      "Max Pooling result with kernel 3:\n",
      " [[0. 1. 1.]\n",
      " [1. 4. 1.]\n",
      " [1. 1. 1.]]\n",
      "********************************************\n"
     ]
    },
    {
     "data": {
      "image/png": "[encoded data removed]",
      "text/plain": [
       "<Figure size 1200x1000 with 12 Axes>"
      ]
     },
     "metadata": {},
     "output_type": "display_data"
    }
   ],
   "source": [
    "plt.figure(figsize=(12, 10))\n",
    "\n",
    "for idx, kernel in enumerate(kernels):\n",
    "    \n",
    "    # Convolution HERE\n",
    "    conv_result = convolve(image, kernel=kernel, padding=2, stride=1)\n",
    "    \n",
    "\n",
    "    print(f\"Convolution result with kernel {idx + 1}:\\n\", conv_result)\n",
    "    print(\"********\")\n",
    "    print(f\"Shape Before Convolution\", image.shape)\n",
    "    print(f\"Shape After Convolution\", conv_result.shape)\n",
    "    print(\"********\")\n",
    "    \n",
    "    relu_result = np.maximum(conv_result, 0)\n",
    "    print(f\"ReLU result with kernel {idx + 1}:\\n\", relu_result)\n",
    "    \n",
    "    # Max Pooling HERE\n",
    "    pooled_result = max_pooling(relu_result, pool_size=2)\n",
    "\n",
    "    print(\"********\")\n",
    "    print(f\"Shape Before Max Pooling\", conv_result.shape)\n",
    "    print(f\"Shape After Max Pooling\", pooled_result.shape)\n",
    "    print(\"********\")\n",
    "    \n",
    "\n",
    "    print(f\"Max Pooling result with kernel {idx + 1}:\\n\", pooled_result)\n",
    "    print(\"********************************************\")\n",
    "    \n",
    "    # Plotting the results for each kernel\n",
    "    plt.subplot(len(kernels), 4, idx * 4 + 1)\n",
    "    plot_image(image, 'Original Image' if idx == 0 else '')\n",
    "    \n",
    "    plt.subplot(len(kernels), 4, idx * 4 + 2)\n",
    "    plot_image(conv_result, f'After Convolution\\nKernel {idx + 1}')\n",
    "    \n",
    "    plt.subplot(len(kernels), 4, idx * 4 + 3)\n",
    "    plot_image(relu_result, 'After ReLU')\n",
    "    \n",
    "    plt.subplot(len(kernels), 4, idx * 4 + 4)\n",
    "    plot_image(pooled_result, 'After Max Pooling')\n",
    "\n",
    "plt.tight_layout()\n",
    "plt.show()"
   ]
  },
  {
   "cell_type": "code",
   "execution_count": 11,
   "metadata": {},
   "outputs": [],
   "source": [
    "arr = np.array(\n",
    "    [\n",
    "    [[2, 4,0],\n",
    "    [3, 4,1],\n",
    "    [0, 1, 1]],    \n",
    "    \n",
    "    [[0, 0,0],\n",
    "    [2, 4,1],\n",
    "    [3, 1, 1]],\n",
    "    \n",
    "    [[0, 0,0],\n",
    "    [0, 4,1],\n",
    "    [0, 1, 1]]])"
   ]
  },
  {
   "cell_type": "code",
   "execution_count": 12,
   "metadata": {},
   "outputs": [
    {
     "data": {
      "text/plain": [
       "array([[[2, 4, 0],\n",
       "        [3, 4, 1],\n",
       "        [0, 1, 1]],\n",
       "\n",
       "       [[0, 0, 0],\n",
       "        [2, 4, 1],\n",
       "        [3, 1, 1]],\n",
       "\n",
       "       [[0, 0, 0],\n",
       "        [0, 4, 1],\n",
       "        [0, 1, 1]]])"
      ]
     },
     "execution_count": 12,
     "metadata": {},
     "output_type": "execute_result"
    }
   ],
   "source": [
    "arr"
   ]
  },
  {
   "cell_type": "code",
   "execution_count": 13,
   "metadata": {},
   "outputs": [
    {
     "data": {
      "text/plain": [
       "array([2, 4, 0, 3, 4, 1, 0, 1, 1, 0, 0, 0, 2, 4, 1, 3, 1, 1, 0, 0, 0, 0,\n",
       "       4, 1, 0, 1, 1])"
      ]
     },
     "execution_count": 13,
     "metadata": {},
     "output_type": "execute_result"
    }
   ],
   "source": [
    "arr.flatten()"
   ]
  }
 ],
 "metadata": {
  "kernelspec": {
   "display_name": "Python 3.8.20",
   "language": "python",
   "name": "daks"
  },
  "language_info": {
   "codemirror_mode": {
    "name": "ipython",
    "version": 3
   },
   "file_extension": ".py",
   "mimetype": "text/x-python",
   "name": "python",
   "nbconvert_exporter": "python",
   "pygments_lexer": "ipython3",
   "version": "3.8.20"
  }
 },
 "nbformat": 4,
 "nbformat_minor": 2
}

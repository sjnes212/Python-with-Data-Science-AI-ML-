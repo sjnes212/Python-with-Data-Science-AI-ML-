{
 "cells": [
  {
   "cell_type": "markdown",
   "metadata": {},
   "source": [
    "# Import Libraries"
   ]
  },
  {
   "cell_type": "code",
   "execution_count": 1,
   "metadata": {},
   "outputs": [],
   "source": [
    "import pandas as pd\n",
    "import numpy as np\n",
    "\n",
    "import tensorflow as tf\n",
    "import matplotlib.pyplot as plt\n",
    "\n",
    "from sklearn.model_selection import train_test_split\n",
    "from sklearn.preprocessing import LabelEncoder, StandardScaler\n",
    "from tensorflow.keras.models import Sequential\n",
    "from tensorflow.keras.layers import Dense"
   ]
  },
  {
   "cell_type": "markdown",
   "metadata": {},
   "source": [
    "# Import DataFrame"
   ]
  },
  {
   "cell_type": "code",
   "execution_count": 2,
   "metadata": {},
   "outputs": [],
   "source": [
    "df = pd.read_csv('data/Salary_multiple.csv')"
   ]
  },
  {
   "cell_type": "markdown",
   "metadata": {},
   "source": [
    "# Preprocessing"
   ]
  },
  {
   "cell_type": "code",
   "execution_count": 3,
   "metadata": {},
   "outputs": [
    {
     "data": {
      "text/html": [
       "<div>\n",
       "<style scoped>\n",
       "    .dataframe tbody tr th:only-of-type {\n",
       "        vertical-align: middle;\n",
       "    }\n",
       "\n",
       "    .dataframe tbody tr th {\n",
       "        vertical-align: top;\n",
       "    }\n",
       "\n",
       "    .dataframe thead th {\n",
       "        text-align: right;\n",
       "    }\n",
       "</style>\n",
       "<table border=\"1\" class=\"dataframe\">\n",
       "  <thead>\n",
       "    <tr style=\"text-align: right;\">\n",
       "      <th></th>\n",
       "      <th>YearsExperience</th>\n",
       "      <th>Field</th>\n",
       "      <th>Salary</th>\n",
       "    </tr>\n",
       "  </thead>\n",
       "  <tbody>\n",
       "    <tr>\n",
       "      <th>0</th>\n",
       "      <td>1.1</td>\n",
       "      <td>Technical</td>\n",
       "      <td>39343.0</td>\n",
       "    </tr>\n",
       "    <tr>\n",
       "      <th>1</th>\n",
       "      <td>1.3</td>\n",
       "      <td>Non-Technical</td>\n",
       "      <td>26205.0</td>\n",
       "    </tr>\n",
       "    <tr>\n",
       "      <th>2</th>\n",
       "      <td>1.5</td>\n",
       "      <td>Technical</td>\n",
       "      <td>37731.0</td>\n",
       "    </tr>\n",
       "    <tr>\n",
       "      <th>3</th>\n",
       "      <td>2.0</td>\n",
       "      <td>Non-Technical</td>\n",
       "      <td>28525.0</td>\n",
       "    </tr>\n",
       "    <tr>\n",
       "      <th>4</th>\n",
       "      <td>2.2</td>\n",
       "      <td>Technical</td>\n",
       "      <td>39891.0</td>\n",
       "    </tr>\n",
       "  </tbody>\n",
       "</table>\n",
       "</div>"
      ],
      "text/plain": [
       "   YearsExperience          Field   Salary\n",
       "0              1.1      Technical  39343.0\n",
       "1              1.3  Non-Technical  26205.0\n",
       "2              1.5      Technical  37731.0\n",
       "3              2.0  Non-Technical  28525.0\n",
       "4              2.2      Technical  39891.0"
      ]
     },
     "execution_count": 3,
     "metadata": {},
     "output_type": "execute_result"
    }
   ],
   "source": [
    "df.head()"
   ]
  },
  {
   "cell_type": "code",
   "execution_count": 4,
   "metadata": {},
   "outputs": [],
   "source": [
    "encoder = LabelEncoder()\n",
    "df['Field'] = encoder.fit_transform(df['Field'])"
   ]
  },
  {
   "cell_type": "code",
   "execution_count": 5,
   "metadata": {},
   "outputs": [
    {
     "data": {
      "text/html": [
       "<div>\n",
       "<style scoped>\n",
       "    .dataframe tbody tr th:only-of-type {\n",
       "        vertical-align: middle;\n",
       "    }\n",
       "\n",
       "    .dataframe tbody tr th {\n",
       "        vertical-align: top;\n",
       "    }\n",
       "\n",
       "    .dataframe thead th {\n",
       "        text-align: right;\n",
       "    }\n",
       "</style>\n",
       "<table border=\"1\" class=\"dataframe\">\n",
       "  <thead>\n",
       "    <tr style=\"text-align: right;\">\n",
       "      <th></th>\n",
       "      <th>YearsExperience</th>\n",
       "      <th>Field</th>\n",
       "      <th>Salary</th>\n",
       "    </tr>\n",
       "  </thead>\n",
       "  <tbody>\n",
       "    <tr>\n",
       "      <th>0</th>\n",
       "      <td>1.1</td>\n",
       "      <td>1</td>\n",
       "      <td>39343.0</td>\n",
       "    </tr>\n",
       "    <tr>\n",
       "      <th>1</th>\n",
       "      <td>1.3</td>\n",
       "      <td>0</td>\n",
       "      <td>26205.0</td>\n",
       "    </tr>\n",
       "    <tr>\n",
       "      <th>2</th>\n",
       "      <td>1.5</td>\n",
       "      <td>1</td>\n",
       "      <td>37731.0</td>\n",
       "    </tr>\n",
       "    <tr>\n",
       "      <th>3</th>\n",
       "      <td>2.0</td>\n",
       "      <td>0</td>\n",
       "      <td>28525.0</td>\n",
       "    </tr>\n",
       "    <tr>\n",
       "      <th>4</th>\n",
       "      <td>2.2</td>\n",
       "      <td>1</td>\n",
       "      <td>39891.0</td>\n",
       "    </tr>\n",
       "  </tbody>\n",
       "</table>\n",
       "</div>"
      ],
      "text/plain": [
       "   YearsExperience  Field   Salary\n",
       "0              1.1      1  39343.0\n",
       "1              1.3      0  26205.0\n",
       "2              1.5      1  37731.0\n",
       "3              2.0      0  28525.0\n",
       "4              2.2      1  39891.0"
      ]
     },
     "execution_count": 5,
     "metadata": {},
     "output_type": "execute_result"
    }
   ],
   "source": [
    "df.head()"
   ]
  },
  {
   "cell_type": "code",
   "execution_count": 6,
   "metadata": {},
   "outputs": [],
   "source": [
    "scaler = StandardScaler()\n",
    "df[['YearsExperience', 'Salary']] = scaler.fit_transform(df[['YearsExperience', 'Salary']])"
   ]
  },
  {
   "cell_type": "markdown",
   "metadata": {},
   "source": [
    "# Split to X and Y"
   ]
  },
  {
   "cell_type": "code",
   "execution_count": 7,
   "metadata": {},
   "outputs": [],
   "source": [
    "X = df[['YearsExperience']].values\n",
    "y = df['Salary']"
   ]
  },
  {
   "cell_type": "code",
   "execution_count": 8,
   "metadata": {},
   "outputs": [],
   "source": [
    "X=X.reshape(-1,1)"
   ]
  },
  {
   "cell_type": "markdown",
   "metadata": {},
   "source": [
    "# Split"
   ]
  },
  {
   "cell_type": "code",
   "execution_count": 9,
   "metadata": {},
   "outputs": [],
   "source": [
    "X_train, X_test, y_train, y_test = train_test_split(X, y, test_size=0.2, random_state=29)"
   ]
  },
  {
   "cell_type": "markdown",
   "metadata": {},
   "source": [
    "# Build Model"
   ]
  },
  {
   "cell_type": "code",
   "execution_count": 10,
   "metadata": {},
   "outputs": [],
   "source": [
    "# Build the neural network model\n",
    "model = Sequential([\n",
    "    Dense(4, activation='linear', input_shape=(X_train.shape[1],)),\n",
    "    Dense(1, activation='sigmoid'),\n",
    "    # Dense(1, activation='linear')  # No activation function for output layer (regression problem)\n",
    "])"
   ]
  },
  {
   "cell_type": "code",
   "execution_count": 11,
   "metadata": {},
   "outputs": [
    {
     "name": "stdout",
     "output_type": "stream",
     "text": [
      "Model: \"sequential\"\n",
      "_________________________________________________________________\n",
      " Layer (type)                Output Shape              Param #   \n",
      "=================================================================\n",
      " dense (Dense)               (None, 4)                 8         \n",
      "                                                                 \n",
      " dense_1 (Dense)             (None, 1)                 5         \n",
      "                                                                 \n",
      "=================================================================\n",
      "Total params: 13 (52.00 Byte)\n",
      "Trainable params: 13 (52.00 Byte)\n",
      "Non-trainable params: 0 (0.00 Byte)\n",
      "_________________________________________________________________\n"
     ]
    }
   ],
   "source": [
    "model.summary()"
   ]
  },
  {
   "cell_type": "markdown",
   "metadata": {},
   "source": [
    "# Compile"
   ]
  },
  {
   "cell_type": "code",
   "execution_count": 12,
   "metadata": {},
   "outputs": [],
   "source": [
    "optimizer = tf.keras.optimizers.SGD(learning_rate=0.01)\n",
    "model.compile(optimizer=optimizer, loss='mean_absolute_error',metrics=['accuracy'])"
   ]
  },
  {
   "cell_type": "code",
   "execution_count": 13,
   "metadata": {},
   "outputs": [
    {
     "data": {
      "text/plain": [
       "24"
      ]
     },
     "execution_count": 13,
     "metadata": {},
     "output_type": "execute_result"
    }
   ],
   "source": [
    "len(X_train)"
   ]
  },
  {
   "cell_type": "markdown",
   "metadata": {},
   "source": [
    "# Tensorboard"
   ]
  },
  {
   "cell_type": "code",
   "execution_count": 14,
   "metadata": {},
   "outputs": [],
   "source": [
    "# log_dir = \"logs/regression_tf/\" + datetime.datetime.now().strftime(\"%Y%m%d-%H%M%S\")\n",
    "log_dir = \"logs/regression_tf/\"\n",
    "tensorboard_callback = tf.keras.callbacks.TensorBoard(log_dir=log_dir, histogram_freq=1)"
   ]
  },
  {
   "cell_type": "code",
   "execution_count": 15,
   "metadata": {},
   "outputs": [
    {
     "name": "stdout",
     "output_type": "stream",
     "text": [
      "Epoch 1/50\n",
      "3/3 [==============================] - 3s 424ms/step - loss: 1.1028 - accuracy: 0.0000e+00 - val_loss: 0.8652 - val_accuracy: 0.0000e+00\n",
      "Epoch 2/50\n",
      "3/3 [==============================] - 0s 155ms/step - loss: 1.0983 - accuracy: 0.0000e+00 - val_loss: 0.8625 - val_accuracy: 0.0000e+00\n",
      "Epoch 3/50\n",
      "3/3 [==============================] - 0s 142ms/step - loss: 1.0937 - accuracy: 0.0000e+00 - val_loss: 0.8598 - val_accuracy: 0.0000e+00\n",
      "Epoch 4/50\n",
      "3/3 [==============================] - 0s 127ms/step - loss: 1.0890 - accuracy: 0.0000e+00 - val_loss: 0.8570 - val_accuracy: 0.0000e+00\n",
      "Epoch 5/50\n",
      "3/3 [==============================] - 0s 109ms/step - loss: 1.0843 - accuracy: 0.0000e+00 - val_loss: 0.8542 - val_accuracy: 0.0000e+00\n",
      "Epoch 6/50\n",
      "3/3 [==============================] - 0s 84ms/step - loss: 1.0797 - accuracy: 0.0000e+00 - val_loss: 0.8514 - val_accuracy: 0.0000e+00\n",
      "Epoch 7/50\n",
      "3/3 [==============================] - 0s 82ms/step - loss: 1.0749 - accuracy: 0.0000e+00 - val_loss: 0.8486 - val_accuracy: 0.0000e+00\n",
      "Epoch 8/50\n",
      "3/3 [==============================] - 0s 143ms/step - loss: 1.0701 - accuracy: 0.0000e+00 - val_loss: 0.8461 - val_accuracy: 0.0000e+00\n",
      "Epoch 9/50\n",
      "3/3 [==============================] - 0s 80ms/step - loss: 1.0653 - accuracy: 0.0000e+00 - val_loss: 0.8444 - val_accuracy: 0.0000e+00\n",
      "Epoch 10/50\n",
      "3/3 [==============================] - 0s 96ms/step - loss: 1.0603 - accuracy: 0.0000e+00 - val_loss: 0.8426 - val_accuracy: 0.0000e+00\n",
      "Epoch 11/50\n",
      "3/3 [==============================] - 0s 71ms/step - loss: 1.0555 - accuracy: 0.0000e+00 - val_loss: 0.8408 - val_accuracy: 0.0000e+00\n",
      "Epoch 12/50\n",
      "3/3 [==============================] - 0s 74ms/step - loss: 1.0506 - accuracy: 0.0000e+00 - val_loss: 0.8389 - val_accuracy: 0.0000e+00\n",
      "Epoch 13/50\n",
      "3/3 [==============================] - 0s 80ms/step - loss: 1.0455 - accuracy: 0.0000e+00 - val_loss: 0.8371 - val_accuracy: 0.0000e+00\n",
      "Epoch 14/50\n",
      "3/3 [==============================] - 0s 77ms/step - loss: 1.0405 - accuracy: 0.0000e+00 - val_loss: 0.8353 - val_accuracy: 0.0000e+00\n",
      "Epoch 15/50\n",
      "3/3 [==============================] - 0s 69ms/step - loss: 1.0355 - accuracy: 0.0000e+00 - val_loss: 0.8334 - val_accuracy: 0.0000e+00\n",
      "Epoch 16/50\n",
      "3/3 [==============================] - 0s 69ms/step - loss: 1.0304 - accuracy: 0.0000e+00 - val_loss: 0.8316 - val_accuracy: 0.0000e+00\n",
      "Epoch 17/50\n",
      "3/3 [==============================] - 0s 71ms/step - loss: 1.0254 - accuracy: 0.0000e+00 - val_loss: 0.8297 - val_accuracy: 0.0000e+00\n",
      "Epoch 18/50\n",
      "3/3 [==============================] - 0s 63ms/step - loss: 1.0202 - accuracy: 0.0000e+00 - val_loss: 0.8278 - val_accuracy: 0.0000e+00\n",
      "Epoch 19/50\n",
      "3/3 [==============================] - 0s 67ms/step - loss: 1.0152 - accuracy: 0.0000e+00 - val_loss: 0.8259 - val_accuracy: 0.0000e+00\n",
      "Epoch 20/50\n",
      "3/3 [==============================] - 0s 64ms/step - loss: 1.0100 - accuracy: 0.0000e+00 - val_loss: 0.8241 - val_accuracy: 0.0000e+00\n",
      "Epoch 21/50\n",
      "3/3 [==============================] - 0s 62ms/step - loss: 1.0049 - accuracy: 0.0000e+00 - val_loss: 0.8222 - val_accuracy: 0.0000e+00\n",
      "Epoch 22/50\n",
      "3/3 [==============================] - 0s 68ms/step - loss: 0.9998 - accuracy: 0.0000e+00 - val_loss: 0.8203 - val_accuracy: 0.0000e+00\n",
      "Epoch 23/50\n",
      "3/3 [==============================] - 0s 63ms/step - loss: 0.9947 - accuracy: 0.0000e+00 - val_loss: 0.8184 - val_accuracy: 0.0000e+00\n",
      "Epoch 24/50\n",
      "3/3 [==============================] - 0s 78ms/step - loss: 0.9895 - accuracy: 0.0000e+00 - val_loss: 0.8166 - val_accuracy: 0.0000e+00\n",
      "Epoch 25/50\n",
      "3/3 [==============================] - 0s 61ms/step - loss: 0.9845 - accuracy: 0.0000e+00 - val_loss: 0.8147 - val_accuracy: 0.0000e+00\n",
      "Epoch 26/50\n",
      "3/3 [==============================] - 0s 64ms/step - loss: 0.9793 - accuracy: 0.0000e+00 - val_loss: 0.8128 - val_accuracy: 0.0000e+00\n",
      "Epoch 27/50\n",
      "3/3 [==============================] - 0s 62ms/step - loss: 0.9742 - accuracy: 0.0000e+00 - val_loss: 0.8110 - val_accuracy: 0.0000e+00\n",
      "Epoch 28/50\n",
      "3/3 [==============================] - 0s 69ms/step - loss: 0.9696 - accuracy: 0.0000e+00 - val_loss: 0.8091 - val_accuracy: 0.0000e+00\n",
      "Epoch 29/50\n",
      "3/3 [==============================] - 0s 63ms/step - loss: 0.9651 - accuracy: 0.0000e+00 - val_loss: 0.8073 - val_accuracy: 0.0000e+00\n",
      "Epoch 30/50\n",
      "3/3 [==============================] - 0s 67ms/step - loss: 0.9608 - accuracy: 0.0000e+00 - val_loss: 0.8055 - val_accuracy: 0.0000e+00\n",
      "Epoch 31/50\n",
      "3/3 [==============================] - 0s 67ms/step - loss: 0.9565 - accuracy: 0.0000e+00 - val_loss: 0.8037 - val_accuracy: 0.0000e+00\n",
      "Epoch 32/50\n",
      "3/3 [==============================] - 0s 81ms/step - loss: 0.9523 - accuracy: 0.0000e+00 - val_loss: 0.8019 - val_accuracy: 0.0000e+00\n",
      "Epoch 33/50\n",
      "3/3 [==============================] - 0s 208ms/step - loss: 0.9481 - accuracy: 0.0000e+00 - val_loss: 0.8001 - val_accuracy: 0.0000e+00\n",
      "Epoch 34/50\n",
      "3/3 [==============================] - 0s 120ms/step - loss: 0.9438 - accuracy: 0.0000e+00 - val_loss: 0.7983 - val_accuracy: 0.0000e+00\n",
      "Epoch 35/50\n",
      "3/3 [==============================] - 0s 96ms/step - loss: 0.9397 - accuracy: 0.0000e+00 - val_loss: 0.7966 - val_accuracy: 0.0000e+00\n",
      "Epoch 36/50\n",
      "3/3 [==============================] - 0s 65ms/step - loss: 0.9355 - accuracy: 0.0000e+00 - val_loss: 0.7948 - val_accuracy: 0.0000e+00\n",
      "Epoch 37/50\n",
      "3/3 [==============================] - 1s 391ms/step - loss: 0.9315 - accuracy: 0.0000e+00 - val_loss: 0.7931 - val_accuracy: 0.0000e+00\n",
      "Epoch 38/50\n",
      "3/3 [==============================] - 0s 130ms/step - loss: 0.9273 - accuracy: 0.0000e+00 - val_loss: 0.7914 - val_accuracy: 0.0000e+00\n",
      "Epoch 39/50\n",
      "3/3 [==============================] - 0s 99ms/step - loss: 0.9235 - accuracy: 0.0000e+00 - val_loss: 0.7898 - val_accuracy: 0.0000e+00\n",
      "Epoch 40/50\n",
      "3/3 [==============================] - 0s 108ms/step - loss: 0.9202 - accuracy: 0.0000e+00 - val_loss: 0.7881 - val_accuracy: 0.0000e+00\n",
      "Epoch 41/50\n",
      "3/3 [==============================] - 0s 109ms/step - loss: 0.9168 - accuracy: 0.0000e+00 - val_loss: 0.7865 - val_accuracy: 0.0000e+00\n",
      "Epoch 42/50\n",
      "3/3 [==============================] - 0s 90ms/step - loss: 0.9137 - accuracy: 0.0000e+00 - val_loss: 0.7849 - val_accuracy: 0.0000e+00\n",
      "Epoch 43/50\n",
      "3/3 [==============================] - 0s 73ms/step - loss: 0.9103 - accuracy: 0.0000e+00 - val_loss: 0.7833 - val_accuracy: 0.0000e+00\n",
      "Epoch 44/50\n",
      "3/3 [==============================] - 0s 71ms/step - loss: 0.9070 - accuracy: 0.0000e+00 - val_loss: 0.7817 - val_accuracy: 0.0000e+00\n",
      "Epoch 45/50\n",
      "3/3 [==============================] - 0s 70ms/step - loss: 0.9038 - accuracy: 0.0000e+00 - val_loss: 0.7802 - val_accuracy: 0.0000e+00\n",
      "Epoch 46/50\n",
      "3/3 [==============================] - 0s 66ms/step - loss: 0.9006 - accuracy: 0.0000e+00 - val_loss: 0.7786 - val_accuracy: 0.0000e+00\n",
      "Epoch 47/50\n",
      "3/3 [==============================] - 0s 62ms/step - loss: 0.8975 - accuracy: 0.0000e+00 - val_loss: 0.7771 - val_accuracy: 0.0000e+00\n",
      "Epoch 48/50\n",
      "3/3 [==============================] - 0s 67ms/step - loss: 0.8944 - accuracy: 0.0000e+00 - val_loss: 0.7756 - val_accuracy: 0.0000e+00\n",
      "Epoch 49/50\n",
      "3/3 [==============================] - 0s 62ms/step - loss: 0.8915 - accuracy: 0.0000e+00 - val_loss: 0.7741 - val_accuracy: 0.0000e+00\n",
      "Epoch 50/50\n",
      "3/3 [==============================] - 0s 64ms/step - loss: 0.8884 - accuracy: 0.0000e+00 - val_loss: 0.7727 - val_accuracy: 0.0000e+00\n"
     ]
    }
   ],
   "source": [
    "# Train the model\n",
    "history = model.fit(X_train, y_train, epochs=50, batch_size=8 , validation_data=(X_test, y_test), callbacks=[tensorboard_callback])"
   ]
  },
  {
   "cell_type": "code",
   "execution_count": 16,
   "metadata": {},
   "outputs": [
    {
     "name": "stdout",
     "output_type": "stream",
     "text": [
      "1/1 [==============================] - 0s 152ms/step\n"
     ]
    }
   ],
   "source": [
    "y_pred = model.predict(X)"
   ]
  },
  {
   "cell_type": "code",
   "execution_count": 17,
   "metadata": {},
   "outputs": [
    {
     "data": {
      "text/plain": [
       "30"
      ]
     },
     "execution_count": 17,
     "metadata": {},
     "output_type": "execute_result"
    }
   ],
   "source": [
    "len(y_pred)"
   ]
  },
  {
   "cell_type": "markdown",
   "metadata": {},
   "source": [
    "# Prediction"
   ]
  },
  {
   "cell_type": "code",
   "execution_count": 18,
   "metadata": {},
   "outputs": [
    {
     "data": {
      "image/png": "[encoded data removed]",
      "text/plain": [
       "<Figure size 1000x600 with 1 Axes>"
      ]
     },
     "metadata": {},
     "output_type": "display_data"
    }
   ],
   "source": [
    "plt.figure(figsize=(10, 6))\n",
    "plt.scatter(X, y, color=\"blue\", label=\"Actual Salary Data\")\n",
    "plt.plot(X, y_pred, color=\"red\", label=\"Predicted Salary (Regression Line)\")\n",
    "plt.xlabel(\"Years of Experience\")\n",
    "plt.ylabel(\"Salary\")\n",
    "plt.title(\"Salary vs. Years of Experience (Linear Regression)\")\n",
    "plt.legend()\n",
    "plt.show()"
   ]
  },
  {
   "cell_type": "markdown",
   "metadata": {},
   "source": [
    "# Get training Weights"
   ]
  },
  {
   "cell_type": "code",
   "execution_count": 19,
   "metadata": {},
   "outputs": [
    {
     "data": {
      "text/plain": [
       "[array([[ 0.64878476,  0.92661875, -0.4354342 ,  0.10179966]],\n",
       "       dtype=float32),\n",
       " array([ 0.08621053, -0.12835889, -0.04095585,  0.11560535], dtype=float32)]"
      ]
     },
     "execution_count": 19,
     "metadata": {},
     "output_type": "execute_result"
    }
   ],
   "source": [
    "model.layers[0].get_weights()"
   ]
  },
  {
   "cell_type": "code",
   "execution_count": 20,
   "metadata": {},
   "outputs": [
    {
     "name": "stdout",
     "output_type": "stream",
     "text": [
      "[array([[ 0.64878476,  0.92661875, -0.4354342 ,  0.10179966]],\n",
      "      dtype=float32), array([ 0.08621053, -0.12835889, -0.04095585,  0.11560535], dtype=float32)]\n",
      "[array([[-0.5270546 ],\n",
      "       [ 1.014356  ],\n",
      "       [ 0.2349517 ],\n",
      "       [-0.79996574]], dtype=float32), array([-0.14170437], dtype=float32)]\n"
     ]
    }
   ],
   "source": [
    "for layers in model.layers:\n",
    "    print(layers.get_weights())"
   ]
  },
  {
   "cell_type": "markdown",
   "metadata": {},
   "source": [
    "# Evaluate the model"
   ]
  },
  {
   "cell_type": "code",
   "execution_count": 21,
   "metadata": {},
   "outputs": [
    {
     "name": "stdout",
     "output_type": "stream",
     "text": [
      "1/1 [==============================] - 0s 48ms/step - loss: 0.7727 - accuracy: 0.0000e+00\n",
      "Test Loss: [0.7726860046386719, 0.0]\n"
     ]
    }
   ],
   "source": [
    "\n",
    "loss = model.evaluate(X_test, y_test)\n",
    "print('Test Loss:', loss)"
   ]
  },
  {
   "cell_type": "markdown",
   "metadata": {},
   "source": [
    "# Metrics"
   ]
  },
  {
   "cell_type": "code",
   "execution_count": 22,
   "metadata": {},
   "outputs": [
    {
     "name": "stdout",
     "output_type": "stream",
     "text": [
      "1/1 [==============================] - 0s 41ms/step\n"
     ]
    }
   ],
   "source": [
    "y_pred = model.predict(X_test)"
   ]
  },
  {
   "cell_type": "markdown",
   "metadata": {},
   "source": [
    "# Evaluate"
   ]
  },
  {
   "cell_type": "code",
   "execution_count": 23,
   "metadata": {},
   "outputs": [],
   "source": [
    "from sklearn.metrics import r2_score,mean_absolute_error,mean_squared_error\n",
    "import numpy as np"
   ]
  },
  {
   "cell_type": "code",
   "execution_count": 24,
   "metadata": {},
   "outputs": [
    {
     "name": "stdout",
     "output_type": "stream",
     "text": [
      "The R2 error is : 0.09291711162812599\n"
     ]
    }
   ],
   "source": [
    "r_squared = r2_score(y_test,y_pred)\n",
    "print(\"The R2 error is :\", r_squared)"
   ]
  },
  {
   "cell_type": "code",
   "execution_count": 25,
   "metadata": {},
   "outputs": [
    {
     "data": {
      "text/plain": [
       "0.7726859887778686"
      ]
     },
     "execution_count": 25,
     "metadata": {},
     "output_type": "execute_result"
    }
   ],
   "source": [
    "mean_absolute_error(y_test,y_pred)"
   ]
  },
  {
   "cell_type": "code",
   "execution_count": 26,
   "metadata": {},
   "outputs": [
    {
     "data": {
      "text/plain": [
       "0.9141194777211533"
      ]
     },
     "execution_count": 26,
     "metadata": {},
     "output_type": "execute_result"
    }
   ],
   "source": [
    "mean_squared_error(y_test,y_pred)"
   ]
  },
  {
   "cell_type": "markdown",
   "metadata": {},
   "source": [
    "# Visualize"
   ]
  },
  {
   "cell_type": "code",
   "execution_count": 27,
   "metadata": {},
   "outputs": [],
   "source": [
    "from tensorflow.keras.models import Model"
   ]
  },
  {
   "cell_type": "markdown",
   "metadata": {},
   "source": [
    "# Activation from Each Layer"
   ]
  },
  {
   "cell_type": "code",
   "execution_count": 28,
   "metadata": {},
   "outputs": [],
   "source": [
    "def get_activations(model, layer_name, X):\n",
    "    layer = model.get_layer(name=layer_name)\n",
    "    activation_model = Model(inputs=model.input, outputs=layer.output)\n",
    "    activations = activation_model.predict(X, verbose=False)\n",
    "    print(activations)\n",
    "    return activations\n"
   ]
  },
  {
   "cell_type": "code",
   "execution_count": 29,
   "metadata": {},
   "outputs": [],
   "source": [
    "def plot_activations(layer_name, activations):\n",
    "    print(f\"Layer: {layer_name}\")\n",
    "    print(f\"Activation Shape: {activations.shape}\")\n",
    "\n",
    "    if len(activations.shape) == 2:\n",
    "        # 2D activations (Dense layers)\n",
    "        plt.figure(figsize=(10, 5))\n",
    "        plt.bar(range(activations.shape[1]), activations[0], color='skyblue')\n",
    "        plt.title(f'Activations of {layer_name}')\n",
    "        plt.xlabel('Neurons')\n",
    "        plt.ylabel('Activation')\n",
    "        plt.grid(True)\n",
    "        plt.show()\n",
    "    \n",
    "    elif len(activations.shape) == 3:\n",
    "        # 3D activations (Convolutional layers)\n",
    "        num_channels = activations.shape[-1]\n",
    "        for i in range(num_channels):\n",
    "            plt.figure(figsize=(10, 5))\n",
    "            plt.imshow(activations[0, :, :, i], aspect='auto', cmap='viridis')\n",
    "            plt.colorbar()\n",
    "            plt.title(f'Activations of {layer_name} - Channel {i}')\n",
    "            plt.xlabel('Width')\n",
    "            plt.ylabel('Height')\n",
    "            plt.show()\n",
    "\n",
    "    elif len(activations.shape) == 4:\n",
    "        # 4D activations (Batches of 3D data, e.g., convolutional layers)\n",
    "        num_samples = activations.shape[1]\n",
    "        for i in range(num_samples):\n",
    "            plt.figure(figsize=(10, 5))\n",
    "            plt.imshow(activations[0, i, :, :], aspect='auto', cmap='viridis')\n",
    "            plt.colorbar()\n",
    "            plt.title(f'Activations of {layer_name} - Sample {i}')\n",
    "            plt.xlabel('Width')\n",
    "            plt.ylabel('Height')\n",
    "            plt.show()\n",
    "\n",
    "    else:\n",
    "        print(f\"Activation shape {activations.shape} not supported for visualization\")"
   ]
  },
  {
   "cell_type": "code",
   "execution_count": 30,
   "metadata": {},
   "outputs": [
    {
     "name": "stdout",
     "output_type": "stream",
     "text": [
      "[[ 0.50165266  0.46499115 -0.3197813   0.18079163]]\n",
      "Layer: dense\n",
      "Activation Shape: (1, 4)\n"
     ]
    },
    {
     "data": {
      "image/png": "[encoded data removed]",
      "text/plain": [
       "<Figure size 1000x500 with 1 Axes>"
      ]
     },
     "metadata": {},
     "output_type": "display_data"
    },
    {
     "name": "stdout",
     "output_type": "stream",
     "text": [
      "[[0.4615271]]\n",
      "Layer: dense_1\n",
      "Activation Shape: (1, 1)\n"
     ]
    },
    {
     "data": {
      "image/png": "[encoded data removed]",
      "text/plain": [
       "<Figure size 1000x500 with 1 Axes>"
      ]
     },
     "metadata": {},
     "output_type": "display_data"
    }
   ],
   "source": [
    "layer_names = [layer.name for layer in model.layers]\n",
    "\n",
    "X_sample = X_train[23]\n",
    "X_sample = np.expand_dims(X_sample, axis=0)  \n",
    "\n",
    "for layer_name in layer_names:\n",
    "    activations = get_activations(model, layer_name, X_sample)\n",
    "    plot_activations(layer_name, activations)"
   ]
  },
  {
   "cell_type": "code",
   "execution_count": 31,
   "metadata": {},
   "outputs": [
    {
     "name": "stdout",
     "output_type": "stream",
     "text": [
      "[[-0.21917042 -0.5645154   0.16400167  0.06768857]]\n",
      "Layer: dense\n",
      "Activation Shape: (1, 4)\n"
     ]
    },
    {
     "data": {
      "image/png": "[encoded data removed]",
      "text/plain": [
       "<Figure size 1000x500 with 1 Axes>"
      ]
     },
     "metadata": {},
     "output_type": "display_data"
    },
    {
     "name": "stdout",
     "output_type": "stream",
     "text": [
      "WARNING:tensorflow:5 out of the last 6 calls to <function Model.make_predict_function.<locals>.predict_function at 0x000002C1E53D4670> triggered tf.function retracing. Tracing is expensive and the excessive number of tracings could be due to (1) creating @tf.function repeatedly in a loop, (2) passing tensors with different shapes, (3) passing Python objects instead of tensors. For (1), please define your @tf.function outside of the loop. For (2), @tf.function has reduce_retracing=True option that can avoid unnecessary retracing. For (3), please refer to https://www.tensorflow.org/guide/function#controlling_retracing and https://www.tensorflow.org/api_docs/python/tf/function for  more details.\n",
      "[[0.3510504]]\n",
      "Layer: dense_1\n",
      "Activation Shape: (1, 1)\n"
     ]
    },
    {
     "data": {
      "image/png": "[encoded data removed]",
      "text/plain": [
       "<Figure size 1000x500 with 1 Axes>"
      ]
     },
     "metadata": {},
     "output_type": "display_data"
    }
   ],
   "source": [
    "layer_names = [layer.name for layer in model.layers]\n",
    "\n",
    "X_sample = X_train[11]\n",
    "X_sample = np.expand_dims(X_sample, axis=0)  \n",
    "\n",
    "for layer_name in layer_names:\n",
    "    activations = get_activations(model, layer_name, X_sample)\n",
    "    plot_activations(layer_name, activations)"
   ]
  }
 ],
 "metadata": {
  "kernelspec": {
   "display_name": "Python 3.8.20",
   "language": "python",
   "name": "daks"
  },
  "language_info": {
   "codemirror_mode": {
    "name": "ipython",
    "version": 3
   },
   "file_extension": ".py",
   "mimetype": "text/x-python",
   "name": "python",
   "nbconvert_exporter": "python",
   "pygments_lexer": "ipython3",
   "version": "3.8.20"
  }
 },
 "nbformat": 4,
 "nbformat_minor": 2
}

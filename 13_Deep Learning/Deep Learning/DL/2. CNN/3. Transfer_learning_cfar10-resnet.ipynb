{
 "cells": [
  {
   "cell_type": "markdown",
   "metadata": {},
   "source": [
    "# CFAR 10"
   ]
  },
  {
   "cell_type": "code",
   "execution_count": null,
   "metadata": {},
   "outputs": [],
   "source": [
    "!pip install tensorflow==2.13.0 keras==2.13.1"
   ]
  },
  {
   "cell_type": "code",
   "execution_count": null,
   "metadata": {},
   "outputs": [],
   "source": [
    "!pip show tensorflow\n",
    "!pip show keras"
   ]
  },
  {
   "cell_type": "code",
   "execution_count": 35,
   "metadata": {},
   "outputs": [
    {
     "name": "stdout",
     "output_type": "stream",
     "text": [
      "2.13.0\n",
      "2.13.1\n"
     ]
    }
   ],
   "source": [
    "import tensorflow as tf\n",
    "print(tf.__version__)\n",
    "import keras\n",
    "print(keras.__version__)"
   ]
  },
  {
   "cell_type": "code",
   "execution_count": 36,
   "metadata": {},
   "outputs": [
    {
     "name": "stdout",
     "output_type": "stream",
     "text": [
      "Downloading data from https://storage.googleapis.com/tensorflow/tf-keras-datasets/mnist.npz\n",
      "11490434/11490434 [==============================] - 2s 0us/step\n",
      "Data loaded successfully\n"
     ]
    }
   ],
   "source": [
    "import tensorflow as tf\n",
    "mnist = tf.keras.datasets.mnist\n",
    "(x_train, y_train), (x_test, y_test) = mnist.load_data()\n",
    "print(\"Data loaded successfully\")"
   ]
  },
  {
   "cell_type": "markdown",
   "metadata": {},
   "source": [
    "# Import Libraries"
   ]
  },
  {
   "cell_type": "code",
   "execution_count": 28,
   "metadata": {
    "execution": {
     "iopub.execute_input": "2024-04-28T06:45:54.311506Z",
     "iopub.status.busy": "2024-04-28T06:45:54.311091Z",
     "iopub.status.idle": "2024-04-28T06:45:56.726237Z",
     "shell.execute_reply": "2024-04-28T06:45:56.725182Z",
     "shell.execute_reply.started": "2024-04-28T06:45:54.311472Z"
    },
    "id": "uPsjWMXY3Ojf",
    "trusted": true
   },
   "outputs": [],
   "source": [
    "import numpy as np \n",
    "import pandas as pd \n",
    "from sklearn.utils.multiclass import unique_labels\n",
    "\n",
    "import os"
   ]
  },
  {
   "cell_type": "code",
   "execution_count": 29,
   "metadata": {
    "execution": {
     "iopub.execute_input": "2024-04-28T06:45:59.911199Z",
     "iopub.status.busy": "2024-04-28T06:45:59.910469Z",
     "iopub.status.idle": "2024-04-28T06:46:00.303116Z",
     "shell.execute_reply": "2024-04-28T06:46:00.302053Z",
     "shell.execute_reply.started": "2024-04-28T06:45:59.911156Z"
    },
    "id": "R8Lcsj4V3bLO",
    "trusted": true
   },
   "outputs": [],
   "source": [
    "import matplotlib.pyplot as plt\n",
    "import matplotlib.image as mpimg\n",
    "import seaborn as sns\n",
    "%matplotlib inline\n",
    "\n",
    "import itertools\n",
    "from sklearn.model_selection import train_test_split\n",
    "from sklearn.metrics import confusion_matrix"
   ]
  },
  {
   "cell_type": "code",
   "execution_count": 30,
   "metadata": {
    "execution": {
     "iopub.execute_input": "2024-04-28T06:46:00.305234Z",
     "iopub.status.busy": "2024-04-28T06:46:00.304901Z",
     "iopub.status.idle": "2024-04-28T06:46:13.648751Z",
     "shell.execute_reply": "2024-04-28T06:46:13.647669Z",
     "shell.execute_reply.started": "2024-04-28T06:46:00.305182Z"
    },
    "id": "Tobivi3Q3jpR",
    "trusted": true
   },
   "outputs": [],
   "source": [
    "import tensorflow as tf\n",
    "from keras.applications import ResNet50\n",
    "\n",
    "\n",
    "'Lastly import the final layers that will be added on top of the base model'\n",
    "from tensorflow.keras.models import Sequential\n",
    "from keras.layers import Flatten,Dense,Dropout,UpSampling2D,GlobalAveragePooling2D,Conv2D"
   ]
  },
  {
   "cell_type": "markdown",
   "metadata": {},
   "source": [
    "# Import dataset\n"
   ]
  },
  {
   "cell_type": "code",
   "execution_count": 31,
   "metadata": {
    "execution": {
     "iopub.execute_input": "2024-04-28T06:46:13.651619Z",
     "iopub.status.busy": "2024-04-28T06:46:13.650795Z",
     "iopub.status.idle": "2024-04-28T06:46:13.656374Z",
     "shell.execute_reply": "2024-04-28T06:46:13.655260Z",
     "shell.execute_reply.started": "2024-04-28T06:46:13.651582Z"
    },
    "id": "2h13D6M734mA",
    "trusted": true
   },
   "outputs": [],
   "source": [
    "from keras.datasets import cifar10"
   ]
  },
  {
   "cell_type": "code",
   "execution_count": 32,
   "metadata": {
    "colab": {
     "base_uri": "https://localhost:8080/"
    },
    "execution": {
     "iopub.execute_input": "2024-04-28T06:50:10.756047Z",
     "iopub.status.busy": "2024-04-28T06:50:10.755056Z",
     "iopub.status.idle": "2024-04-28T06:50:11.604955Z",
     "shell.execute_reply": "2024-04-28T06:50:11.604035Z",
     "shell.execute_reply.started": "2024-04-28T06:50:10.756010Z"
    },
    "id": "H1vrQ5od357h",
    "outputId": "503e4770-3e7c-4466-b172-d03789048740",
    "trusted": true
   },
   "outputs": [],
   "source": [
    "(x_train,y_train),(x_test,y_test)=cifar10.load_data()"
   ]
  },
  {
   "cell_type": "markdown",
   "metadata": {},
   "source": [
    "# Print the dimensions of the datasets to make sure everything's good"
   ]
  },
  {
   "cell_type": "code",
   "execution_count": 33,
   "metadata": {
    "colab": {
     "base_uri": "https://localhost:8080/"
    },
    "execution": {
     "iopub.execute_input": "2024-04-28T06:50:12.428443Z",
     "iopub.status.busy": "2024-04-28T06:50:12.428068Z",
     "iopub.status.idle": "2024-04-28T06:50:12.434084Z",
     "shell.execute_reply": "2024-04-28T06:50:12.432963Z",
     "shell.execute_reply.started": "2024-04-28T06:50:12.428412Z"
    },
    "id": "S-afaS2b4Dtc",
    "outputId": "b3e40201-04b6-4da5-a426-bbfc9f7f373d",
    "trusted": true
   },
   "outputs": [
    {
     "name": "stdout",
     "output_type": "stream",
     "text": [
      "((50000, 32, 32, 3), (50000, 1))\n",
      "((10000, 32, 32, 3), (10000, 1))\n"
     ]
    }
   ],
   "source": [
    "print((x_train.shape,y_train.shape))\n",
    "print((x_test.shape,y_test.shape))"
   ]
  },
  {
   "cell_type": "code",
   "execution_count": 34,
   "metadata": {
    "execution": {
     "iopub.execute_input": "2024-04-28T06:50:12.680158Z",
     "iopub.status.busy": "2024-04-28T06:50:12.679720Z",
     "iopub.status.idle": "2024-04-28T06:50:13.160053Z",
     "shell.execute_reply": "2024-04-28T06:50:13.158914Z",
     "shell.execute_reply.started": "2024-04-28T06:50:12.680124Z"
    },
    "trusted": true
   },
   "outputs": [],
   "source": [
    "x_train=x_train/255\n",
    "x_test=x_test/255"
   ]
  },
  {
   "cell_type": "markdown",
   "metadata": {
    "id": "7WpMntlW4SQj"
   },
   "source": [
    "## Steps for building a transfer learning model:\n",
    "\n",
    "* Build the model (Base Model + Flatten + Dense)\n",
    "\n",
    "* Check model summary\n",
    "\n",
    "* Initialize Batch Size,Number of Epochs\n",
    "Compile model\n",
    "\n",
    "* Fit the model \n",
    "\n",
    "* Evaluate the model on test data"
   ]
  },
  {
   "cell_type": "markdown",
   "metadata": {},
   "source": [
    "# Build the model"
   ]
  },
  {
   "cell_type": "code",
   "execution_count": null,
   "metadata": {
    "colab": {
     "base_uri": "https://localhost:8080/"
    },
    "execution": {
     "iopub.execute_input": "2024-04-28T06:53:30.274551Z",
     "iopub.status.busy": "2024-04-28T06:53:30.274260Z",
     "iopub.status.idle": "2024-04-28T06:53:31.442781Z",
     "shell.execute_reply": "2024-04-28T06:53:31.441853Z",
     "shell.execute_reply.started": "2024-04-28T06:53:30.274526Z"
    },
    "id": "iVlDLSAY41h5",
    "outputId": "ff0780a4-131a-4ca0-de87-76989cc29dcd",
    "trusted": true
   },
   "outputs": [],
   "source": [
    "'''For the 2nd base model we will use Resnet 50 and compare the\n",
    " performance against the previous one.'''\n",
    "base_model = ResNet50(include_top=False,weights='imagenet',input_shape=(32, 32, 3))\n"
   ]
  },
  {
   "cell_type": "code",
   "execution_count": null,
   "metadata": {
    "execution": {
     "iopub.execute_input": "2024-04-28T06:53:31.444526Z",
     "iopub.status.busy": "2024-04-28T06:53:31.444206Z",
     "iopub.status.idle": "2024-04-28T06:53:31.682670Z",
     "shell.execute_reply": "2024-04-28T06:53:31.681729Z",
     "shell.execute_reply.started": "2024-04-28T06:53:31.444500Z"
    },
    "trusted": true
   },
   "outputs": [],
   "source": [
    "base_model.summary()"
   ]
  },
  {
   "cell_type": "code",
   "execution_count": 13,
   "metadata": {
    "execution": {
     "iopub.execute_input": "2024-04-28T06:53:31.686059Z",
     "iopub.status.busy": "2024-04-28T06:53:31.685347Z",
     "iopub.status.idle": "2024-04-28T06:53:31.690379Z",
     "shell.execute_reply": "2024-04-28T06:53:31.689365Z",
     "shell.execute_reply.started": "2024-04-28T06:53:31.686020Z"
    },
    "trusted": true
   },
   "outputs": [],
   "source": [
    "# for index,layer in enumerate(base_model.layers):\n",
    "#     if index%2==0:\n",
    "#         layer.trainable = False\n",
    "#     else:\n",
    "#         layer.trainable = True\n",
    "#     # print(layer)"
   ]
  },
  {
   "cell_type": "code",
   "execution_count": 14,
   "metadata": {},
   "outputs": [],
   "source": [
    "# # for layer in base_model.layers:\n",
    "# #     layer.trainable=False\n",
    "\n",
    "# for layer in base_model.layers[150:175]:\n",
    "#     layer.trainable=True"
   ]
  },
  {
   "cell_type": "code",
   "execution_count": 15,
   "metadata": {},
   "outputs": [],
   "source": [
    "for layer in base_model.layers:\n",
    "    layer.trainable = True"
   ]
  },
  {
   "cell_type": "markdown",
   "metadata": {},
   "source": [
    "# Set Model"
   ]
  },
  {
   "cell_type": "code",
   "execution_count": 16,
   "metadata": {
    "execution": {
     "iopub.execute_input": "2024-04-28T06:53:31.691963Z",
     "iopub.status.busy": "2024-04-28T06:53:31.691652Z",
     "iopub.status.idle": "2024-04-28T06:53:31.755528Z",
     "shell.execute_reply": "2024-04-28T06:53:31.754638Z",
     "shell.execute_reply.started": "2024-04-28T06:53:31.691939Z"
    },
    "id": "fSYPATlhFhvx",
    "trusted": true
   },
   "outputs": [],
   "source": [
    "#Since we have already defined Resnet50 as base_model_2, let us build the sequential model.\n",
    "\n",
    "model = Sequential()\n",
    "\n",
    "model.add(Conv2D(filters=3, kernel_size=(3,3),input_shape = (32,32,3), activation='relu',padding=\"same\"))\n",
    "\n",
    "# model.add(UpSampling2D(size=(7, 7)))\n",
    "\n",
    "model.add(base_model)\n",
    "\n",
    "model.add(GlobalAveragePooling2D()) # equivalent to model.add(Flatten())\n",
    "\n",
    "model.add(Dense(128, activation='relu'))\n",
    "model.add(Dropout(0.5))\n",
    "model.add(Dense(10, activation='softmax'))"
   ]
  },
  {
   "cell_type": "code",
   "execution_count": null,
   "metadata": {
    "colab": {
     "base_uri": "https://localhost:8080/"
    },
    "execution": {
     "iopub.execute_input": "2024-04-28T06:53:31.756846Z",
     "iopub.status.busy": "2024-04-28T06:53:31.756564Z",
     "iopub.status.idle": "2024-04-28T06:53:31.787958Z",
     "shell.execute_reply": "2024-04-28T06:53:31.787074Z",
     "shell.execute_reply.started": "2024-04-28T06:53:31.756806Z"
    },
    "id": "zW_G-1d2GOlt",
    "outputId": "85cdbff5-4031-4a0f-d268-2f758ff77f0e",
    "trusted": true
   },
   "outputs": [],
   "source": [
    "model.summary()"
   ]
  },
  {
   "cell_type": "markdown",
   "metadata": {
    "id": "MuY-fHiLGT0E"
   },
   "source": [
    "# Compile the model \n"
   ]
  },
  {
   "cell_type": "code",
   "execution_count": 18,
   "metadata": {
    "execution": {
     "iopub.execute_input": "2024-04-28T06:53:31.789626Z",
     "iopub.status.busy": "2024-04-28T06:53:31.789271Z",
     "iopub.status.idle": "2024-04-28T06:53:31.798650Z",
     "shell.execute_reply": "2024-04-28T06:53:31.797735Z",
     "shell.execute_reply.started": "2024-04-28T06:53:31.789595Z"
    },
    "trusted": true
   },
   "outputs": [],
   "source": [
    "\n",
    "model.compile(optimizer='sgd',loss='sparse_categorical_crossentropy',metrics=['accuracy'])"
   ]
  },
  {
   "cell_type": "markdown",
   "metadata": {},
   "source": [
    "# Early Stopping"
   ]
  },
  {
   "cell_type": "code",
   "execution_count": 19,
   "metadata": {
    "execution": {
     "iopub.execute_input": "2024-04-28T06:53:31.800005Z",
     "iopub.status.busy": "2024-04-28T06:53:31.799687Z",
     "iopub.status.idle": "2024-04-28T06:53:31.811032Z",
     "shell.execute_reply": "2024-04-28T06:53:31.810173Z",
     "shell.execute_reply.started": "2024-04-28T06:53:31.799982Z"
    },
    "trusted": true
   },
   "outputs": [],
   "source": [
    "from tensorflow.keras.callbacks import EarlyStopping\n",
    "early_stop=EarlyStopping(monitor='val_loss',patience=3)"
   ]
  },
  {
   "cell_type": "code",
   "execution_count": null,
   "metadata": {
    "colab": {
     "base_uri": "https://localhost:8080/"
    },
    "execution": {
     "iopub.execute_input": "2024-04-28T06:53:31.812518Z",
     "iopub.status.busy": "2024-04-28T06:53:31.812147Z",
     "iopub.status.idle": "2024-04-28T06:57:48.066169Z",
     "shell.execute_reply": "2024-04-28T06:57:48.065068Z",
     "shell.execute_reply.started": "2024-04-28T06:53:31.812493Z"
    },
    "id": "kA4l2kezGfoN",
    "outputId": "16a10f0c-4ec1-420b-c9fe-2ef5ebc3adb3",
    "trusted": true
   },
   "outputs": [],
   "source": [
    "history = model.fit(x_train, y_train, batch_size=2, epochs=20, validation_split=0.2, callbacks=[early_stop])"
   ]
  },
  {
   "cell_type": "code",
   "execution_count": 21,
   "metadata": {
    "execution": {
     "iopub.execute_input": "2024-04-28T06:58:24.086824Z",
     "iopub.status.busy": "2024-04-28T06:58:24.086434Z",
     "iopub.status.idle": "2024-04-28T06:58:24.092813Z",
     "shell.execute_reply": "2024-04-28T06:58:24.091700Z",
     "shell.execute_reply.started": "2024-04-28T06:58:24.086796Z"
    },
    "id": "iZCqMYV9GhJF",
    "trusted": true
   },
   "outputs": [],
   "source": [
    "metrics = pd.DataFrame(model.history.history)"
   ]
  },
  {
   "cell_type": "markdown",
   "metadata": {},
   "source": [
    "# Metrics"
   ]
  },
  {
   "cell_type": "code",
   "execution_count": null,
   "metadata": {
    "colab": {
     "base_uri": "https://localhost:8080/",
     "height": 283
    },
    "execution": {
     "iopub.execute_input": "2024-04-28T06:58:25.615642Z",
     "iopub.status.busy": "2024-04-28T06:58:25.615246Z",
     "iopub.status.idle": "2024-04-28T06:58:25.914050Z",
     "shell.execute_reply": "2024-04-28T06:58:25.913165Z",
     "shell.execute_reply.started": "2024-04-28T06:58:25.615611Z"
    },
    "id": "4MjuuCbZG0Vy",
    "outputId": "b3cce47b-f2bd-4715-fc2a-515e6ab06498",
    "trusted": true
   },
   "outputs": [],
   "source": [
    "metrics[['loss', 'val_loss']].plot()"
   ]
  },
  {
   "cell_type": "code",
   "execution_count": null,
   "metadata": {
    "colab": {
     "base_uri": "https://localhost:8080/",
     "height": 285
    },
    "execution": {
     "iopub.execute_input": "2024-04-28T06:58:26.239347Z",
     "iopub.status.busy": "2024-04-28T06:58:26.238936Z",
     "iopub.status.idle": "2024-04-28T06:58:26.553131Z",
     "shell.execute_reply": "2024-04-28T06:58:26.552108Z",
     "shell.execute_reply.started": "2024-04-28T06:58:26.239315Z"
    },
    "id": "6d3pfG3PG0Tj",
    "outputId": "05fb576a-aaf1-439f-bbc9-56b841c97892",
    "trusted": true
   },
   "outputs": [],
   "source": [
    "metrics[['accuracy', 'val_accuracy']].plot()"
   ]
  },
  {
   "cell_type": "markdown",
   "metadata": {},
   "source": [
    "# Save Model and History"
   ]
  },
  {
   "cell_type": "code",
   "execution_count": null,
   "metadata": {
    "execution": {
     "iopub.execute_input": "2024-04-28T06:58:56.908513Z",
     "iopub.status.busy": "2024-04-28T06:58:56.908134Z",
     "iopub.status.idle": "2024-04-28T06:58:57.285561Z",
     "shell.execute_reply": "2024-04-28T06:58:57.284259Z",
     "shell.execute_reply.started": "2024-04-28T06:58:56.908487Z"
    },
    "trusted": true
   },
   "outputs": [],
   "source": [
    "model.save('cfar10_resnet.h5')"
   ]
  },
  {
   "cell_type": "code",
   "execution_count": null,
   "metadata": {},
   "outputs": [],
   "source": [
    "import pickle\n",
    "\n",
    "with open('history_resnet.pkl', 'wb') as f:\n",
    "    pickle.dump(history.history, f)"
   ]
  },
  {
   "cell_type": "markdown",
   "metadata": {},
   "source": [
    "# Evaluate"
   ]
  },
  {
   "cell_type": "code",
   "execution_count": null,
   "metadata": {
    "execution": {
     "iopub.execute_input": "2024-04-28T06:59:45.476414Z",
     "iopub.status.busy": "2024-04-28T06:59:45.475659Z",
     "iopub.status.idle": "2024-04-28T06:59:47.831323Z",
     "shell.execute_reply": "2024-04-28T06:59:47.830243Z",
     "shell.execute_reply.started": "2024-04-28T06:59:45.476380Z"
    },
    "trusted": true
   },
   "outputs": [],
   "source": [
    "prediction = model.predict(x_test)\n",
    "predictions = [np.argmax(x, axis=0) for x in prediction]"
   ]
  },
  {
   "cell_type": "code",
   "execution_count": 50,
   "metadata": {
    "execution": {
     "iopub.execute_input": "2024-04-28T07:00:15.669639Z",
     "iopub.status.busy": "2024-04-28T07:00:15.668906Z",
     "iopub.status.idle": "2024-04-28T07:00:15.674179Z",
     "shell.execute_reply": "2024-04-28T07:00:15.673161Z",
     "shell.execute_reply.started": "2024-04-28T07:00:15.669605Z"
    },
    "trusted": true
   },
   "outputs": [],
   "source": [
    "from sklearn.metrics import classification_report, confusion_matrix"
   ]
  },
  {
   "cell_type": "code",
   "execution_count": null,
   "metadata": {
    "execution": {
     "iopub.execute_input": "2024-04-28T07:00:16.019728Z",
     "iopub.status.busy": "2024-04-28T07:00:16.019369Z",
     "iopub.status.idle": "2024-04-28T07:00:16.052779Z",
     "shell.execute_reply": "2024-04-28T07:00:16.051765Z",
     "shell.execute_reply.started": "2024-04-28T07:00:16.019699Z"
    },
    "trusted": true
   },
   "outputs": [],
   "source": [
    "print(classification_report(y_test, predictions))"
   ]
  },
  {
   "cell_type": "markdown",
   "metadata": {},
   "source": [
    "# Analyze"
   ]
  },
  {
   "cell_type": "code",
   "execution_count": 52,
   "metadata": {
    "execution": {
     "iopub.execute_input": "2024-04-28T07:00:17.928392Z",
     "iopub.status.busy": "2024-04-28T07:00:17.927472Z",
     "iopub.status.idle": "2024-04-28T07:00:17.932615Z",
     "shell.execute_reply": "2024-04-28T07:00:17.931577Z",
     "shell.execute_reply.started": "2024-04-28T07:00:17.928357Z"
    },
    "trusted": true
   },
   "outputs": [],
   "source": [
    "import seaborn as sns"
   ]
  },
  {
   "cell_type": "code",
   "execution_count": 25,
   "metadata": {
    "execution": {
     "iopub.execute_input": "2024-04-28T07:00:20.662363Z",
     "iopub.status.busy": "2024-04-28T07:00:20.661495Z",
     "iopub.status.idle": "2024-04-28T07:00:20.666921Z",
     "shell.execute_reply": "2024-04-28T07:00:20.665922Z",
     "shell.execute_reply.started": "2024-04-28T07:00:20.662327Z"
    },
    "trusted": true
   },
   "outputs": [],
   "source": [
    "fig_class=[ \"airplane\", \"automobile\",\"bird\",\"cat\",\"deer\", \"dog\",\"frog\",\"horse\",\"ship\",\"truck\"]"
   ]
  },
  {
   "cell_type": "code",
   "execution_count": null,
   "metadata": {
    "execution": {
     "iopub.execute_input": "2024-04-28T07:00:21.482395Z",
     "iopub.status.busy": "2024-04-28T07:00:21.481977Z",
     "iopub.status.idle": "2024-04-28T07:00:22.194533Z",
     "shell.execute_reply": "2024-04-28T07:00:22.193587Z",
     "shell.execute_reply.started": "2024-04-28T07:00:21.482364Z"
    },
    "trusted": true
   },
   "outputs": [],
   "source": [
    "plt.figure(figsize=(10,6))\n",
    "sns.heatmap(confusion_matrix(y_test, predictions),annot=True,fmt='d',xticklabels=fig_class,yticklabels=fig_class)"
   ]
  },
  {
   "cell_type": "code",
   "execution_count": null,
   "metadata": {},
   "outputs": [],
   "source": []
  },
  {
   "cell_type": "code",
   "execution_count": null,
   "metadata": {},
   "outputs": [],
   "source": []
  }
 ],
 "metadata": {
  "accelerator": "GPU",
  "colab": {
   "collapsed_sections": [],
   "provenance": []
  },
  "gpuClass": "standard",
  "kaggle": {
   "accelerator": "nvidiaTeslaT4",
   "dataSources": [],
   "dockerImageVersionId": 30699,
   "isGpuEnabled": true,
   "isInternetEnabled": true,
   "language": "python",
   "sourceType": "notebook"
  },
  "kernelspec": {
   "display_name": "Python 3.8.20",
   "language": "python",
   "name": "daks"
  },
  "language_info": {
   "codemirror_mode": {
    "name": "ipython",
    "version": 3
   },
   "file_extension": ".py",
   "mimetype": "text/x-python",
   "name": "python",
   "nbconvert_exporter": "python",
   "pygments_lexer": "ipython3",
   "version": "3.8.20"
  },
  "vscode": {
   "interpreter": {
    "hash": "2ab26ebc9eac352ad84074c5872f53e9ff2d0f751ba36ba2a556974c64f5628d"
   }
  }
 },
 "nbformat": 4,
 "nbformat_minor": 4
}

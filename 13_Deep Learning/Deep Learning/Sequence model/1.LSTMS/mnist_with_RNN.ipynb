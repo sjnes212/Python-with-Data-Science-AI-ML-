{
 "cells": [
  {
   "cell_type": "markdown",
   "id": "e38aae73-384f-45e6-be74-fd9ffafd695e",
   "metadata": {},
   "source": [
    "<h1>MNIST DATASET </h1>"
   ]
  },
  {
   "cell_type": "markdown",
   "id": "00519c45-0bdb-4df7-a8e9-ca36afb2e23b",
   "metadata": {},
   "source": [
    "# Import Libraries"
   ]
  },
  {
   "cell_type": "code",
   "execution_count": 1,
   "id": "2a877863",
   "metadata": {},
   "outputs": [
    {
     "name": "stdout",
     "output_type": "stream",
     "text": [
      "Name: tensorflow\n",
      "Version: 2.13.0\n",
      "Summary: TensorFlow is an open source machine learning framework for everyone.\n",
      "Home-page: https://www.tensorflow.org/\n",
      "Author: Google Inc.\n",
      "Author-email: packages@tensorflow.org\n",
      "License: Apache 2.0\n",
      "Location: c:\\users\\silwa\\.conda\\envs\\daks\\lib\\site-packages\n",
      "Requires: tensorflow-intel\n",
      "Required-by: retina-face\n",
      "Name: keras\n",
      "Version: 2.13.1\n",
      "Summary: Deep learning for humans.\n",
      "Home-page: https://keras.io/\n",
      "Author: Keras team\n",
      "Author-email: keras-users@googlegroups.com\n",
      "License: Apache 2.0\n",
      "Location: c:\\users\\silwa\\.conda\\envs\\daks\\lib\\site-packages\n",
      "Requires: \n",
      "Required-by: tensorflow-intel\n"
     ]
    }
   ],
   "source": [
    "!pip show tensorflow\n",
    "!pip show keras"
   ]
  },
  {
   "cell_type": "code",
   "execution_count": 2,
   "id": "5a570a84",
   "metadata": {},
   "outputs": [
    {
     "name": "stdout",
     "output_type": "stream",
     "text": [
      "Requirement already satisfied: tensorflow==2.13.0 in c:\\users\\silwa\\.conda\\envs\\daks\\lib\\site-packages (2.13.0)"
     ]
    },
    {
     "name": "stderr",
     "output_type": "stream",
     "text": [
      "ERROR: Could not install packages due to an OSError: [WinError 5] Access is denied: 'C:\\\\Users\\\\silwa\\\\.conda\\\\envs\\\\daks\\\\Lib\\\\site-packages\\\\google\\\\_upb\\\\_message.cp38-win_amd64.pyd'\n",
      "Consider using the `--user` option or check the permissions.\n",
      "\n"
     ]
    },
    {
     "name": "stdout",
     "output_type": "stream",
     "text": [
      "\n",
      "Requirement already satisfied: keras==2.13.1 in c:\\users\\silwa\\.conda\\envs\\daks\\lib\\site-packages (2.13.1)\n",
      "Requirement already satisfied: tensorflow-intel==2.13.0 in c:\\users\\silwa\\.conda\\envs\\daks\\lib\\site-packages (from tensorflow==2.13.0) (2.13.0)\n",
      "Requirement already satisfied: absl-py>=1.0.0 in c:\\users\\silwa\\.conda\\envs\\daks\\lib\\site-packages (from tensorflow-intel==2.13.0->tensorflow==2.13.0) (2.1.0)\n",
      "Requirement already satisfied: astunparse>=1.6.0 in c:\\users\\silwa\\.conda\\envs\\daks\\lib\\site-packages (from tensorflow-intel==2.13.0->tensorflow==2.13.0) (1.6.3)\n",
      "Requirement already satisfied: flatbuffers>=23.1.21 in c:\\users\\silwa\\.conda\\envs\\daks\\lib\\site-packages (from tensorflow-intel==2.13.0->tensorflow==2.13.0) (24.12.23)\n",
      "Requirement already satisfied: gast<=0.4.0,>=0.2.1 in c:\\users\\silwa\\.conda\\envs\\daks\\lib\\site-packages (from tensorflow-intel==2.13.0->tensorflow==2.13.0) (0.4.0)\n",
      "Requirement already satisfied: google-pasta>=0.1.1 in c:\\users\\silwa\\.conda\\envs\\daks\\lib\\site-packages (from tensorflow-intel==2.13.0->tensorflow==2.13.0) (0.2.0)\n",
      "Requirement already satisfied: h5py>=2.9.0 in c:\\users\\silwa\\.conda\\envs\\daks\\lib\\site-packages (from tensorflow-intel==2.13.0->tensorflow==2.13.0) (3.11.0)\n",
      "Requirement already satisfied: libclang>=13.0.0 in c:\\users\\silwa\\.conda\\envs\\daks\\lib\\site-packages (from tensorflow-intel==2.13.0->tensorflow==2.13.0) (18.1.1)\n",
      "Collecting numpy<=1.24.3,>=1.22 (from tensorflow-intel==2.13.0->tensorflow==2.13.0)\n",
      "  Using cached numpy-1.24.3-cp38-cp38-win_amd64.whl.metadata (5.6 kB)\n",
      "Requirement already satisfied: opt-einsum>=2.3.2 in c:\\users\\silwa\\appdata\\roaming\\python\\python38\\site-packages (from tensorflow-intel==2.13.0->tensorflow==2.13.0) (3.3.0)\n",
      "Requirement already satisfied: packaging in c:\\users\\silwa\\.conda\\envs\\daks\\lib\\site-packages (from tensorflow-intel==2.13.0->tensorflow==2.13.0) (24.2)\n",
      "Collecting protobuf!=4.21.0,!=4.21.1,!=4.21.2,!=4.21.3,!=4.21.4,!=4.21.5,<5.0.0dev,>=3.20.3 (from tensorflow-intel==2.13.0->tensorflow==2.13.0)\n",
      "  Using cached protobuf-4.25.5-cp38-cp38-win_amd64.whl.metadata (541 bytes)\n",
      "Requirement already satisfied: setuptools in c:\\users\\silwa\\.conda\\envs\\daks\\lib\\site-packages (from tensorflow-intel==2.13.0->tensorflow==2.13.0) (75.1.0)\n",
      "Requirement already satisfied: six>=1.12.0 in c:\\users\\silwa\\.conda\\envs\\daks\\lib\\site-packages (from tensorflow-intel==2.13.0->tensorflow==2.13.0) (1.17.0)\n",
      "Requirement already satisfied: termcolor>=1.1.0 in c:\\users\\silwa\\.conda\\envs\\daks\\lib\\site-packages (from tensorflow-intel==2.13.0->tensorflow==2.13.0) (2.4.0)\n",
      "Collecting typing-extensions<4.6.0,>=3.6.6 (from tensorflow-intel==2.13.0->tensorflow==2.13.0)\n",
      "  Using cached typing_extensions-4.5.0-py3-none-any.whl.metadata (8.5 kB)\n",
      "Requirement already satisfied: wrapt>=1.11.0 in c:\\users\\silwa\\.conda\\envs\\daks\\lib\\site-packages (from tensorflow-intel==2.13.0->tensorflow==2.13.0) (1.17.2)\n",
      "Requirement already satisfied: grpcio<2.0,>=1.24.3 in c:\\users\\silwa\\.conda\\envs\\daks\\lib\\site-packages (from tensorflow-intel==2.13.0->tensorflow==2.13.0) (1.69.0)\n",
      "Requirement already satisfied: tensorboard<2.14,>=2.13 in c:\\users\\silwa\\.conda\\envs\\daks\\lib\\site-packages (from tensorflow-intel==2.13.0->tensorflow==2.13.0) (2.13.0)\n",
      "Requirement already satisfied: tensorflow-estimator<2.14,>=2.13.0 in c:\\users\\silwa\\.conda\\envs\\daks\\lib\\site-packages (from tensorflow-intel==2.13.0->tensorflow==2.13.0) (2.13.0)\n",
      "Requirement already satisfied: tensorflow-io-gcs-filesystem>=0.23.1 in c:\\users\\silwa\\.conda\\envs\\daks\\lib\\site-packages (from tensorflow-intel==2.13.0->tensorflow==2.13.0) (0.31.0)\n",
      "Requirement already satisfied: wheel<1.0,>=0.23.0 in c:\\users\\silwa\\.conda\\envs\\daks\\lib\\site-packages (from astunparse>=1.6.0->tensorflow-intel==2.13.0->tensorflow==2.13.0) (0.44.0)\n",
      "Requirement already satisfied: google-auth<3,>=1.6.3 in c:\\users\\silwa\\.conda\\envs\\daks\\lib\\site-packages (from tensorboard<2.14,>=2.13->tensorflow-intel==2.13.0->tensorflow==2.13.0) (2.37.0)\n",
      "Requirement already satisfied: google-auth-oauthlib<1.1,>=0.5 in c:\\users\\silwa\\.conda\\envs\\daks\\lib\\site-packages (from tensorboard<2.14,>=2.13->tensorflow-intel==2.13.0->tensorflow==2.13.0) (1.0.0)\n",
      "Requirement already satisfied: markdown>=2.6.8 in c:\\users\\silwa\\.conda\\envs\\daks\\lib\\site-packages (from tensorboard<2.14,>=2.13->tensorflow-intel==2.13.0->tensorflow==2.13.0) (3.7)\n",
      "Requirement already satisfied: requests<3,>=2.21.0 in c:\\users\\silwa\\.conda\\envs\\daks\\lib\\site-packages (from tensorboard<2.14,>=2.13->tensorflow-intel==2.13.0->tensorflow==2.13.0) (2.32.3)\n",
      "Requirement already satisfied: tensorboard-data-server<0.8.0,>=0.7.0 in c:\\users\\silwa\\.conda\\envs\\daks\\lib\\site-packages (from tensorboard<2.14,>=2.13->tensorflow-intel==2.13.0->tensorflow==2.13.0) (0.7.2)\n",
      "Requirement already satisfied: werkzeug>=1.0.1 in c:\\users\\silwa\\.conda\\envs\\daks\\lib\\site-packages (from tensorboard<2.14,>=2.13->tensorflow-intel==2.13.0->tensorflow==2.13.0) (3.0.6)\n",
      "Requirement already satisfied: cachetools<6.0,>=2.0.0 in c:\\users\\silwa\\.conda\\envs\\daks\\lib\\site-packages (from google-auth<3,>=1.6.3->tensorboard<2.14,>=2.13->tensorflow-intel==2.13.0->tensorflow==2.13.0) (5.5.0)\n",
      "Requirement already satisfied: pyasn1-modules>=0.2.1 in c:\\users\\silwa\\.conda\\envs\\daks\\lib\\site-packages (from google-auth<3,>=1.6.3->tensorboard<2.14,>=2.13->tensorflow-intel==2.13.0->tensorflow==2.13.0) (0.4.1)\n",
      "Requirement already satisfied: rsa<5,>=3.1.4 in c:\\users\\silwa\\.conda\\envs\\daks\\lib\\site-packages (from google-auth<3,>=1.6.3->tensorboard<2.14,>=2.13->tensorflow-intel==2.13.0->tensorflow==2.13.0) (4.9)\n",
      "Requirement already satisfied: requests-oauthlib>=0.7.0 in c:\\users\\silwa\\.conda\\envs\\daks\\lib\\site-packages (from google-auth-oauthlib<1.1,>=0.5->tensorboard<2.14,>=2.13->tensorflow-intel==2.13.0->tensorflow==2.13.0) (2.0.0)\n",
      "Requirement already satisfied: importlib-metadata>=4.4 in c:\\users\\silwa\\.conda\\envs\\daks\\lib\\site-packages (from markdown>=2.6.8->tensorboard<2.14,>=2.13->tensorflow-intel==2.13.0->tensorflow==2.13.0) (8.5.0)\n",
      "Requirement already satisfied: charset-normalizer<4,>=2 in c:\\users\\silwa\\.conda\\envs\\daks\\lib\\site-packages (from requests<3,>=2.21.0->tensorboard<2.14,>=2.13->tensorflow-intel==2.13.0->tensorflow==2.13.0) (3.4.1)\n",
      "Requirement already satisfied: idna<4,>=2.5 in c:\\users\\silwa\\.conda\\envs\\daks\\lib\\site-packages (from requests<3,>=2.21.0->tensorboard<2.14,>=2.13->tensorflow-intel==2.13.0->tensorflow==2.13.0) (3.10)\n",
      "Requirement already satisfied: urllib3<3,>=1.21.1 in c:\\users\\silwa\\.conda\\envs\\daks\\lib\\site-packages (from requests<3,>=2.21.0->tensorboard<2.14,>=2.13->tensorflow-intel==2.13.0->tensorflow==2.13.0) (2.2.3)\n",
      "Requirement already satisfied: certifi>=2017.4.17 in c:\\users\\silwa\\.conda\\envs\\daks\\lib\\site-packages (from requests<3,>=2.21.0->tensorboard<2.14,>=2.13->tensorflow-intel==2.13.0->tensorflow==2.13.0) (2024.12.14)\n",
      "Requirement already satisfied: MarkupSafe>=2.1.1 in c:\\users\\silwa\\.conda\\envs\\daks\\lib\\site-packages (from werkzeug>=1.0.1->tensorboard<2.14,>=2.13->tensorflow-intel==2.13.0->tensorflow==2.13.0) (2.1.5)\n",
      "Requirement already satisfied: zipp>=3.20 in c:\\users\\silwa\\.conda\\envs\\daks\\lib\\site-packages (from importlib-metadata>=4.4->markdown>=2.6.8->tensorboard<2.14,>=2.13->tensorflow-intel==2.13.0->tensorflow==2.13.0) (3.20.2)\n",
      "Requirement already satisfied: pyasn1<0.7.0,>=0.4.6 in c:\\users\\silwa\\.conda\\envs\\daks\\lib\\site-packages (from pyasn1-modules>=0.2.1->google-auth<3,>=1.6.3->tensorboard<2.14,>=2.13->tensorflow-intel==2.13.0->tensorflow==2.13.0) (0.6.1)\n",
      "Requirement already satisfied: oauthlib>=3.0.0 in c:\\users\\silwa\\.conda\\envs\\daks\\lib\\site-packages (from requests-oauthlib>=0.7.0->google-auth-oauthlib<1.1,>=0.5->tensorboard<2.14,>=2.13->tensorflow-intel==2.13.0->tensorflow==2.13.0) (3.2.2)\n",
      "Using cached numpy-1.24.3-cp38-cp38-win_amd64.whl (14.9 MB)\n",
      "Using cached protobuf-4.25.5-cp38-cp38-win_amd64.whl (413 kB)\n",
      "Using cached typing_extensions-4.5.0-py3-none-any.whl (27 kB)\n",
      "Installing collected packages: typing-extensions, protobuf, numpy\n",
      "  Attempting uninstall: typing-extensions\n",
      "    Found existing installation: typing_extensions 4.12.2\n",
      "    Uninstalling typing_extensions-4.12.2:\n",
      "      Successfully uninstalled typing_extensions-4.12.2\n",
      "  Attempting uninstall: protobuf\n",
      "    Found existing installation: protobuf 3.20.2\n",
      "    Uninstalling protobuf-3.20.2:\n",
      "      Successfully uninstalled protobuf-3.20.2\n",
      "  Rolling back uninstall of protobuf\n",
      "  Moving to c:\\users\\silwa\\appdata\\roaming\\python\\python38\\site-packages\\google\\protobuf\\\n",
      "   from C:\\Users\\silwa\\AppData\\Roaming\\Python\\Python38\\site-packages\\google\\~rotobuf\n",
      "  Moving to c:\\users\\silwa\\appdata\\roaming\\python\\python38\\site-packages\\protobuf-3.20.2-py3.8-nspkg.pth\n",
      "   from C:\\Users\\silwa\\AppData\\Local\\Temp\\pip-uninstall-wegsfbww\\protobuf-3.20.2-py3.8-nspkg.pth\n",
      "  Moving to c:\\users\\silwa\\appdata\\roaming\\python\\python38\\site-packages\\protobuf-3.20.2.dist-info\\\n",
      "   from C:\\Users\\silwa\\AppData\\Roaming\\Python\\Python38\\site-packages\\~rotobuf-3.20.2.dist-info\n"
     ]
    }
   ],
   "source": [
    "!pip install tensorflow==2.13.0 keras==2.13.1\n"
   ]
  },
  {
   "cell_type": "code",
   "execution_count": 3,
   "id": "4dece266-74bc-4471-84d5-c08da81b19b3",
   "metadata": {},
   "outputs": [],
   "source": [
    "import matplotlib.pyplot as plt\n",
    "import seaborn as sns\n",
    "import pandas as pd\n",
    "\n",
    "import os\n",
    "import cv2\n",
    "import numpy as np\n",
    "import tensorflow as tf\n",
    "\n",
    "from sklearn.model_selection import train_test_split\n",
    "\n",
    "from tensorflow.keras.utils import to_categorical\n",
    "\n",
    "from tensorflow.keras.models import Sequential\n",
    "from tensorflow.keras.layers import Dense,Dropout,LSTM\n",
    "from keras.optimizers import SGD\n",
    "\n",
    "import warnings                      \n",
    "warnings.simplefilter(\"ignore\")  # ignores the warning"
   ]
  },
  {
   "cell_type": "markdown",
   "id": "6a7d31ec-5b5a-483e-8168-7e22f4241d37",
   "metadata": {},
   "source": [
    "# Load .npy file"
   ]
  },
  {
   "cell_type": "code",
   "execution_count": 4,
   "id": "fb737d68-8996-448c-b880-05da280105d1",
   "metadata": {},
   "outputs": [],
   "source": [
    "# Load the MNIST data from .npy file\n",
    "data = np.load('data/mnist_data.npy', allow_pickle=True)\n",
    "images = data.item().get('images')\n",
    "labels = data.item().get('labels')"
   ]
  },
  {
   "cell_type": "markdown",
   "id": "f1268c25",
   "metadata": {},
   "source": [
    "# Visualize"
   ]
  },
  {
   "cell_type": "code",
   "execution_count": 5,
   "id": "4a29fa94",
   "metadata": {},
   "outputs": [],
   "source": [
    "import random"
   ]
  },
  {
   "cell_type": "code",
   "execution_count": 6,
   "id": "a47b213c",
   "metadata": {},
   "outputs": [
    {
     "data": {
      "image/png": "[encoded data removed]",
      "text/plain": [
       "<Figure size 1600x1600 with 10 Axes>"
      ]
     },
     "metadata": {},
     "output_type": "display_data"
    }
   ],
   "source": [
    "def random_value_for_index(labels, target_value):\n",
    "    indices = [index for index, value in enumerate(labels) if value == target_value]\n",
    "    return random.choice(indices)\n",
    "\n",
    "# Define categories\n",
    "categories = [0, 1, 2, 3, 4, 5, 6, 7, 8, 9]\n",
    "\n",
    "# Create subplots\n",
    "fig, axs = plt.subplots(1, 10, figsize=(16, 16))\n",
    "\n",
    "for index, category in enumerate(categories):\n",
    "    # Select random image index from specific category\n",
    "    random_index = random_value_for_index(labels, category)\n",
    "    # Plot the random image\n",
    "    axs[index].imshow(images[random_index].reshape(28, 28), cmap='gray')\n",
    "    axs[index].axis('off')\n",
    "    axs[index].set_title(category)\n",
    "\n",
    "plt.subplots_adjust(wspace=0.1, hspace=0.1)\n",
    "plt.show()"
   ]
  },
  {
   "cell_type": "markdown",
   "id": "3174e4ab-05bd-413b-b852-fc22f164a613",
   "metadata": {},
   "source": [
    "# Train Test Split"
   ]
  },
  {
   "cell_type": "code",
   "execution_count": 7,
   "id": "ab7d9ecd-d41a-405c-a38c-6f05004b8020",
   "metadata": {},
   "outputs": [],
   "source": [
    "x_train,x_test,y_train,y_test = train_test_split(images, labels, test_size=0.2, random_state=11)"
   ]
  },
  {
   "cell_type": "code",
   "execution_count": 8,
   "id": "f59db88b",
   "metadata": {},
   "outputs": [],
   "source": [
    "x_train = x_train.reshape(-1, 28, 28)\n",
    "x_test = x_test.reshape(-1, 28, 28)"
   ]
  },
  {
   "cell_type": "code",
   "execution_count": 9,
   "id": "15cb84e6-3be8-47d7-8eaf-4ed26e03c370",
   "metadata": {},
   "outputs": [
    {
     "name": "stdout",
     "output_type": "stream",
     "text": [
      "X_train shape :  (33600, 28, 28)\n",
      "y_train shape :  (33600,)\n",
      "X_test shape :  (8400, 28, 28)\n",
      "y_test shape :  (8400,)\n"
     ]
    }
   ],
   "source": [
    "print(\"X_train shape : \",x_train.shape)\n",
    "print(\"y_train shape : \",y_train.shape)\n",
    "print(\"X_test shape : \",x_test.shape)\n",
    "print(\"y_test shape : \",y_test.shape)\n"
   ]
  },
  {
   "cell_type": "markdown",
   "id": "9f86078e",
   "metadata": {},
   "source": [
    "# Normalization"
   ]
  },
  {
   "cell_type": "code",
   "execution_count": 10,
   "id": "450e7328",
   "metadata": {},
   "outputs": [],
   "source": [
    "x_train = tf.keras.utils.normalize(x_train, axis=1)\n",
    "x_test = tf.keras.utils.normalize(x_test, axis=1)"
   ]
  },
  {
   "cell_type": "code",
   "execution_count": 11,
   "id": "0ce0ea96",
   "metadata": {},
   "outputs": [
    {
     "data": {
      "text/plain": [
       "(33600, 28, 28)"
      ]
     },
     "execution_count": 11,
     "metadata": {},
     "output_type": "execute_result"
    }
   ],
   "source": [
    "x_train.shape"
   ]
  },
  {
   "cell_type": "markdown",
   "id": "9af57835-f185-45e5-af66-e0b32f84ea30",
   "metadata": {},
   "source": [
    "# Train RNN model"
   ]
  },
  {
   "cell_type": "code",
   "execution_count": 12,
   "id": "4bd3a182-f4c2-4ca3-afbf-83150c244cf6",
   "metadata": {},
   "outputs": [],
   "source": [
    "model = Sequential()\n",
    "model.add(LSTM(128, input_shape=(28,28 )))\n",
    "model.add(Dropout(0.2))\n",
    "model.add(Dense(128, activation='relu'))\n",
    "model.add(Dropout(0.2))\n",
    "model.add(Dense(10, activation='softmax'))"
   ]
  },
  {
   "cell_type": "code",
   "execution_count": 13,
   "id": "d43c9e3a-5bf4-446b-92dc-8f1d8c3c5b3c",
   "metadata": {},
   "outputs": [
    {
     "name": "stdout",
     "output_type": "stream",
     "text": [
      "Model: \"sequential\"\n",
      "_________________________________________________________________\n",
      " Layer (type)                Output Shape              Param #   \n",
      "=================================================================\n",
      " lstm (LSTM)                 (None, 128)               80384     \n",
      "                                                                 \n",
      " dropout (Dropout)           (None, 128)               0         \n",
      "                                                                 \n",
      " dense (Dense)               (None, 128)               16512     \n",
      "                                                                 \n",
      " dropout_1 (Dropout)         (None, 128)               0         \n",
      "                                                                 \n",
      " dense_1 (Dense)             (None, 10)                1290      \n",
      "                                                                 \n",
      "=================================================================\n",
      "Total params: 98186 (383.54 KB)\n"
     ]
    },
    {
     "name": "stdout",
     "output_type": "stream",
     "text": [
      "Trainable params: 98186 (383.54 KB)\n",
      "Non-trainable params: 0 (0.00 Byte)\n",
      "_________________________________________________________________\n"
     ]
    }
   ],
   "source": [
    "model.summary()"
   ]
  },
  {
   "cell_type": "markdown",
   "id": "c89beb68",
   "metadata": {},
   "source": [
    "# Early Stoping"
   ]
  },
  {
   "cell_type": "code",
   "execution_count": 14,
   "id": "1fa8f8c1",
   "metadata": {},
   "outputs": [],
   "source": [
    "from tensorflow.keras.callbacks import EarlyStopping\n",
    "early_stop=EarlyStopping(monitor='val_loss',patience=5)"
   ]
  },
  {
   "cell_type": "markdown",
   "id": "f211871c",
   "metadata": {},
   "source": [
    "# Compile"
   ]
  },
  {
   "cell_type": "code",
   "execution_count": 15,
   "id": "5a3b029a",
   "metadata": {},
   "outputs": [],
   "source": [
    "model.compile(optimizer='sgd', loss='sparse_categorical_crossentropy', metrics=['accuracy'])\n"
   ]
  },
  {
   "cell_type": "markdown",
   "id": "308c22f8",
   "metadata": {},
   "source": [
    "# Train"
   ]
  },
  {
   "cell_type": "code",
   "execution_count": 16,
   "id": "ba98a117",
   "metadata": {},
   "outputs": [
    {
     "name": "stdout",
     "output_type": "stream",
     "text": [
      "Epoch 1/100\n",
      "945/945 [==============================] - 50s 44ms/step - loss: 2.2859 - accuracy: 0.1805 - val_loss: 2.2662 - val_accuracy: 0.2554\n",
      "Epoch 2/100\n",
      "945/945 [==============================] - 42s 45ms/step - loss: 2.1978 - accuracy: 0.2692 - val_loss: 2.0374 - val_accuracy: 0.2920\n",
      "Epoch 3/100\n",
      "945/945 [==============================] - 55s 59ms/step - loss: 1.8453 - accuracy: 0.3507 - val_loss: 1.5988 - val_accuracy: 0.4363\n",
      "Epoch 4/100\n",
      "945/945 [==============================] - 53s 56ms/step - loss: 1.4614 - accuracy: 0.4673 - val_loss: 1.2255 - val_accuracy: 0.5539\n",
      "Epoch 5/100\n",
      "945/945 [==============================] - 52s 55ms/step - loss: 1.0855 - accuracy: 0.6097 - val_loss: 0.8347 - val_accuracy: 0.7006\n",
      "Epoch 6/100\n",
      "945/945 [==============================] - 47s 49ms/step - loss: 0.8080 - accuracy: 0.7175 - val_loss: 0.6270 - val_accuracy: 0.7875\n",
      "Epoch 7/100\n",
      "945/945 [==============================] - 50s 53ms/step - loss: 0.6243 - accuracy: 0.7948 - val_loss: 0.5381 - val_accuracy: 0.8247\n",
      "Epoch 8/100\n",
      "945/945 [==============================] - 43s 46ms/step - loss: 0.4959 - accuracy: 0.8433 - val_loss: 0.4280 - val_accuracy: 0.8622\n",
      "Epoch 9/100\n",
      "945/945 [==============================] - 37s 39ms/step - loss: 0.4198 - accuracy: 0.8710 - val_loss: 0.3992 - val_accuracy: 0.8699\n",
      "Epoch 10/100\n",
      "945/945 [==============================] - 39s 42ms/step - loss: 0.3655 - accuracy: 0.8873 - val_loss: 0.3750 - val_accuracy: 0.8762\n",
      "Epoch 11/100\n",
      "945/945 [==============================] - 45s 47ms/step - loss: 0.3319 - accuracy: 0.8974 - val_loss: 0.2926 - val_accuracy: 0.9018\n",
      "Epoch 12/100\n",
      "945/945 [==============================] - 52s 55ms/step - loss: 0.3004 - accuracy: 0.9099 - val_loss: 0.2730 - val_accuracy: 0.9095\n",
      "Epoch 13/100\n",
      "945/945 [==============================] - 41s 43ms/step - loss: 0.2806 - accuracy: 0.9143 - val_loss: 0.2627 - val_accuracy: 0.9149\n",
      "Epoch 14/100\n",
      "945/945 [==============================] - 51s 54ms/step - loss: 0.2564 - accuracy: 0.9234 - val_loss: 0.2384 - val_accuracy: 0.9217\n",
      "Epoch 15/100\n",
      "945/945 [==============================] - 54s 57ms/step - loss: 0.2425 - accuracy: 0.9269 - val_loss: 0.2189 - val_accuracy: 0.9336\n",
      "Epoch 16/100\n",
      "945/945 [==============================] - 47s 49ms/step - loss: 0.2265 - accuracy: 0.9315 - val_loss: 0.2368 - val_accuracy: 0.9253\n",
      "Epoch 17/100\n",
      "945/945 [==============================] - 54s 57ms/step - loss: 0.2162 - accuracy: 0.9357 - val_loss: 0.2106 - val_accuracy: 0.9324\n",
      "Epoch 18/100\n",
      "945/945 [==============================] - 39s 41ms/step - loss: 0.2036 - accuracy: 0.9373 - val_loss: 0.2040 - val_accuracy: 0.9339\n",
      "Epoch 19/100\n",
      "945/945 [==============================] - 42s 45ms/step - loss: 0.1944 - accuracy: 0.9427 - val_loss: 0.1878 - val_accuracy: 0.9351\n",
      "Epoch 20/100\n",
      "945/945 [==============================] - 36s 38ms/step - loss: 0.1803 - accuracy: 0.9459 - val_loss: 0.1813 - val_accuracy: 0.9405\n",
      "Epoch 21/100\n",
      "945/945 [==============================] - 33s 35ms/step - loss: 0.1739 - accuracy: 0.9469 - val_loss: 0.1763 - val_accuracy: 0.9384\n",
      "Epoch 22/100\n",
      "945/945 [==============================] - 44s 46ms/step - loss: 0.1651 - accuracy: 0.9514 - val_loss: 0.1625 - val_accuracy: 0.9452\n",
      "Epoch 23/100\n",
      "945/945 [==============================] - 60s 64ms/step - loss: 0.1628 - accuracy: 0.9520 - val_loss: 0.1618 - val_accuracy: 0.9479\n",
      "Epoch 24/100\n",
      "945/945 [==============================] - 44s 46ms/step - loss: 0.1510 - accuracy: 0.9548 - val_loss: 0.1567 - val_accuracy: 0.9479\n",
      "Epoch 25/100\n",
      "945/945 [==============================] - 50s 53ms/step - loss: 0.1457 - accuracy: 0.9563 - val_loss: 0.1718 - val_accuracy: 0.9452\n",
      "Epoch 26/100\n",
      "945/945 [==============================] - 38s 41ms/step - loss: 0.1402 - accuracy: 0.9583 - val_loss: 0.1776 - val_accuracy: 0.9497\n",
      "Epoch 27/100\n",
      "945/945 [==============================] - 37s 39ms/step - loss: 0.1372 - accuracy: 0.9579 - val_loss: 0.1533 - val_accuracy: 0.9521\n",
      "Epoch 28/100\n",
      "945/945 [==============================] - 39s 42ms/step - loss: 0.1319 - accuracy: 0.9597 - val_loss: 0.1500 - val_accuracy: 0.9548\n",
      "Epoch 29/100\n",
      "945/945 [==============================] - 40s 42ms/step - loss: 0.1265 - accuracy: 0.9624 - val_loss: 0.1329 - val_accuracy: 0.9551\n",
      "Epoch 30/100\n",
      "945/945 [==============================] - 48s 50ms/step - loss: 0.1224 - accuracy: 0.9633 - val_loss: 0.1409 - val_accuracy: 0.9551\n",
      "Epoch 31/100\n",
      "945/945 [==============================] - 52s 55ms/step - loss: 0.1151 - accuracy: 0.9653 - val_loss: 0.1431 - val_accuracy: 0.9560\n",
      "Epoch 32/100\n",
      "945/945 [==============================] - 63s 67ms/step - loss: 0.1167 - accuracy: 0.9659 - val_loss: 0.1422 - val_accuracy: 0.9568\n",
      "Epoch 33/100\n",
      "945/945 [==============================] - 65s 69ms/step - loss: 0.1077 - accuracy: 0.9668 - val_loss: 0.1458 - val_accuracy: 0.9539\n",
      "Epoch 34/100\n",
      "945/945 [==============================] - 51s 54ms/step - loss: 0.1059 - accuracy: 0.9679 - val_loss: 0.1231 - val_accuracy: 0.9622\n",
      "Epoch 35/100\n",
      "945/945 [==============================] - 61s 65ms/step - loss: 0.1030 - accuracy: 0.9692 - val_loss: 0.1354 - val_accuracy: 0.9577\n",
      "Epoch 36/100\n",
      "945/945 [==============================] - 49s 52ms/step - loss: 0.1005 - accuracy: 0.9699 - val_loss: 0.1256 - val_accuracy: 0.9643\n",
      "Epoch 37/100\n",
      "945/945 [==============================] - 47s 50ms/step - loss: 0.0979 - accuracy: 0.9708 - val_loss: 0.1195 - val_accuracy: 0.9646\n",
      "Epoch 38/100\n",
      "945/945 [==============================] - 40s 42ms/step - loss: 0.0961 - accuracy: 0.9711 - val_loss: 0.1130 - val_accuracy: 0.9673\n",
      "Epoch 39/100\n",
      "945/945 [==============================] - 41s 43ms/step - loss: 0.0917 - accuracy: 0.9718 - val_loss: 0.1208 - val_accuracy: 0.9622\n",
      "Epoch 40/100\n",
      "945/945 [==============================] - 48s 50ms/step - loss: 0.0883 - accuracy: 0.9730 - val_loss: 0.1131 - val_accuracy: 0.9658\n",
      "Epoch 41/100\n",
      "945/945 [==============================] - 45s 48ms/step - loss: 0.0837 - accuracy: 0.9746 - val_loss: 0.1087 - val_accuracy: 0.9682\n",
      "Epoch 42/100\n",
      "945/945 [==============================] - 46s 49ms/step - loss: 0.0869 - accuracy: 0.9737 - val_loss: 0.1085 - val_accuracy: 0.9673\n",
      "Epoch 43/100\n",
      "945/945 [==============================] - 43s 46ms/step - loss: 0.0830 - accuracy: 0.9753 - val_loss: 0.1123 - val_accuracy: 0.9649\n",
      "Epoch 44/100\n",
      "945/945 [==============================] - 41s 44ms/step - loss: 0.0800 - accuracy: 0.9744 - val_loss: 0.1134 - val_accuracy: 0.9664\n",
      "Epoch 45/100\n",
      "945/945 [==============================] - 42s 44ms/step - loss: 0.0793 - accuracy: 0.9758 - val_loss: 0.1175 - val_accuracy: 0.9634\n",
      "Epoch 46/100\n",
      "945/945 [==============================] - 54s 57ms/step - loss: 0.0760 - accuracy: 0.9769 - val_loss: 0.1068 - val_accuracy: 0.9655\n",
      "Epoch 47/100\n",
      "945/945 [==============================] - 42s 45ms/step - loss: 0.0729 - accuracy: 0.9779 - val_loss: 0.1086 - val_accuracy: 0.9667\n",
      "Epoch 48/100\n",
      "945/945 [==============================] - 34s 36ms/step - loss: 0.0735 - accuracy: 0.9776 - val_loss: 0.1084 - val_accuracy: 0.9664\n",
      "Epoch 49/100\n",
      "945/945 [==============================] - 31s 33ms/step - loss: 0.0689 - accuracy: 0.9790 - val_loss: 0.1095 - val_accuracy: 0.9661\n",
      "Epoch 50/100\n",
      "945/945 [==============================] - 33s 35ms/step - loss: 0.0691 - accuracy: 0.9794 - val_loss: 0.1019 - val_accuracy: 0.9685\n",
      "Epoch 51/100\n",
      "945/945 [==============================] - 34s 36ms/step - loss: 0.0656 - accuracy: 0.9799 - val_loss: 0.1049 - val_accuracy: 0.9714\n",
      "Epoch 52/100\n",
      "945/945 [==============================] - 46s 49ms/step - loss: 0.0667 - accuracy: 0.9790 - val_loss: 0.1095 - val_accuracy: 0.9676\n",
      "Epoch 53/100\n",
      "945/945 [==============================] - 51s 53ms/step - loss: 0.0644 - accuracy: 0.9800 - val_loss: 0.1193 - val_accuracy: 0.9682\n",
      "Epoch 54/100\n",
      "945/945 [==============================] - 36s 38ms/step - loss: 0.0624 - accuracy: 0.9814 - val_loss: 0.1041 - val_accuracy: 0.9682\n",
      "Epoch 55/100\n",
      "945/945 [==============================] - 37s 39ms/step - loss: 0.0598 - accuracy: 0.9815 - val_loss: 0.1134 - val_accuracy: 0.9649\n"
     ]
    }
   ],
   "source": [
    "history = model.fit(x_train, y_train, epochs=100, batch_size=32, validation_split=0.1,callbacks=[early_stop])"
   ]
  },
  {
   "cell_type": "markdown",
   "id": "92c1f28f",
   "metadata": {},
   "source": [
    "# Metrics"
   ]
  },
  {
   "cell_type": "code",
   "execution_count": 15,
   "id": "f55b3d61",
   "metadata": {},
   "outputs": [],
   "source": [
    "metrics=pd.DataFrame(model.history.history)"
   ]
  },
  {
   "cell_type": "code",
   "execution_count": 16,
   "id": "8a1079fd",
   "metadata": {},
   "outputs": [
    {
     "data": {
      "text/plain": [
       "<Axes: >"
      ]
     },
     "execution_count": 16,
     "metadata": {},
     "output_type": "execute_result"
    },
    {
     "data": {
      "image/png": "[encoded data removed]",
      "text/plain": [
       "<Figure size 640x480 with 1 Axes>"
      ]
     },
     "metadata": {},
     "output_type": "display_data"
    }
   ],
   "source": [
    "metrics[['loss','val_loss']].plot()"
   ]
  },
  {
   "cell_type": "code",
   "execution_count": 17,
   "id": "0399c31c",
   "metadata": {},
   "outputs": [
    {
     "data": {
      "text/plain": [
       "<Axes: >"
      ]
     },
     "execution_count": 17,
     "metadata": {},
     "output_type": "execute_result"
    },
    {
     "data": {
      "image/png": "[encoded data removed]",
      "text/plain": [
       "<Figure size 640x480 with 1 Axes>"
      ]
     },
     "metadata": {},
     "output_type": "display_data"
    }
   ],
   "source": [
    "metrics[['accuracy', 'val_accuracy']].plot()"
   ]
  },
  {
   "cell_type": "code",
   "execution_count": 18,
   "id": "65ef049d",
   "metadata": {},
   "outputs": [
    {
     "name": "stderr",
     "output_type": "stream",
     "text": [
      "WARNING:absl:You are saving your model as an HDF5 file via `model.save()` or `keras.saving.save_model(model)`. This file format is considered legacy. We recommend using instead the native Keras format, e.g. `model.save('my_model.keras')` or `keras.saving.save_model(model, 'my_model.keras')`. \n"
     ]
    }
   ],
   "source": [
    "model.save(\"model/mnist_lstm.h5\")"
   ]
  },
  {
   "cell_type": "code",
   "execution_count": 19,
   "id": "a29b4a5f",
   "metadata": {},
   "outputs": [
    {
     "name": "stderr",
     "output_type": "stream",
     "text": [
      "WARNING:absl:Compiled the loaded model, but the compiled metrics have yet to be built. `model.compile_metrics` will be empty until you train or evaluate the model.\n"
     ]
    }
   ],
   "source": [
    "from keras.models import load_model\n",
    "model= load_model(\"model/mnist_lstm.h5\")"
   ]
  },
  {
   "cell_type": "markdown",
   "id": "4e616825",
   "metadata": {},
   "source": [
    "# Predict on Test data"
   ]
  },
  {
   "cell_type": "code",
   "execution_count": 20,
   "id": "8370590d",
   "metadata": {},
   "outputs": [
    {
     "data": {
      "text/plain": [
       "(8400, 28, 28)"
      ]
     },
     "execution_count": 20,
     "metadata": {},
     "output_type": "execute_result"
    }
   ],
   "source": [
    "x_test.shape"
   ]
  },
  {
   "cell_type": "code",
   "execution_count": 21,
   "id": "2a27ff53-497c-4927-b83e-5355f2c34ef6",
   "metadata": {},
   "outputs": [
    {
     "name": "stdout",
     "output_type": "stream",
     "text": [
      "\u001b[1m263/263\u001b[0m \u001b[32m━━━━━━━━━━━━━━━━━━━━\u001b[0m\u001b[37m\u001b[0m \u001b[1m6s\u001b[0m 18ms/step\n"
     ]
    }
   ],
   "source": [
    "y_pred = model.predict(x_test)"
   ]
  },
  {
   "cell_type": "code",
   "execution_count": 22,
   "id": "260b77c7",
   "metadata": {},
   "outputs": [
    {
     "data": {
      "text/plain": [
       "array([[2.6004219e-07, 9.9836308e-01, 3.5978446e-05, ..., 1.6822388e-04,\n",
       "        1.1644567e-03, 1.9957513e-05],\n",
       "       [1.4523414e-05, 3.6449308e-07, 1.4098631e-06, ..., 2.6428429e-04,\n",
       "        2.1524636e-04, 9.9797565e-01],\n",
       "       [3.6683131e-04, 3.1120371e-04, 1.4005830e-03, ..., 2.8767212e-07,\n",
       "        6.7665690e-04, 3.1854049e-06],\n",
       "       ...,\n",
       "       [5.9097641e-08, 9.9943608e-01, 3.4665278e-05, ..., 3.1036721e-04,\n",
       "        7.8672514e-05, 4.9202781e-06],\n",
       "       [7.2259327e-06, 3.7612087e-06, 1.3251095e-06, ..., 4.6353221e-06,\n",
       "        5.8213028e-04, 2.0911590e-04],\n",
       "       [9.9302882e-01, 1.1104256e-06, 2.5739993e-03, ..., 1.3449779e-04,\n",
       "        5.8521185e-04, 1.4656147e-03]], dtype=float32)"
      ]
     },
     "execution_count": 22,
     "metadata": {},
     "output_type": "execute_result"
    }
   ],
   "source": [
    "y_pred"
   ]
  },
  {
   "cell_type": "code",
   "execution_count": 23,
   "id": "2c87d2fd",
   "metadata": {},
   "outputs": [],
   "source": [
    "y_pred = np.argmax(y_pred, axis=1)"
   ]
  },
  {
   "cell_type": "code",
   "execution_count": 24,
   "id": "c9f57ca0",
   "metadata": {},
   "outputs": [
    {
     "data": {
      "text/plain": [
       "array([1, 9, 6, ..., 1, 5, 0], dtype=int64)"
      ]
     },
     "execution_count": 24,
     "metadata": {},
     "output_type": "execute_result"
    }
   ],
   "source": [
    "y_pred"
   ]
  },
  {
   "cell_type": "markdown",
   "id": "4e1c0bce-ea04-4d65-9eb2-6b596d707c01",
   "metadata": {},
   "source": [
    "<h2>Model Evaluation</h2>"
   ]
  },
  {
   "cell_type": "code",
   "execution_count": 25,
   "id": "3f7d2973-0873-4f9c-a7ed-2d2dfa0e6b8a",
   "metadata": {},
   "outputs": [],
   "source": [
    "from sklearn.metrics import accuracy_score,recall_score, precision_score, f1_score,classification_report"
   ]
  },
  {
   "cell_type": "code",
   "execution_count": 26,
   "id": "4d67d3cc",
   "metadata": {},
   "outputs": [
    {
     "name": "stdout",
     "output_type": "stream",
     "text": [
      "Model's acuracy : 0.9530952380952381\n",
      "Recall-Score : 0.9533567723160511\n",
      "Precision-Score : 0.9526603755783014\n",
      "F1-Score : 0.9527289076481681\n"
     ]
    }
   ],
   "source": [
    "print(\"Model's acuracy :\",accuracy_score(y_pred,y_test))\n",
    "print(\"Recall-Score :\",recall_score(y_pred,y_test,average=\"macro\"))\n",
    "print(\"Precision-Score :\",precision_score(y_pred,y_test,average=\"macro\"))\n",
    "print(\"F1-Score :\",f1_score(y_pred,y_test,average=\"macro\"))"
   ]
  },
  {
   "cell_type": "code",
   "execution_count": 27,
   "id": "f83b3873-51a9-4050-9623-6101076b61f5",
   "metadata": {},
   "outputs": [
    {
     "name": "stdout",
     "output_type": "stream",
     "text": [
      "              precision    recall  f1-score   support\n",
      "\n",
      "           0       0.97      0.98      0.98       842\n",
      "           1       0.99      0.96      0.97       958\n",
      "           2       0.94      0.96      0.95       833\n",
      "           3       0.97      0.91      0.94       929\n",
      "           4       0.96      0.95      0.95       830\n",
      "           5       0.96      0.96      0.96       773\n",
      "           6       0.95      0.98      0.96       790\n",
      "           7       0.94      0.98      0.96       870\n",
      "           8       0.96      0.92      0.94       809\n",
      "           9       0.90      0.94      0.92       766\n",
      "\n",
      "    accuracy                           0.95      8400\n",
      "   macro avg       0.95      0.95      0.95      8400\n",
      "weighted avg       0.95      0.95      0.95      8400\n",
      "\n"
     ]
    }
   ],
   "source": [
    "print(classification_report(y_pred,y_test))"
   ]
  },
  {
   "cell_type": "markdown",
   "id": "592678ef",
   "metadata": {},
   "source": [
    "# Confusion Matrix"
   ]
  },
  {
   "cell_type": "code",
   "execution_count": 28,
   "id": "5dee04b1",
   "metadata": {},
   "outputs": [],
   "source": [
    "import seaborn as sns\n",
    "from sklearn.metrics import confusion_matrix"
   ]
  },
  {
   "cell_type": "code",
   "execution_count": 29,
   "id": "6a1df9c4",
   "metadata": {},
   "outputs": [
    {
     "data": {
      "image/png": "[encoded data removed]",
      "text/plain": [
       "<Figure size 800x600 with 2 Axes>"
      ]
     },
     "metadata": {},
     "output_type": "display_data"
    }
   ],
   "source": [
    "# Compute confusion matrix\n",
    "cm = confusion_matrix(y_pred , y_test)\n",
    "\n",
    "# Plot confusion matrix as a heatmap\n",
    "plt.figure(figsize=(8, 6))\n",
    "sns.heatmap(cm, annot=True, fmt='d', cmap='Blues', xticklabels=categories, yticklabels=categories)\n",
    "plt.xlabel('Predicted label')\n",
    "plt.ylabel('True label')\n",
    "plt.title('Confusion Matrix')\n",
    "plt.show()"
   ]
  },
  {
   "cell_type": "markdown",
   "id": "d099512d",
   "metadata": {},
   "source": [
    "# Predict"
   ]
  },
  {
   "cell_type": "code",
   "execution_count": 30,
   "id": "40d949f6",
   "metadata": {},
   "outputs": [],
   "source": [
    "def classify_image(image):\n",
    "    plt.imshow(cv2.resize(image,(28,28)),cmap='gray')\n",
    "    print(image.shape)\n",
    "    image = np.expand_dims(image, axis=0)\n",
    "    print(image.shape)\n",
    "    # Perform prediction\n",
    "    prediction = np.argmax(model.predict(image))\n",
    "    \n",
    "    return prediction"
   ]
  },
  {
   "cell_type": "code",
   "execution_count": 31,
   "id": "7a37c2fe",
   "metadata": {},
   "outputs": [
    {
     "name": "stdout",
     "output_type": "stream",
     "text": [
      "(28, 28)\n",
      "(1, 28, 28)\n",
      "\u001b[1m1/1\u001b[0m \u001b[32m━━━━━━━━━━━━━━━━━━━━\u001b[0m\u001b[37m\u001b[0m \u001b[1m0s\u001b[0m 105ms/step\n"
     ]
    },
    {
     "data": {
      "text/plain": [
       "1"
      ]
     },
     "execution_count": 31,
     "metadata": {},
     "output_type": "execute_result"
    },
    {
     "data": {
      "image/png": "[encoded data removed]",
      "text/plain": [
       "<Figure size 640x480 with 1 Axes>"
      ]
     },
     "metadata": {},
     "output_type": "display_data"
    }
   ],
   "source": [
    "classify_image(x_test[0])"
   ]
  },
  {
   "cell_type": "markdown",
   "id": "7298d913",
   "metadata": {},
   "source": [
    "# Custom"
   ]
  },
  {
   "cell_type": "code",
   "execution_count": 32,
   "id": "b5022fd9",
   "metadata": {},
   "outputs": [],
   "source": [
    "def classify_image_custom(image):\n",
    "    image = cv2.resize(image, (28, 28))\n",
    "    print(image.shape)\n",
    "    plt.imshow(image,cmap='gray')\n",
    "    image = tf.keras.utils.normalize(image, axis=1)\n",
    "    # plt.imshow(image,cmap='gray')\n",
    "    plt.show()\n",
    "    image = np.expand_dims(image, axis=0)\n",
    "    # Perform prediction\n",
    "    prediction = np.argmax(model.predict(image))\n",
    "    \n",
    "    return prediction"
   ]
  },
  {
   "cell_type": "code",
   "execution_count": 33,
   "id": "f6ac69ba",
   "metadata": {},
   "outputs": [
    {
     "name": "stdout",
     "output_type": "stream",
     "text": [
      "(28, 28)\n"
     ]
    },
    {
     "data": {
      "image/png": "[encoded data removed]",
      "text/plain": [
       "<Figure size 640x480 with 1 Axes>"
      ]
     },
     "metadata": {},
     "output_type": "display_data"
    },
    {
     "name": "stdout",
     "output_type": "stream",
     "text": [
      "\u001b[1m1/1\u001b[0m \u001b[32m━━━━━━━━━━━━━━━━━━━━\u001b[0m\u001b[37m\u001b[0m \u001b[1m0s\u001b[0m 95ms/step\n"
     ]
    },
    {
     "data": {
      "text/plain": [
       "0"
      ]
     },
     "execution_count": 33,
     "metadata": {},
     "output_type": "execute_result"
    }
   ],
   "source": [
    "img = cv2.imread('data/test/img_2.jpg', cv2.IMREAD_GRAYSCALE)\n",
    "classify_image_custom(img)"
   ]
  },
  {
   "cell_type": "code",
   "execution_count": null,
   "id": "6bfe4f5d",
   "metadata": {},
   "outputs": [],
   "source": []
  }
 ],
 "metadata": {
  "kernelspec": {
   "display_name": "Python 3.8.20",
   "language": "python",
   "name": "daks"
  },
  "language_info": {
   "codemirror_mode": {
    "name": "ipython",
    "version": 3
   },
   "file_extension": ".py",
   "mimetype": "text/x-python",
   "name": "python",
   "nbconvert_exporter": "python",
   "pygments_lexer": "ipython3",
   "version": "3.8.20"
  }
 },
 "nbformat": 4,
 "nbformat_minor": 5
}

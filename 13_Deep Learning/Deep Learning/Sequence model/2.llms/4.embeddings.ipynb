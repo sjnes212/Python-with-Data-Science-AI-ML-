{
 "cells": [
  {
   "cell_type": "code",
   "execution_count": 1,
   "metadata": {},
   "outputs": [
    {
     "name": "stdout",
     "output_type": "stream",
     "text": [
      "Collecting sentence_transformers\n",
      "  Downloading sentence_transformers-3.2.1-py3-none-any.whl.metadata (10 kB)\n",
      "Requirement already satisfied: transformers<5.0.0,>=4.41.0 in c:\\users\\silwa\\.conda\\envs\\daks\\lib\\site-packages (from sentence_transformers) (4.46.3)\n",
      "Requirement already satisfied: tqdm in c:\\users\\silwa\\.conda\\envs\\daks\\lib\\site-packages (from sentence_transformers) (4.67.1)\n",
      "Requirement already satisfied: torch>=1.11.0 in c:\\users\\silwa\\.conda\\envs\\daks\\lib\\site-packages (from sentence_transformers) (2.4.1)\n",
      "Requirement already satisfied: scikit-learn in c:\\users\\silwa\\.conda\\envs\\daks\\lib\\site-packages (from sentence_transformers) (1.3.2)\n",
      "Requirement already satisfied: scipy in c:\\users\\silwa\\.conda\\envs\\daks\\lib\\site-packages (from sentence_transformers) (1.10.1)\n",
      "Requirement already satisfied: huggingface-hub>=0.20.0 in c:\\users\\silwa\\.conda\\envs\\daks\\lib\\site-packages (from sentence_transformers) (0.27.1)\n",
      "Requirement already satisfied: Pillow in c:\\users\\silwa\\.conda\\envs\\daks\\lib\\site-packages (from sentence_transformers) (10.4.0)\n",
      "Requirement already satisfied: filelock in c:\\users\\silwa\\.conda\\envs\\daks\\lib\\site-packages (from huggingface-hub>=0.20.0->sentence_transformers) (3.16.1)\n",
      "Requirement already satisfied: fsspec>=2023.5.0 in c:\\users\\silwa\\.conda\\envs\\daks\\lib\\site-packages (from huggingface-hub>=0.20.0->sentence_transformers) (2024.12.0)\n",
      "Requirement already satisfied: packaging>=20.9 in c:\\users\\silwa\\.conda\\envs\\daks\\lib\\site-packages (from huggingface-hub>=0.20.0->sentence_transformers) (24.2)\n",
      "Requirement already satisfied: pyyaml>=5.1 in c:\\users\\silwa\\appdata\\roaming\\python\\python38\\site-packages (from huggingface-hub>=0.20.0->sentence_transformers) (6.0.2)\n",
      "Requirement already satisfied: requests in c:\\users\\silwa\\.conda\\envs\\daks\\lib\\site-packages (from huggingface-hub>=0.20.0->sentence_transformers) (2.32.3)\n",
      "Requirement already satisfied: typing-extensions>=3.7.4.3 in c:\\users\\silwa\\.conda\\envs\\daks\\lib\\site-packages (from huggingface-hub>=0.20.0->sentence_transformers) (4.12.2)\n",
      "Requirement already satisfied: sympy in c:\\users\\silwa\\.conda\\envs\\daks\\lib\\site-packages (from torch>=1.11.0->sentence_transformers) (1.13.3)\n",
      "Requirement already satisfied: networkx in c:\\users\\silwa\\appdata\\roaming\\python\\python38\\site-packages (from torch>=1.11.0->sentence_transformers) (3.1)\n",
      "Requirement already satisfied: jinja2 in c:\\users\\silwa\\.conda\\envs\\daks\\lib\\site-packages (from torch>=1.11.0->sentence_transformers) (3.1.5)\n",
      "Requirement already satisfied: colorama in c:\\users\\silwa\\.conda\\envs\\daks\\lib\\site-packages (from tqdm->sentence_transformers) (0.4.6)\n",
      "Requirement already satisfied: numpy>=1.17 in c:\\users\\silwa\\.conda\\envs\\daks\\lib\\site-packages (from transformers<5.0.0,>=4.41.0->sentence_transformers) (1.24.3)\n",
      "Requirement already satisfied: regex!=2019.12.17 in c:\\users\\silwa\\.conda\\envs\\daks\\lib\\site-packages (from transformers<5.0.0,>=4.41.0->sentence_transformers) (2024.11.6)\n",
      "Requirement already satisfied: tokenizers<0.21,>=0.20 in c:\\users\\silwa\\.conda\\envs\\daks\\lib\\site-packages (from transformers<5.0.0,>=4.41.0->sentence_transformers) (0.20.3)\n",
      "Requirement already satisfied: safetensors>=0.4.1 in c:\\users\\silwa\\.conda\\envs\\daks\\lib\\site-packages (from transformers<5.0.0,>=4.41.0->sentence_transformers) (0.5.2)\n",
      "Requirement already satisfied: joblib>=1.1.1 in c:\\users\\silwa\\.conda\\envs\\daks\\lib\\site-packages (from scikit-learn->sentence_transformers) (1.4.2)\n",
      "Requirement already satisfied: threadpoolctl>=2.0.0 in c:\\users\\silwa\\.conda\\envs\\daks\\lib\\site-packages (from scikit-learn->sentence_transformers) (3.5.0)\n",
      "Requirement already satisfied: MarkupSafe>=2.0 in c:\\users\\silwa\\.conda\\envs\\daks\\lib\\site-packages (from jinja2->torch>=1.11.0->sentence_transformers) (2.1.5)\n",
      "Requirement already satisfied: charset-normalizer<4,>=2 in c:\\users\\silwa\\.conda\\envs\\daks\\lib\\site-packages (from requests->huggingface-hub>=0.20.0->sentence_transformers) (3.4.1)\n",
      "Requirement already satisfied: idna<4,>=2.5 in c:\\users\\silwa\\.conda\\envs\\daks\\lib\\site-packages (from requests->huggingface-hub>=0.20.0->sentence_transformers) (3.10)\n",
      "Requirement already satisfied: urllib3<3,>=1.21.1 in c:\\users\\silwa\\.conda\\envs\\daks\\lib\\site-packages (from requests->huggingface-hub>=0.20.0->sentence_transformers) (2.2.3)\n",
      "Requirement already satisfied: certifi>=2017.4.17 in c:\\users\\silwa\\.conda\\envs\\daks\\lib\\site-packages (from requests->huggingface-hub>=0.20.0->sentence_transformers) (2024.12.14)\n",
      "Requirement already satisfied: mpmath<1.4,>=1.1.0 in c:\\users\\silwa\\.conda\\envs\\daks\\lib\\site-packages (from sympy->torch>=1.11.0->sentence_transformers) (1.3.0)\n",
      "Downloading sentence_transformers-3.2.1-py3-none-any.whl (255 kB)\n",
      "Installing collected packages: sentence_transformers\n",
      "Successfully installed sentence_transformers-3.2.1\n"
     ]
    }
   ],
   "source": [
    "!pip install sentence_transformers"
   ]
  },
  {
   "cell_type": "code",
   "execution_count": 2,
   "metadata": {},
   "outputs": [],
   "source": [
    "import warnings\n",
    "warnings.filterwarnings(\"ignore\")"
   ]
  },
  {
   "cell_type": "markdown",
   "metadata": {},
   "source": [
    "# Embeddings"
   ]
  },
  {
   "cell_type": "code",
   "execution_count": 3,
   "metadata": {},
   "outputs": [],
   "source": [
    "from sentence_transformers import SentenceTransformer"
   ]
  },
  {
   "cell_type": "markdown",
   "metadata": {},
   "source": [
    "# Load Model"
   ]
  },
  {
   "cell_type": "code",
   "execution_count": 4,
   "metadata": {},
   "outputs": [],
   "source": [
    "model = SentenceTransformer('sentence-transformers/all-MiniLM-L6-v2')"
   ]
  },
  {
   "cell_type": "markdown",
   "metadata": {},
   "source": [
    "# Test"
   ]
  },
  {
   "cell_type": "code",
   "execution_count": 5,
   "metadata": {},
   "outputs": [],
   "source": [
    "sentences = [\"This is an example sentence\", \"Each sentence is converted\"]\n",
    "embeddings = model.encode(sentences)"
   ]
  },
  {
   "cell_type": "code",
   "execution_count": 6,
   "metadata": {},
   "outputs": [
    {
     "name": "stdout",
     "output_type": "stream",
     "text": [
      "[ 8.64386186e-02  1.02762640e-01  5.39459009e-03  2.04444467e-03\n",
      " -9.96333174e-03  2.53855307e-02  4.92875278e-02 -3.06265336e-02\n",
      "  6.87254742e-02  1.01365978e-02  7.75397792e-02 -9.00807604e-02\n",
      "  6.10617967e-03 -5.69898561e-02  1.41714737e-02  2.80491896e-02\n",
      " -8.68465006e-02  7.64399022e-02 -1.03491336e-01 -6.77438080e-02\n",
      "  6.99946731e-02  8.44251215e-02 -7.24912016e-03  1.04770251e-02\n",
      "  1.34020718e-02  6.77577108e-02 -9.42086354e-02 -3.71690020e-02\n",
      "  5.22617474e-02 -3.10853347e-02 -9.63406861e-02  1.57716777e-02\n",
      "  2.57866438e-02  7.85245225e-02  7.89949074e-02  1.91516019e-02\n",
      "  1.64356697e-02  3.10087577e-03  3.81311364e-02  2.37090718e-02\n",
      "  1.05389925e-02 -4.40644659e-02  4.41738851e-02 -2.58727930e-02\n",
      "  6.15378693e-02 -4.05427888e-02 -8.64139870e-02  3.19722369e-02\n",
      " -8.90655385e-04 -2.44437438e-02 -9.19720978e-02  2.33939607e-02\n",
      " -8.30293372e-02  4.41510752e-02 -2.49693133e-02  6.23020530e-02\n",
      " -1.30354939e-03  7.51395598e-02  2.46385187e-02 -6.47244602e-02\n",
      " -1.17727757e-01  3.83392200e-02 -9.11767483e-02  6.35445938e-02\n",
      "  7.62739927e-02 -8.80241320e-02  9.54558980e-03 -4.69717681e-02\n",
      " -8.41740519e-02  3.88824008e-02 -1.14393547e-01  6.28858944e-03\n",
      " -3.49361785e-02  2.39750128e-02 -3.31316851e-02 -1.57243740e-02\n",
      " -3.78955640e-02 -8.81250110e-03  7.06119165e-02  3.28066610e-02\n",
      "  2.03670748e-03 -1.12279005e-01  6.79721404e-03  1.22765806e-02\n",
      "  3.35303992e-02 -1.36200720e-02 -2.25490164e-02 -2.25228965e-02\n",
      " -2.03194916e-02  5.04297465e-02 -7.48652741e-02 -8.22822452e-02\n",
      "  7.65962675e-02  4.93391976e-02 -3.75553370e-02  1.44634498e-02\n",
      " -5.72458208e-02 -1.79954544e-02  1.09697953e-01  1.19462796e-01\n",
      "  8.09218735e-04  6.17057346e-02  3.26322243e-02 -1.30780101e-01\n",
      " -1.48636624e-01 -6.16232529e-02  4.33886014e-02  2.67129280e-02\n",
      "  1.39785958e-02 -3.94002311e-02 -2.52711661e-02  3.87742114e-03\n",
      "  3.58664766e-02 -6.15420267e-02  3.76660526e-02  2.67565195e-02\n",
      " -3.82659324e-02 -3.54793221e-02 -2.39227433e-02  8.67977366e-02\n",
      " -1.84062775e-02  7.71039501e-02  1.39859400e-03  7.00383186e-02\n",
      " -4.77877632e-02 -7.89819732e-02  5.10814711e-02 -2.99868297e-33\n",
      " -3.91646400e-02 -2.56212428e-03  1.65210702e-02  9.48939100e-03\n",
      " -5.66219315e-02  6.57783151e-02 -4.77002710e-02  1.11661917e-02\n",
      " -5.73558509e-02 -9.16259550e-03 -2.17521358e-02 -5.59531748e-02\n",
      " -1.11423098e-02  9.32793096e-02  1.66765172e-02 -1.36723677e-02\n",
      "  4.34388407e-02  1.87244453e-03  7.29948329e-03  5.16332202e-02\n",
      "  4.80608270e-02  1.35341421e-01 -1.71738882e-02 -1.29698580e-02\n",
      " -7.50110149e-02  2.61107851e-02  2.69802064e-02  7.83080002e-04\n",
      " -4.87270579e-02  1.17842667e-02 -4.59580608e-02 -4.83213142e-02\n",
      " -1.95671171e-02  1.93889644e-02  1.98807288e-02  1.67432316e-02\n",
      "  9.87801328e-02 -2.74087656e-02  2.34809089e-02  3.70230130e-03\n",
      " -6.14515133e-02 -1.21230143e-03 -9.50473547e-03  9.25153401e-03\n",
      "  2.38443948e-02  8.61231983e-02  2.26789732e-02  5.45134302e-04\n",
      "  3.47129293e-02  6.25465577e-03 -6.92776730e-03  3.92400324e-02\n",
      "  1.15674883e-02  3.26280147e-02  6.22155555e-02  2.76114438e-02\n",
      "  1.86883416e-02  3.55806202e-02  4.11796197e-02  1.54782515e-02\n",
      "  4.22691517e-02  3.82248424e-02  1.00313174e-02 -2.83245966e-02\n",
      "  4.47052568e-02 -4.10458855e-02 -4.50547598e-03 -5.44734262e-02\n",
      "  2.62320656e-02  1.79862622e-02 -1.23118743e-01 -4.66952100e-02\n",
      " -1.35913156e-02  6.46710768e-02  3.57349613e-03 -1.22233965e-02\n",
      " -1.79382227e-02 -2.55501978e-02  2.37224102e-02  4.08668909e-03\n",
      " -6.51476234e-02  4.43651415e-02  4.68596071e-02 -3.25175226e-02\n",
      "  4.02265880e-03 -3.97606753e-03  1.11939432e-02 -9.95597765e-02\n",
      "  3.33168171e-02  8.01060647e-02  9.42692012e-02 -6.38294369e-02\n",
      "  3.23151648e-02 -5.13553210e-02 -7.49873789e-03  5.30048035e-34\n",
      " -4.13194820e-02  9.49646905e-02 -1.06401421e-01  4.96590547e-02\n",
      " -3.41913216e-02 -3.16745602e-02 -1.71556138e-02  1.70102133e-03\n",
      "  5.79757802e-02 -1.21775281e-03 -1.68536231e-02 -5.16912304e-02\n",
      "  5.52999042e-02 -3.42647545e-02  3.08179427e-02 -3.10480632e-02\n",
      "  9.27532539e-02  3.72663774e-02 -2.37398259e-02  4.45893556e-02\n",
      "  1.46153728e-02  1.16239399e-01 -5.00112772e-02  3.88716348e-02\n",
      "  4.24741907e-03  2.56976653e-02  3.27243507e-02  4.29907516e-02\n",
      " -1.36144720e-02  2.56121922e-02  1.06262350e-02 -8.46863911e-02\n",
      " -9.52982306e-02  1.08399853e-01 -7.51600116e-02 -1.37773305e-02\n",
      "  6.37338385e-02 -4.49670106e-03 -3.25321406e-02  6.23613931e-02\n",
      "  3.48053165e-02 -3.54922414e-02 -2.00222488e-02  3.66608202e-02\n",
      " -2.48837043e-02  1.01818396e-02 -7.01233074e-02 -4.31951135e-02\n",
      "  2.95333043e-02 -2.94897152e-04 -3.45386937e-02  1.46676069e-02\n",
      " -9.83969569e-02 -4.70487997e-02 -8.85497779e-03 -8.89913887e-02\n",
      "  3.50996107e-02 -1.29601985e-01 -4.98866327e-02 -6.12047128e-02\n",
      " -5.97797856e-02  9.46318451e-03  4.91217524e-02 -7.75026679e-02\n",
      "  8.09727535e-02 -4.79257703e-02  2.34378478e-03  7.57031292e-02\n",
      " -2.40175501e-02 -1.52546102e-02  4.86738607e-02 -3.85968462e-02\n",
      " -7.04831481e-02 -1.20348325e-02 -3.88790555e-02 -7.76017085e-02\n",
      " -1.07243825e-02  1.04188006e-02 -2.13754009e-02 -9.17386487e-02\n",
      " -1.11344792e-02 -2.96066254e-02  2.46458128e-02  4.65710741e-03\n",
      " -1.63449664e-02 -3.95219587e-02  7.73373842e-02 -2.84732878e-02\n",
      " -3.69940023e-03  8.27665329e-02 -1.10409427e-02  3.13983113e-02\n",
      "  5.35094514e-02  5.75145595e-02 -3.17622237e-02 -1.52911266e-08\n",
      " -7.99661279e-02 -4.76796851e-02 -8.59788880e-02  5.69616966e-02\n",
      " -4.08866741e-02  2.23832317e-02 -4.64447960e-03 -3.80130671e-02\n",
      " -3.10671069e-02 -1.07278088e-02  1.97698511e-02  7.77003681e-03\n",
      " -6.09470485e-03 -3.86375748e-02  2.80271824e-02  6.78137615e-02\n",
      " -2.35351883e-02  3.21747027e-02  8.02536681e-03 -2.39107441e-02\n",
      " -1.21995620e-03  3.14598717e-02 -5.24924137e-02 -8.06814060e-03\n",
      "  3.14776623e-03  5.11496365e-02 -4.44104485e-02  6.36013523e-02\n",
      "  3.85084078e-02  3.30433398e-02 -4.18728171e-03  4.95592803e-02\n",
      " -5.69605418e-02 -6.49710884e-03 -2.49792952e-02 -1.60866864e-02\n",
      "  6.62289709e-02 -2.06310973e-02  1.08045734e-01  1.68547146e-02\n",
      "  1.43812140e-02 -1.32127302e-02 -1.29387408e-01  6.95216507e-02\n",
      " -5.55772707e-02 -6.75413162e-02 -5.45820827e-03 -6.13595359e-03\n",
      "  3.90841104e-02 -6.28779158e-02  3.74063365e-02 -1.16570946e-02\n",
      "  1.29150003e-02 -5.52495457e-02  5.16075641e-02 -4.30842442e-03\n",
      "  5.80247715e-02  1.86945219e-02  2.27810405e-02  3.21665518e-02\n",
      "  5.37978746e-02  7.02849030e-02  7.49312192e-02 -8.41775090e-02]\n"
     ]
    }
   ],
   "source": [
    "print(embeddings[1])"
   ]
  },
  {
   "cell_type": "markdown",
   "metadata": {},
   "source": [
    "# Test Similarity"
   ]
  },
  {
   "cell_type": "code",
   "execution_count": 7,
   "metadata": {},
   "outputs": [],
   "source": [
    "from sklearn.metrics.pairwise import cosine_similarity\n",
    "import numpy as np"
   ]
  },
  {
   "cell_type": "code",
   "execution_count": 8,
   "metadata": {},
   "outputs": [],
   "source": [
    "def similarity(sent1, sent2):\n",
    "    emb1, emb2 = model.encode(sent1), model.encode(sent2)\n",
    "    \n",
    "    # Make inferencebale\n",
    "    emb1= np.expand_dims(emb1, axis=0)\n",
    "    emb2= np.expand_dims(emb2, axis=0)\n",
    "\n",
    "    return cosine_similarity(emb1,emb2)"
   ]
  },
  {
   "cell_type": "code",
   "execution_count": 9,
   "metadata": {},
   "outputs": [
    {
     "data": {
      "text/plain": [
       "array([[0.9211154]], dtype=float32)"
      ]
     },
     "execution_count": 9,
     "metadata": {},
     "output_type": "execute_result"
    }
   ],
   "source": [
    "similarity(\"I love momo\",\"I like momo\")"
   ]
  }
 ],
 "metadata": {
  "kernelspec": {
   "display_name": "Python 3.8.20",
   "language": "python",
   "name": "daks"
  },
  "language_info": {
   "codemirror_mode": {
    "name": "ipython",
    "version": 3
   },
   "file_extension": ".py",
   "mimetype": "text/x-python",
   "name": "python",
   "nbconvert_exporter": "python",
   "pygments_lexer": "ipython3",
   "version": "3.8.20"
  }
 },
 "nbformat": 4,
 "nbformat_minor": 2
}

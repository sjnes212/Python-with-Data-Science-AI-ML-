{
 "cells": [
  {
   "cell_type": "markdown",
   "metadata": {},
   "source": [
    "# Install Python\n"
   ]
  },
  {
   "cell_type": "markdown",
   "metadata": {},
   "source": [
    "https://phoenixnap.com/kb/how-to-install-python-3-windows <br>\n",
    "https://www.youtube.com/watch?v=ERcsRnUQ64s"
   ]
  },
  {
   "cell_type": "markdown",
   "metadata": {},
   "source": [
    "# Virutal Environments"
   ]
  },
  {
   "cell_type": "markdown",
   "metadata": {},
   "source": []
  },
  {
   "cell_type": "markdown",
   "metadata": {},
   "source": [
    "### <li> Creates a isolated python environments so there won't be dependencies conflicts.\n",
    "### <li> Suppose you are working on 2 different projects. One project needs a scikit-learn version of 2.2 and the other 3.2. <br>  In this case two different separate virual environment comes to rescue.  "
   ]
  },
  {
   "cell_type": "markdown",
   "metadata": {},
   "source": [
    "# Two Ways"
   ]
  },
  {
   "cell_type": "markdown",
   "metadata": {},
   "source": [
    "### <li> Anaconda(MiniConda)\n",
    "### <li> Virual Env"
   ]
  },
  {
   "cell_type": "markdown",
   "metadata": {},
   "source": [
    "# Virtual Env"
   ]
  },
  {
   "cell_type": "markdown",
   "metadata": {},
   "source": [
    "### <li> Installation: $ pip install virtualenv\n",
    "### <li> Creating:  \n",
    "        virtualenv virtualenv_name\n",
    "### <li> Activating:\n",
    "        source virtualenv_name/bin/activate\n",
    "### <li> Deactivating : \n",
    "         deactivate\n"
   ]
  },
  {
   "cell_type": "markdown",
   "metadata": {},
   "source": [
    "# Anaconda"
   ]
  },
  {
   "cell_type": "markdown",
   "metadata": {},
   "source": [
    "### Installation: https://docs.anaconda.com/anaconda/install/\n",
    "### Vide Reference: https://www.youtube.com/watch?v=UTqOXwAi1pE&t=214s [Follow up to the 2 mins mark]\n",
    "### Add Conda to your Path: https://www.youtube.com/watch?v=HyxR0QTTJJs\n",
    "### Creating:\n",
    "    conda create -n virtualenv_name python=python-version\n",
    "\n",
    "    Suggestted: conda create -n prime python=3.8\n",
    "        Or\n",
    "\n",
    "        conda create -n virtualenv_name python==python-version\n",
    "   \n",
    "### <li> Activating:\n",
    "        conda  activate virtualenv_name\n",
    "        \n",
    "        Suggested: conda activate prime\n",
    "### <li> Deactivating :\n",
    "        conda deactivate\n",
    "\n",
    "### Viewing List of conda environment\n",
    "        conda env list"
   ]
  },
  {
   "cell_type": "markdown",
   "metadata": {},
   "source": [
    "# CLI in notebook"
   ]
  },
  {
   "cell_type": "code",
   "execution_count": 1,
   "metadata": {},
   "outputs": [
    {
     "name": "stdout",
     "output_type": "stream",
     "text": [
      "Package                      Version\n",
      "---------------------------- -----------\n",
      "absl-py                      2.1.0\n",
      "asttokens                    3.0.0\n",
      "astunparse                   1.6.3\n",
      "backcall                     0.2.0\n",
      "cachetools                   5.5.0\n",
      "certifi                      2024.12.14\n",
      "charset-normalizer           3.4.1\n",
      "colorama                     0.4.6\n",
      "comm                         0.2.2\n",
      "contourpy                    1.1.1\n",
      "cycler                       0.12.1\n",
      "debugpy                      1.8.11\n",
      "decorator                    5.1.1\n",
      "executing                    2.1.0\n",
      "flatbuffers                  24.12.23\n",
      "fonttools                    4.55.3\n",
      "gast                         0.4.0\n",
      "google-auth                  2.37.0\n",
      "google-auth-oauthlib         1.0.0\n",
      "google-pasta                 0.2.0\n",
      "grpcio                       1.69.0\n",
      "h5py                         3.11.0\n",
      "idna                         3.10\n",
      "importlib_metadata           8.5.0\n",
      "importlib_resources          6.4.5\n",
      "ipykernel                    6.29.5\n",
      "ipython                      8.12.3\n",
      "jedi                         0.19.2\n",
      "jupyter_client               8.6.3\n",
      "jupyter_core                 5.7.2\n",
      "keras                        2.13.1\n",
      "kiwisolver                   1.4.7\n",
      "libclang                     18.1.1\n",
      "Markdown                     3.7\n",
      "MarkupSafe                   2.1.5\n",
      "matplotlib                   3.7.5\n",
      "matplotlib-inline            0.1.7\n",
      "nest-asyncio                 1.6.0\n",
      "numpy                        1.24.3\n",
      "oauthlib                     3.2.2\n",
      "opt_einsum                   3.4.0\n",
      "packaging                    24.2\n",
      "parso                        0.8.4\n",
      "pickleshare                  0.7.5\n",
      "pillow                       10.4.0\n",
      "pip                          24.2\n",
      "platformdirs                 4.3.6\n",
      "prompt_toolkit               3.0.48\n",
      "protobuf                     4.25.5\n",
      "psutil                       6.1.1\n",
      "pure_eval                    0.2.3\n",
      "pyasn1                       0.6.1\n",
      "pyasn1_modules               0.4.1\n",
      "Pygments                     2.19.1\n",
      "pyparsing                    3.1.4\n",
      "python-dateutil              2.9.0.post0\n",
      "pywin32                      308\n",
      "pyzmq                        26.2.0\n",
      "requests                     2.32.3\n",
      "requests-oauthlib            2.0.0\n",
      "rsa                          4.9\n",
      "setuptools                   75.1.0\n",
      "six                          1.17.0\n",
      "stack-data                   0.6.3\n",
      "tensorboard                  2.13.0\n",
      "tensorboard-data-server      0.7.2\n",
      "tensorflow                   2.13.0\n",
      "tensorflow-estimator         2.13.0\n",
      "tensorflow-intel             2.13.0\n",
      "tensorflow-io-gcs-filesystem 0.31.0\n",
      "termcolor                    2.4.0\n",
      "tornado                      6.4.2\n",
      "traitlets                    5.14.3\n",
      "typing_extensions            4.5.0\n",
      "urllib3                      2.2.3\n",
      "wcwidth                      0.2.13\n",
      "Werkzeug                     3.0.6\n",
      "wheel                        0.44.0\n",
      "wordcloud                    1.9.4\n",
      "wrapt                        1.17.2\n",
      "zipp                         3.20.2\n"
     ]
    }
   ],
   "source": [
    "!pip list"
   ]
  },
  {
   "cell_type": "code",
   "execution_count": 2,
   "metadata": {},
   "outputs": [
    {
     "name": "stdout",
     "output_type": "stream",
     "text": [
      "# conda environments:\n",
      "#\n",
      "base                     C:\\ProgramData\\anaconda3\n",
      "daks                  *  C:\\Users\\silwa\\.conda\\envs\\daks\n",
      "\n"
     ]
    }
   ],
   "source": [
    "!conda env list"
   ]
  },
  {
   "cell_type": "code",
   "execution_count": 3,
   "metadata": {},
   "outputs": [
    {
     "name": "stdout",
     "output_type": "stream",
     "text": [
      "Python 3.8.20\n"
     ]
    }
   ],
   "source": [
    "!python -V"
   ]
  },
  {
   "cell_type": "code",
   "execution_count": 4,
   "metadata": {},
   "outputs": [
    {
     "name": "stdout",
     "output_type": "stream",
     "text": [
      "Collecting scikit-learn\n",
      "  Using cached scikit_learn-1.3.2-cp38-cp38-win_amd64.whl.metadata (11 kB)\n",
      "Requirement already satisfied: numpy<2.0,>=1.17.3 in c:\\users\\silwa\\.conda\\envs\\daks\\lib\\site-packages (from scikit-learn) (1.24.3)\n",
      "Collecting scipy>=1.5.0 (from scikit-learn)\n",
      "  Using cached scipy-1.10.1-cp38-cp38-win_amd64.whl.metadata (58 kB)\n",
      "Collecting joblib>=1.1.1 (from scikit-learn)\n",
      "  Using cached joblib-1.4.2-py3-none-any.whl.metadata (5.4 kB)\n",
      "Collecting threadpoolctl>=2.0.0 (from scikit-learn)\n",
      "  Using cached threadpoolctl-3.5.0-py3-none-any.whl.metadata (13 kB)\n",
      "Using cached scikit_learn-1.3.2-cp38-cp38-win_amd64.whl (9.3 MB)\n",
      "Using cached joblib-1.4.2-py3-none-any.whl (301 kB)\n",
      "Using cached scipy-1.10.1-cp38-cp38-win_amd64.whl (42.2 MB)\n",
      "Using cached threadpoolctl-3.5.0-py3-none-any.whl (18 kB)\n",
      "Installing collected packages: threadpoolctl, scipy, joblib, scikit-learn\n",
      "Successfully installed joblib-1.4.2 scikit-learn-1.3.2 scipy-1.10.1 threadpoolctl-3.5.0\n"
     ]
    }
   ],
   "source": [
    "!pip install scikit-learn"
   ]
  }
 ],
 "metadata": {
  "kernelspec": {
   "display_name": "Python 3.8.20",
   "language": "python",
   "name": "daks"
  },
  "language_info": {
   "codemirror_mode": {
    "name": "ipython",
    "version": 3
   },
   "file_extension": ".py",
   "mimetype": "text/x-python",
   "name": "python",
   "nbconvert_exporter": "python",
   "pygments_lexer": "ipython3",
   "version": "3.8.20"
  }
 },
 "nbformat": 4,
 "nbformat_minor": 2
}

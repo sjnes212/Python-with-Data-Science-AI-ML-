{
 "cells": [
  {
   "cell_type": "markdown",
   "metadata": {},
   "source": [
    "# Assignment "
   ]
  },
  {
   "cell_type": "markdown",
   "metadata": {
    "vscode": {
     "languageId": "plaintext"
    }
   },
   "source": [
    "<li> Try training the MNIST data on different classification models with GridSearchCV"
   ]
  },
  {
   "cell_type": "code",
   "execution_count": 1,
   "metadata": {},
   "outputs": [
    {
     "ename": "NameError",
     "evalue": "name 'SVC' is not defined",
     "output_type": "error",
     "traceback": [
      "\u001b[1;31m---------------------------------------------------------------------------\u001b[0m",
      "\u001b[1;31mNameError\u001b[0m                                 Traceback (most recent call last)",
      "Cell \u001b[1;32mIn[1], line 1\u001b[0m\n\u001b[1;32m----> 1\u001b[0m svc\u001b[38;5;241m=\u001b[39m\u001b[43mSVC\u001b[49m() \u001b[38;5;66;03m# optional Takes time\u001b[39;00m\n\u001b[0;32m      2\u001b[0m dtc\u001b[38;5;241m=\u001b[39mDecisionTreeClassifier()\n\u001b[0;32m      3\u001b[0m rfc\u001b[38;5;241m=\u001b[39mRandomForestClassifier()\n",
      "\u001b[1;31mNameError\u001b[0m: name 'SVC' is not defined"
     ]
    }
   ],
   "source": [
    "\n",
    "# svc=SVC() # optional Takes time\n",
    "dtc=DecisionTreeClassifier()\n",
    "rfc=RandomForestClassifier()\n",
    "\n",
    "models={'dtc':dtc,rfc':rfc,'ada':ada}\n",
    "\n",
    "# params\n",
    "params={    \n",
    "    # 'svc': {'C':[0.1,1,10], \n",
    "    #         'kernel':['rbf','linear']},\n",
    "    \n",
    "    'dtc':{\n",
    "        'criterion':['gini','entropy'],\n",
    "        'max_depth':[2,4,6,8,10,12]\n",
    "    },\n",
    "    \n",
    "    'rfc':{\n",
    "        'criterion':['gini','entropy'],\n",
    "        'max_depth':[2,4,6,8,10,12]\n",
    "    }\n",
    "}\n",
    "\n",
    "# train\n",
    "\n",
    "model_accuracy={}\n",
    "score=0.0001\n",
    "for model in models.keys():\n",
    "    mod = GridSearchCV(\n",
    "    models[model],\n",
    "    params[model],\n",
    "    verbose=2, #Progress bar showing\n",
    "    cv=5, #cross validation\n",
    "    n_jobs=-1, #cores to assign\n",
    ")\n",
    "    gridsearch_result=mod.fit(x_train,y_train)\n",
    "    \n",
    "    #selects best model\n",
    "    if(score < float(gridsearch_result.score(x_test,y_test))):\n",
    "            score=gridsearch_result.score(x_test,y_test)\n",
    "            best_model=gridsearch_result\n",
    "            \n",
    "    predict=mod.predict(x_test)\n",
    "    print(f\"{model} : \",gridsearch_result.best_estimator_)\n",
    "    if model not in model_accuracy.keys():\n",
    "        model_accuracy.update({model:accuracy_score(y_test,predict)})\n",
    "\n",
    "# Check model_accuracy\n",
    "\n",
    "print(model_accuracy)\n",
    "\n",
    "print(best_model.best_estimator_)\n",
    "best_model.best_score_\n"
   ]
  },
  {
   "cell_type": "code",
   "execution_count": null,
   "metadata": {},
   "outputs": [],
   "source": []
  }
 ],
 "metadata": {
  "kernelspec": {
   "display_name": "Python 3.8.20",
   "language": "python",
   "name": "daks"
  },
  "language_info": {
   "codemirror_mode": {
    "name": "ipython",
    "version": 3
   },
   "file_extension": ".py",
   "mimetype": "text/x-python",
   "name": "python",
   "nbconvert_exporter": "python",
   "pygments_lexer": "ipython3",
   "version": "3.8.20"
  }
 },
 "nbformat": 4,
 "nbformat_minor": 2
}

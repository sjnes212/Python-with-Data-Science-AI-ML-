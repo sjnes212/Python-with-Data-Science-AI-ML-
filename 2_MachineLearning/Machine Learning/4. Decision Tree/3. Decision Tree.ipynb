{
 "cells": [
  {
   "cell_type": "markdown",
   "metadata": {},
   "source": [
    "# Import Libraries"
   ]
  },
  {
   "cell_type": "code",
   "execution_count": 25,
   "metadata": {},
   "outputs": [
    {
     "name": "stdout",
     "output_type": "stream",
     "text": [
      "Defaulting to user installation because normal site-packages is not writeable\n",
      "Requirement already satisfied: pydotplus in c:\\users\\silwa\\appdata\\roaming\\python\\python312\\site-packages (2.0.2)\n",
      "Requirement already satisfied: pyparsing>=2.0.1 in c:\\users\\silwa\\appdata\\roaming\\python\\python312\\site-packages (from pydotplus) (3.2.0)\n"
     ]
    }
   ],
   "source": [
    "!pip install pydotplus"
   ]
  },
  {
   "cell_type": "code",
   "execution_count": 1,
   "metadata": {},
   "outputs": [],
   "source": [
    "import pandas as pd\n",
    "import matplotlib.pyplot as plt\n",
    "from sklearn.tree import DecisionTreeClassifier\n",
    "from sklearn.model_selection import train_test_split\n",
    "from sklearn import tree\n",
    "\n",
    "import pydotplus\n",
    "from IPython.display import Image\n"
   ]
  },
  {
   "cell_type": "markdown",
   "metadata": {},
   "source": [
    "# Load CSV file"
   ]
  },
  {
   "cell_type": "code",
   "execution_count": 2,
   "metadata": {},
   "outputs": [
    {
     "data": {
      "text/html": [
       "<div>\n",
       "<style scoped>\n",
       "    .dataframe tbody tr th:only-of-type {\n",
       "        vertical-align: middle;\n",
       "    }\n",
       "\n",
       "    .dataframe tbody tr th {\n",
       "        vertical-align: top;\n",
       "    }\n",
       "\n",
       "    .dataframe thead th {\n",
       "        text-align: right;\n",
       "    }\n",
       "</style>\n",
       "<table border=\"1\" class=\"dataframe\">\n",
       "  <thead>\n",
       "    <tr style=\"text-align: right;\">\n",
       "      <th></th>\n",
       "      <th>age</th>\n",
       "      <th>anaemia</th>\n",
       "      <th>creatinine_phosphokinase</th>\n",
       "      <th>diabetes</th>\n",
       "      <th>ejection_fraction</th>\n",
       "      <th>high_blood_pressure</th>\n",
       "      <th>platelets</th>\n",
       "      <th>serum_creatinine</th>\n",
       "      <th>serum_sodium</th>\n",
       "      <th>sex</th>\n",
       "      <th>smoking</th>\n",
       "      <th>time</th>\n",
       "      <th>DEATH_EVENT</th>\n",
       "    </tr>\n",
       "  </thead>\n",
       "  <tbody>\n",
       "    <tr>\n",
       "      <th>0</th>\n",
       "      <td>75.0</td>\n",
       "      <td>0</td>\n",
       "      <td>582</td>\n",
       "      <td>0</td>\n",
       "      <td>20</td>\n",
       "      <td>1</td>\n",
       "      <td>265000.00</td>\n",
       "      <td>1.9</td>\n",
       "      <td>130</td>\n",
       "      <td>1</td>\n",
       "      <td>0</td>\n",
       "      <td>4</td>\n",
       "      <td>1</td>\n",
       "    </tr>\n",
       "    <tr>\n",
       "      <th>1</th>\n",
       "      <td>55.0</td>\n",
       "      <td>0</td>\n",
       "      <td>7861</td>\n",
       "      <td>0</td>\n",
       "      <td>38</td>\n",
       "      <td>0</td>\n",
       "      <td>263358.03</td>\n",
       "      <td>1.1</td>\n",
       "      <td>136</td>\n",
       "      <td>1</td>\n",
       "      <td>0</td>\n",
       "      <td>6</td>\n",
       "      <td>1</td>\n",
       "    </tr>\n",
       "    <tr>\n",
       "      <th>2</th>\n",
       "      <td>65.0</td>\n",
       "      <td>0</td>\n",
       "      <td>146</td>\n",
       "      <td>0</td>\n",
       "      <td>20</td>\n",
       "      <td>0</td>\n",
       "      <td>162000.00</td>\n",
       "      <td>1.3</td>\n",
       "      <td>129</td>\n",
       "      <td>1</td>\n",
       "      <td>1</td>\n",
       "      <td>7</td>\n",
       "      <td>1</td>\n",
       "    </tr>\n",
       "    <tr>\n",
       "      <th>3</th>\n",
       "      <td>50.0</td>\n",
       "      <td>1</td>\n",
       "      <td>111</td>\n",
       "      <td>0</td>\n",
       "      <td>20</td>\n",
       "      <td>0</td>\n",
       "      <td>210000.00</td>\n",
       "      <td>1.9</td>\n",
       "      <td>137</td>\n",
       "      <td>1</td>\n",
       "      <td>0</td>\n",
       "      <td>7</td>\n",
       "      <td>1</td>\n",
       "    </tr>\n",
       "    <tr>\n",
       "      <th>4</th>\n",
       "      <td>65.0</td>\n",
       "      <td>1</td>\n",
       "      <td>160</td>\n",
       "      <td>1</td>\n",
       "      <td>20</td>\n",
       "      <td>0</td>\n",
       "      <td>327000.00</td>\n",
       "      <td>2.7</td>\n",
       "      <td>116</td>\n",
       "      <td>0</td>\n",
       "      <td>0</td>\n",
       "      <td>8</td>\n",
       "      <td>1</td>\n",
       "    </tr>\n",
       "  </tbody>\n",
       "</table>\n",
       "</div>"
      ],
      "text/plain": [
       "    age  anaemia  creatinine_phosphokinase  diabetes  ejection_fraction  \\\n",
       "0  75.0        0                       582         0                 20   \n",
       "1  55.0        0                      7861         0                 38   \n",
       "2  65.0        0                       146         0                 20   \n",
       "3  50.0        1                       111         0                 20   \n",
       "4  65.0        1                       160         1                 20   \n",
       "\n",
       "   high_blood_pressure  platelets  serum_creatinine  serum_sodium  sex  \\\n",
       "0                    1  265000.00               1.9           130    1   \n",
       "1                    0  263358.03               1.1           136    1   \n",
       "2                    0  162000.00               1.3           129    1   \n",
       "3                    0  210000.00               1.9           137    1   \n",
       "4                    0  327000.00               2.7           116    0   \n",
       "\n",
       "   smoking  time  DEATH_EVENT  \n",
       "0        0     4            1  \n",
       "1        0     6            1  \n",
       "2        1     7            1  \n",
       "3        0     7            1  \n",
       "4        0     8            1  "
      ]
     },
     "execution_count": 2,
     "metadata": {},
     "output_type": "execute_result"
    }
   ],
   "source": [
    "df=pd.read_csv(\"data/heart_failure_clinical_records_dataset.csv\")\n",
    "df.head()"
   ]
  },
  {
   "cell_type": "markdown",
   "metadata": {},
   "source": [
    "# Define X and Y"
   ]
  },
  {
   "cell_type": "code",
   "execution_count": 3,
   "metadata": {},
   "outputs": [],
   "source": [
    "x=df.iloc[:,:-1].values\n",
    "y=df.loc[:,'DEATH_EVENT'].values"
   ]
  },
  {
   "cell_type": "code",
   "execution_count": 4,
   "metadata": {},
   "outputs": [
    {
     "data": {
      "text/plain": [
       "DEATH_EVENT\n",
       "0    203\n",
       "1     96\n",
       "Name: count, dtype: int64"
      ]
     },
     "execution_count": 4,
     "metadata": {},
     "output_type": "execute_result"
    }
   ],
   "source": [
    "df['DEATH_EVENT'].value_counts()"
   ]
  },
  {
   "cell_type": "markdown",
   "metadata": {},
   "source": [
    "# Split to train and test"
   ]
  },
  {
   "cell_type": "code",
   "execution_count": 5,
   "metadata": {},
   "outputs": [],
   "source": [
    "x_train,x_test,y_train,y_test=train_test_split(x,y,test_size=0.2,random_state=11)"
   ]
  },
  {
   "cell_type": "code",
   "execution_count": 6,
   "metadata": {},
   "outputs": [
    {
     "name": "stdout",
     "output_type": "stream",
     "text": [
      "***** X-Values *****\n",
      "[[7.000e+01 1.000e+00 1.430e+02 ... 0.000e+00 0.000e+00 9.000e+01]\n",
      " [8.700e+01 1.000e+00 1.490e+02 ... 1.000e+00 0.000e+00 1.400e+01]\n",
      " [4.500e+01 0.000e+00 7.702e+03 ... 1.000e+00 0.000e+00 6.000e+01]\n",
      " ...\n",
      " [6.000e+01 0.000e+00 8.970e+02 ... 1.000e+00 0.000e+00 8.000e+01]\n",
      " [7.000e+01 0.000e+00 6.900e+01 ... 0.000e+00 0.000e+00 7.500e+01]\n",
      " [6.400e+01 1.000e+00 6.200e+01 ... 0.000e+00 0.000e+00 1.740e+02]]\n",
      "***** It's Shape *****\n",
      "(239, 12)\n",
      "*****Y-Values*****\n",
      "[1 1 1 0 0 1 1 0 1 0 0 0 1 1 1 1 1 0 0 0 1 1 1 1 0 1 0 0 1 0 1 1 0 0 0 0 0\n",
      " 0 0 0 0 1 0 0 1 1 0 0 0 0 0 1 0 0 0 0 1 1 0 0 1 0 0 0 0 1 0 0 0 0 1 1 0 1\n",
      " 0 0 0 0 0 0 0 1 0 1 0 0 0 0 1 0 1 0 0 0 1 1 0 0 0 0 1 1 0 0 0 0 0 0 0 0 0\n",
      " 0 0 0 1 1 0 1 0 0 1 0 0 0 1 0 0 1 1 0 1 0 1 0 0 0 0 0 1 0 0 1 1 0 0 0 0 0\n",
      " 1 0 1 0 1 0 1 0 1 1 1 0 0 0 1 1 1 1 0 0 0 1 1 0 0 1 1 0 1 1 0 1 0 0 0 0 0\n",
      " 1 0 0 0 1 1 0 0 0 0 0 1 1 0 0 1 0 0 0 0 0 0 0 1 0 0 0 0 0 0 0 0 0 1 0 0 0\n",
      " 0 1 1 1 0 0 0 0 0 0 0 0 0 0 0 0 0]\n",
      "***** It's Shape *****\n",
      "(239,)\n"
     ]
    }
   ],
   "source": [
    "print(\"***** X-Values *****\")\n",
    "print(x_train)\n",
    "print(\"***** It's Shape *****\")\n",
    "print(x_train.shape)\n",
    "print(\"*****Y-Values*****\")\n",
    "print(y_train)\n",
    "print(\"***** It's Shape *****\")\n",
    "print(y_train.shape)\n"
   ]
  },
  {
   "cell_type": "markdown",
   "metadata": {},
   "source": [
    "# Instantiate DecisionTreeClassifier"
   ]
  },
  {
   "cell_type": "code",
   "execution_count": 7,
   "metadata": {},
   "outputs": [
    {
     "data": {
      "text/plain": [
       "mappingproxy({'__module__': 'sklearn.tree._classes',\n",
       "              '__annotations__': {'_parameter_constraints': dict},\n",
       "              '__doc__': 'A decision tree classifier.\\n\\n    Read more in the :ref:`User Guide <tree>`.\\n\\n    Parameters\\n    ----------\\n    criterion : {\"gini\", \"entropy\", \"log_loss\"}, default=\"gini\"\\n        The function to measure the quality of a split. Supported criteria are\\n        \"gini\" for the Gini impurity and \"log_loss\" and \"entropy\" both for the\\n        Shannon information gain, see :ref:`tree_mathematical_formulation`.\\n\\n    splitter : {\"best\", \"random\"}, default=\"best\"\\n        The strategy used to choose the split at each node. Supported\\n        strategies are \"best\" to choose the best split and \"random\" to choose\\n        the best random split.\\n\\n    max_depth : int, default=None\\n        The maximum depth of the tree. If None, then nodes are expanded until\\n        all leaves are pure or until all leaves contain less than\\n        min_samples_split samples.\\n\\n    min_samples_split : int or float, default=2\\n        The minimum number of samples required to split an internal node:\\n\\n        - If int, then consider `min_samples_split` as the minimum number.\\n        - If float, then `min_samples_split` is a fraction and\\n          `ceil(min_samples_split * n_samples)` are the minimum\\n          number of samples for each split.\\n\\n        .. versionchanged:: 0.18\\n           Added float values for fractions.\\n\\n    min_samples_leaf : int or float, default=1\\n        The minimum number of samples required to be at a leaf node.\\n        A split point at any depth will only be considered if it leaves at\\n        least ``min_samples_leaf`` training samples in each of the left and\\n        right branches.  This may have the effect of smoothing the model,\\n        especially in regression.\\n\\n        - If int, then consider `min_samples_leaf` as the minimum number.\\n        - If float, then `min_samples_leaf` is a fraction and\\n          `ceil(min_samples_leaf * n_samples)` are the minimum\\n          number of samples for each node.\\n\\n        .. versionchanged:: 0.18\\n           Added float values for fractions.\\n\\n    min_weight_fraction_leaf : float, default=0.0\\n        The minimum weighted fraction of the sum total of weights (of all\\n        the input samples) required to be at a leaf node. Samples have\\n        equal weight when sample_weight is not provided.\\n\\n    max_features : int, float or {\"auto\", \"sqrt\", \"log2\"}, default=None\\n        The number of features to consider when looking for the best split:\\n\\n            - If int, then consider `max_features` features at each split.\\n            - If float, then `max_features` is a fraction and\\n              `max(1, int(max_features * n_features_in_))` features are considered at\\n              each split.\\n            - If \"sqrt\", then `max_features=sqrt(n_features)`.\\n            - If \"log2\", then `max_features=log2(n_features)`.\\n            - If None, then `max_features=n_features`.\\n\\n        Note: the search for a split does not stop until at least one\\n        valid partition of the node samples is found, even if it requires to\\n        effectively inspect more than ``max_features`` features.\\n\\n    random_state : int, RandomState instance or None, default=None\\n        Controls the randomness of the estimator. The features are always\\n        randomly permuted at each split, even if ``splitter`` is set to\\n        ``\"best\"``. When ``max_features < n_features``, the algorithm will\\n        select ``max_features`` at random at each split before finding the best\\n        split among them. But the best found split may vary across different\\n        runs, even if ``max_features=n_features``. That is the case, if the\\n        improvement of the criterion is identical for several splits and one\\n        split has to be selected at random. To obtain a deterministic behaviour\\n        during fitting, ``random_state`` has to be fixed to an integer.\\n        See :term:`Glossary <random_state>` for details.\\n\\n    max_leaf_nodes : int, default=None\\n        Grow a tree with ``max_leaf_nodes`` in best-first fashion.\\n        Best nodes are defined as relative reduction in impurity.\\n        If None then unlimited number of leaf nodes.\\n\\n    min_impurity_decrease : float, default=0.0\\n        A node will be split if this split induces a decrease of the impurity\\n        greater than or equal to this value.\\n\\n        The weighted impurity decrease equation is the following::\\n\\n            N_t / N * (impurity - N_t_R / N_t * right_impurity\\n                                - N_t_L / N_t * left_impurity)\\n\\n        where ``N`` is the total number of samples, ``N_t`` is the number of\\n        samples at the current node, ``N_t_L`` is the number of samples in the\\n        left child, and ``N_t_R`` is the number of samples in the right child.\\n\\n        ``N``, ``N_t``, ``N_t_R`` and ``N_t_L`` all refer to the weighted sum,\\n        if ``sample_weight`` is passed.\\n\\n        .. versionadded:: 0.19\\n\\n    class_weight : dict, list of dict or \"balanced\", default=None\\n        Weights associated with classes in the form ``{class_label: weight}``.\\n        If None, all classes are supposed to have weight one. For\\n        multi-output problems, a list of dicts can be provided in the same\\n        order as the columns of y.\\n\\n        Note that for multioutput (including multilabel) weights should be\\n        defined for each class of every column in its own dict. For example,\\n        for four-class multilabel classification weights should be\\n        [{0: 1, 1: 1}, {0: 1, 1: 5}, {0: 1, 1: 1}, {0: 1, 1: 1}] instead of\\n        [{1:1}, {2:5}, {3:1}, {4:1}].\\n\\n        The \"balanced\" mode uses the values of y to automatically adjust\\n        weights inversely proportional to class frequencies in the input data\\n        as ``n_samples / (n_classes * np.bincount(y))``\\n\\n        For multi-output, the weights of each column of y will be multiplied.\\n\\n        Note that these weights will be multiplied with sample_weight (passed\\n        through the fit method) if sample_weight is specified.\\n\\n    ccp_alpha : non-negative float, default=0.0\\n        Complexity parameter used for Minimal Cost-Complexity Pruning. The\\n        subtree with the largest cost complexity that is smaller than\\n        ``ccp_alpha`` will be chosen. By default, no pruning is performed. See\\n        :ref:`minimal_cost_complexity_pruning` for details.\\n\\n        .. versionadded:: 0.22\\n\\n    Attributes\\n    ----------\\n    classes_ : ndarray of shape (n_classes,) or list of ndarray\\n        The classes labels (single output problem),\\n        or a list of arrays of class labels (multi-output problem).\\n\\n    feature_importances_ : ndarray of shape (n_features,)\\n        The impurity-based feature importances.\\n        The higher, the more important the feature.\\n        The importance of a feature is computed as the (normalized)\\n        total reduction of the criterion brought by that feature.  It is also\\n        known as the Gini importance [4]_.\\n\\n        Warning: impurity-based feature importances can be misleading for\\n        high cardinality features (many unique values). See\\n        :func:`sklearn.inspection.permutation_importance` as an alternative.\\n\\n    max_features_ : int\\n        The inferred value of max_features.\\n\\n    n_classes_ : int or list of int\\n        The number of classes (for single output problems),\\n        or a list containing the number of classes for each\\n        output (for multi-output problems).\\n\\n    n_features_in_ : int\\n        Number of features seen during :term:`fit`.\\n\\n        .. versionadded:: 0.24\\n\\n    feature_names_in_ : ndarray of shape (`n_features_in_`,)\\n        Names of features seen during :term:`fit`. Defined only when `X`\\n        has feature names that are all strings.\\n\\n        .. versionadded:: 1.0\\n\\n    n_outputs_ : int\\n        The number of outputs when ``fit`` is performed.\\n\\n    tree_ : Tree instance\\n        The underlying Tree object. Please refer to\\n        ``help(sklearn.tree._tree.Tree)`` for attributes of Tree object and\\n        :ref:`sphx_glr_auto_examples_tree_plot_unveil_tree_structure.py`\\n        for basic usage of these attributes.\\n\\n    See Also\\n    --------\\n    DecisionTreeRegressor : A decision tree regressor.\\n\\n    Notes\\n    -----\\n    The default values for the parameters controlling the size of the trees\\n    (e.g. ``max_depth``, ``min_samples_leaf``, etc.) lead to fully grown and\\n    unpruned trees which can potentially be very large on some data sets. To\\n    reduce memory consumption, the complexity and size of the trees should be\\n    controlled by setting those parameter values.\\n\\n    The :meth:`predict` method operates using the :func:`numpy.argmax`\\n    function on the outputs of :meth:`predict_proba`. This means that in\\n    case the highest predicted probabilities are tied, the classifier will\\n    predict the tied class with the lowest index in :term:`classes_`.\\n\\n    References\\n    ----------\\n\\n    .. [1] https://en.wikipedia.org/wiki/Decision_tree_learning\\n\\n    .. [2] L. Breiman, J. Friedman, R. Olshen, and C. Stone, \"Classification\\n           and Regression Trees\", Wadsworth, Belmont, CA, 1984.\\n\\n    .. [3] T. Hastie, R. Tibshirani and J. Friedman. \"Elements of Statistical\\n           Learning\", Springer, 2009.\\n\\n    .. [4] L. Breiman, and A. Cutler, \"Random Forests\",\\n           https://www.stat.berkeley.edu/~breiman/RandomForests/cc_home.htm\\n\\n    Examples\\n    --------\\n    >>> from sklearn.datasets import load_iris\\n    >>> from sklearn.model_selection import cross_val_score\\n    >>> from sklearn.tree import DecisionTreeClassifier\\n    >>> clf = DecisionTreeClassifier(random_state=0)\\n    >>> iris = load_iris()\\n    >>> cross_val_score(clf, iris.data, iris.target, cv=10)\\n    ...                             # doctest: +SKIP\\n    ...\\n    array([ 1.     ,  0.93...,  0.86...,  0.93...,  0.93...,\\n            0.93...,  0.93...,  1.     ,  0.93...,  1.      ])\\n    ',\n",
       "              '_parameter_constraints': {'splitter': [<sklearn.utils._param_validation.StrOptions at 0x28440adf400>],\n",
       "               'max_depth': [<sklearn.utils._param_validation.Interval at 0x28440ac9d60>,\n",
       "                None],\n",
       "               'min_samples_split': [<sklearn.utils._param_validation.Interval at 0x28440ac9d90>,\n",
       "                <sklearn.utils._param_validation.Interval at 0x28440ac9dc0>],\n",
       "               'min_samples_leaf': [<sklearn.utils._param_validation.Interval at 0x284410c0b50>,\n",
       "                <sklearn.utils._param_validation.Interval at 0x284410c0bb0>],\n",
       "               'min_weight_fraction_leaf': [<sklearn.utils._param_validation.Interval at 0x284410c0c10>],\n",
       "               'max_features': [<sklearn.utils._param_validation.Interval at 0x284410c0c70>,\n",
       "                <sklearn.utils._param_validation.Interval at 0x284410c0cd0>,\n",
       "                <sklearn.utils._param_validation.StrOptions at 0x284410c0d30>,\n",
       "                None],\n",
       "               'random_state': ['random_state'],\n",
       "               'max_leaf_nodes': [<sklearn.utils._param_validation.Interval at 0x284410c0dc0>,\n",
       "                None],\n",
       "               'min_impurity_decrease': [<sklearn.utils._param_validation.Interval at 0x284410c0df0>],\n",
       "               'ccp_alpha': [<sklearn.utils._param_validation.Interval at 0x284410c0e50>],\n",
       "               'criterion': [<sklearn.utils._param_validation.StrOptions at 0x284410c0fd0>,\n",
       "                <sklearn.utils._param_validation.Hidden at 0x284410c0f70>],\n",
       "               'class_weight': [dict,\n",
       "                list,\n",
       "                <sklearn.utils._param_validation.StrOptions at 0x284410c5280>,\n",
       "                None]},\n",
       "              '__init__': <function sklearn.tree._classes.DecisionTreeClassifier.__init__(self, *, criterion='gini', splitter='best', max_depth=None, min_samples_split=2, min_samples_leaf=1, min_weight_fraction_leaf=0.0, max_features=None, random_state=None, max_leaf_nodes=None, min_impurity_decrease=0.0, class_weight=None, ccp_alpha=0.0)>,\n",
       "              'fit': <function sklearn.tree._classes.DecisionTreeClassifier.fit(self, X, y, sample_weight=None, check_input=True)>,\n",
       "              'predict_proba': <function sklearn.tree._classes.DecisionTreeClassifier.predict_proba(self, X, check_input=True)>,\n",
       "              'predict_log_proba': <function sklearn.tree._classes.DecisionTreeClassifier.predict_log_proba(self, X)>,\n",
       "              '_more_tags': <function sklearn.tree._classes.DecisionTreeClassifier._more_tags(self)>,\n",
       "              'set_fit_request': <sklearn.utils._metadata_requests.RequestMethod at 0x284410c5550>,\n",
       "              'set_predict_request': <sklearn.utils._metadata_requests.RequestMethod at 0x284410c55e0>,\n",
       "              'set_predict_proba_request': <sklearn.utils._metadata_requests.RequestMethod at 0x284410c5670>,\n",
       "              'set_score_request': <sklearn.utils._metadata_requests.RequestMethod at 0x284410c56d0>,\n",
       "              '__abstractmethods__': frozenset(),\n",
       "              '_abc_impl': <_abc_data at 0x284410c54b0>})"
      ]
     },
     "execution_count": 7,
     "metadata": {},
     "output_type": "execute_result"
    }
   ],
   "source": [
    "DecisionTreeClassifier.__dict__"
   ]
  },
  {
   "cell_type": "code",
   "execution_count": 8,
   "metadata": {},
   "outputs": [],
   "source": [
    "model=DecisionTreeClassifier()"
   ]
  },
  {
   "cell_type": "code",
   "execution_count": 9,
   "metadata": {},
   "outputs": [
    {
     "data": {
      "text/html": [
       "<style>#sk-container-id-1 {color: black;}#sk-container-id-1 pre{padding: 0;}#sk-container-id-1 div.sk-toggleable {background-color: white;}#sk-container-id-1 label.sk-toggleable__label {cursor: pointer;display: block;width: 100%;margin-bottom: 0;padding: 0.3em;box-sizing: border-box;text-align: center;}#sk-container-id-1 label.sk-toggleable__label-arrow:before {content: \"▸\";float: left;margin-right: 0.25em;color: #696969;}#sk-container-id-1 label.sk-toggleable__label-arrow:hover:before {color: black;}#sk-container-id-1 div.sk-estimator:hover label.sk-toggleable__label-arrow:before {color: black;}#sk-container-id-1 div.sk-toggleable__content {max-height: 0;max-width: 0;overflow: hidden;text-align: left;background-color: #f0f8ff;}#sk-container-id-1 div.sk-toggleable__content pre {margin: 0.2em;color: black;border-radius: 0.25em;background-color: #f0f8ff;}#sk-container-id-1 input.sk-toggleable__control:checked~div.sk-toggleable__content {max-height: 200px;max-width: 100%;overflow: auto;}#sk-container-id-1 input.sk-toggleable__control:checked~label.sk-toggleable__label-arrow:before {content: \"▾\";}#sk-container-id-1 div.sk-estimator input.sk-toggleable__control:checked~label.sk-toggleable__label {background-color: #d4ebff;}#sk-container-id-1 div.sk-label input.sk-toggleable__control:checked~label.sk-toggleable__label {background-color: #d4ebff;}#sk-container-id-1 input.sk-hidden--visually {border: 0;clip: rect(1px 1px 1px 1px);clip: rect(1px, 1px, 1px, 1px);height: 1px;margin: -1px;overflow: hidden;padding: 0;position: absolute;width: 1px;}#sk-container-id-1 div.sk-estimator {font-family: monospace;background-color: #f0f8ff;border: 1px dotted black;border-radius: 0.25em;box-sizing: border-box;margin-bottom: 0.5em;}#sk-container-id-1 div.sk-estimator:hover {background-color: #d4ebff;}#sk-container-id-1 div.sk-parallel-item::after {content: \"\";width: 100%;border-bottom: 1px solid gray;flex-grow: 1;}#sk-container-id-1 div.sk-label:hover label.sk-toggleable__label {background-color: #d4ebff;}#sk-container-id-1 div.sk-serial::before {content: \"\";position: absolute;border-left: 1px solid gray;box-sizing: border-box;top: 0;bottom: 0;left: 50%;z-index: 0;}#sk-container-id-1 div.sk-serial {display: flex;flex-direction: column;align-items: center;background-color: white;padding-right: 0.2em;padding-left: 0.2em;position: relative;}#sk-container-id-1 div.sk-item {position: relative;z-index: 1;}#sk-container-id-1 div.sk-parallel {display: flex;align-items: stretch;justify-content: center;background-color: white;position: relative;}#sk-container-id-1 div.sk-item::before, #sk-container-id-1 div.sk-parallel-item::before {content: \"\";position: absolute;border-left: 1px solid gray;box-sizing: border-box;top: 0;bottom: 0;left: 50%;z-index: -1;}#sk-container-id-1 div.sk-parallel-item {display: flex;flex-direction: column;z-index: 1;position: relative;background-color: white;}#sk-container-id-1 div.sk-parallel-item:first-child::after {align-self: flex-end;width: 50%;}#sk-container-id-1 div.sk-parallel-item:last-child::after {align-self: flex-start;width: 50%;}#sk-container-id-1 div.sk-parallel-item:only-child::after {width: 0;}#sk-container-id-1 div.sk-dashed-wrapped {border: 1px dashed gray;margin: 0 0.4em 0.5em 0.4em;box-sizing: border-box;padding-bottom: 0.4em;background-color: white;}#sk-container-id-1 div.sk-label label {font-family: monospace;font-weight: bold;display: inline-block;line-height: 1.2em;}#sk-container-id-1 div.sk-label-container {text-align: center;}#sk-container-id-1 div.sk-container {/* jupyter's `normalize.less` sets `[hidden] { display: none; }` but bootstrap.min.css set `[hidden] { display: none !important; }` so we also need the `!important` here to be able to override the default hidden behavior on the sphinx rendered scikit-learn.org. See: https://github.com/scikit-learn/scikit-learn/issues/21755 */display: inline-block !important;position: relative;}#sk-container-id-1 div.sk-text-repr-fallback {display: none;}</style><div id=\"sk-container-id-1\" class=\"sk-top-container\"><div class=\"sk-text-repr-fallback\"><pre>DecisionTreeClassifier()</pre><b>In a Jupyter environment, please rerun this cell to show the HTML representation or trust the notebook. <br />On GitHub, the HTML representation is unable to render, please try loading this page with nbviewer.org.</b></div><div class=\"sk-container\" hidden><div class=\"sk-item\"><div class=\"sk-estimator sk-toggleable\"><input class=\"sk-toggleable__control sk-hidden--visually\" id=\"sk-estimator-id-1\" type=\"checkbox\" checked><label for=\"sk-estimator-id-1\" class=\"sk-toggleable__label sk-toggleable__label-arrow\">DecisionTreeClassifier</label><div class=\"sk-toggleable__content\"><pre>DecisionTreeClassifier()</pre></div></div></div></div></div>"
      ],
      "text/plain": [
       "DecisionTreeClassifier()"
      ]
     },
     "execution_count": 9,
     "metadata": {},
     "output_type": "execute_result"
    }
   ],
   "source": [
    "model.fit(x_train,y_train)"
   ]
  },
  {
   "cell_type": "markdown",
   "metadata": {},
   "source": [
    "# Visualize Graph"
   ]
  },
  {
   "cell_type": "markdown",
   "metadata": {},
   "source": [
    "# Download Graphviz from link:\n",
    "    https://graphviz.org/download/"
   ]
  },
  {
   "cell_type": "code",
   "execution_count": 10,
   "metadata": {},
   "outputs": [],
   "source": [
    "import os\n",
    "os.environ[\"PATH\"] += os.pathsep + 'C:/Users/silwa/Downloads/Graphviz-12.2.1-win64/bin' #path where you install graphviz"
   ]
  },
  {
   "cell_type": "code",
   "execution_count": 12,
   "metadata": {},
   "outputs": [
    {
     "ename": "InvocationException",
     "evalue": "GraphViz's executables not found",
     "output_type": "error",
     "traceback": [
      "\u001b[1;31m---------------------------------------------------------------------------\u001b[0m",
      "\u001b[1;31mInvocationException\u001b[0m                       Traceback (most recent call last)",
      "Cell \u001b[1;32mIn[12], line 5\u001b[0m\n\u001b[0;32m      1\u001b[0m data_plot \u001b[38;5;241m=\u001b[39m tree\u001b[38;5;241m.\u001b[39mexport_graphviz(model, out_file\u001b[38;5;241m=\u001b[39m\u001b[38;5;28;01mNone\u001b[39;00m, feature_names \u001b[38;5;241m=\u001b[39m \u001b[38;5;28mlist\u001b[39m(df\u001b[38;5;241m.\u001b[39mcolumns[:\u001b[38;5;241m-\u001b[39m\u001b[38;5;241m1\u001b[39m]\u001b[38;5;241m.\u001b[39mvalues), class_names\u001b[38;5;241m=\u001b[39m[\u001b[38;5;124m'\u001b[39m\u001b[38;5;124mAlive\u001b[39m\u001b[38;5;124m'\u001b[39m, \u001b[38;5;124m'\u001b[39m\u001b[38;5;124mDead\u001b[39m\u001b[38;5;124m'\u001b[39m], \n\u001b[0;32m      2\u001b[0m                                  rounded\u001b[38;5;241m=\u001b[39m\u001b[38;5;28;01mTrue\u001b[39;00m, filled\u001b[38;5;241m=\u001b[39m\u001b[38;5;28;01mTrue\u001b[39;00m)\n\u001b[0;32m      3\u001b[0m graph \u001b[38;5;241m=\u001b[39m pydotplus\u001b[38;5;241m.\u001b[39mgraph_from_dot_data(data_plot)\n\u001b[1;32m----> 5\u001b[0m Image(\u001b[43mgraph\u001b[49m\u001b[38;5;241;43m.\u001b[39;49m\u001b[43mcreate_png\u001b[49m\u001b[43m(\u001b[49m\u001b[43m)\u001b[49m)\n",
      "File \u001b[1;32mc:\\Users\\silwa\\.conda\\envs\\daks\\lib\\site-packages\\pydotplus\\graphviz.py:1797\u001b[0m, in \u001b[0;36mDot.__init__.<locals>.<lambda>\u001b[1;34m(f, prog)\u001b[0m\n\u001b[0;32m   1792\u001b[0m \u001b[38;5;66;03m# Automatically creates all the methods enabling the creation\u001b[39;00m\n\u001b[0;32m   1793\u001b[0m \u001b[38;5;66;03m# of output in any of the supported formats.\u001b[39;00m\n\u001b[0;32m   1794\u001b[0m \u001b[38;5;28;01mfor\u001b[39;00m frmt \u001b[38;5;129;01min\u001b[39;00m \u001b[38;5;28mself\u001b[39m\u001b[38;5;241m.\u001b[39mformats:\n\u001b[0;32m   1795\u001b[0m     \u001b[38;5;28mself\u001b[39m\u001b[38;5;241m.\u001b[39m\u001b[38;5;21m__setattr__\u001b[39m(\n\u001b[0;32m   1796\u001b[0m         \u001b[38;5;124m'\u001b[39m\u001b[38;5;124mcreate_\u001b[39m\u001b[38;5;124m'\u001b[39m \u001b[38;5;241m+\u001b[39m frmt,\n\u001b[1;32m-> 1797\u001b[0m         \u001b[38;5;28;01mlambda\u001b[39;00m f\u001b[38;5;241m=\u001b[39mfrmt, prog\u001b[38;5;241m=\u001b[39m\u001b[38;5;28mself\u001b[39m\u001b[38;5;241m.\u001b[39mprog: \u001b[38;5;28;43mself\u001b[39;49m\u001b[38;5;241;43m.\u001b[39;49m\u001b[43mcreate\u001b[49m\u001b[43m(\u001b[49m\u001b[38;5;28;43mformat\u001b[39;49m\u001b[38;5;241;43m=\u001b[39;49m\u001b[43mf\u001b[49m\u001b[43m,\u001b[49m\u001b[43m \u001b[49m\u001b[43mprog\u001b[49m\u001b[38;5;241;43m=\u001b[39;49m\u001b[43mprog\u001b[49m\u001b[43m)\u001b[49m\n\u001b[0;32m   1798\u001b[0m     )\n\u001b[0;32m   1799\u001b[0m     f \u001b[38;5;241m=\u001b[39m \u001b[38;5;28mself\u001b[39m\u001b[38;5;241m.\u001b[39m\u001b[38;5;18m__dict__\u001b[39m[\u001b[38;5;124m'\u001b[39m\u001b[38;5;124mcreate_\u001b[39m\u001b[38;5;124m'\u001b[39m \u001b[38;5;241m+\u001b[39m frmt]\n\u001b[0;32m   1800\u001b[0m     f\u001b[38;5;241m.\u001b[39m\u001b[38;5;18m__doc__\u001b[39m \u001b[38;5;241m=\u001b[39m (\n\u001b[0;32m   1801\u001b[0m \u001b[38;5;250m        \u001b[39m\u001b[38;5;124;03m'''Refer to the docstring accompanying the'''\u001b[39;00m\n\u001b[0;32m   1802\u001b[0m \u001b[38;5;250m        \u001b[39m\u001b[38;5;124;03m''''create' method for more information.'''\u001b[39;00m\n\u001b[0;32m   1803\u001b[0m     )\n",
      "File \u001b[1;32mc:\\Users\\silwa\\.conda\\envs\\daks\\lib\\site-packages\\pydotplus\\graphviz.py:1959\u001b[0m, in \u001b[0;36mDot.create\u001b[1;34m(self, prog, format)\u001b[0m\n\u001b[0;32m   1957\u001b[0m     \u001b[38;5;28mself\u001b[39m\u001b[38;5;241m.\u001b[39mprogs \u001b[38;5;241m=\u001b[39m find_graphviz()\n\u001b[0;32m   1958\u001b[0m     \u001b[38;5;28;01mif\u001b[39;00m \u001b[38;5;28mself\u001b[39m\u001b[38;5;241m.\u001b[39mprogs \u001b[38;5;129;01mis\u001b[39;00m \u001b[38;5;28;01mNone\u001b[39;00m:\n\u001b[1;32m-> 1959\u001b[0m         \u001b[38;5;28;01mraise\u001b[39;00m InvocationException(\n\u001b[0;32m   1960\u001b[0m             \u001b[38;5;124m'\u001b[39m\u001b[38;5;124mGraphViz\u001b[39m\u001b[38;5;130;01m\\'\u001b[39;00m\u001b[38;5;124ms executables not found\u001b[39m\u001b[38;5;124m'\u001b[39m)\n\u001b[0;32m   1962\u001b[0m \u001b[38;5;28;01mif\u001b[39;00m prog \u001b[38;5;129;01mnot\u001b[39;00m \u001b[38;5;129;01min\u001b[39;00m \u001b[38;5;28mself\u001b[39m\u001b[38;5;241m.\u001b[39mprogs:\n\u001b[0;32m   1963\u001b[0m     \u001b[38;5;28;01mraise\u001b[39;00m InvocationException(\n\u001b[0;32m   1964\u001b[0m         \u001b[38;5;124m'\u001b[39m\u001b[38;5;124mGraphViz\u001b[39m\u001b[38;5;130;01m\\'\u001b[39;00m\u001b[38;5;124ms executable \u001b[39m\u001b[38;5;124m\"\u001b[39m\u001b[38;5;132;01m%s\u001b[39;00m\u001b[38;5;124m\"\u001b[39m\u001b[38;5;124m not found\u001b[39m\u001b[38;5;124m'\u001b[39m \u001b[38;5;241m%\u001b[39m prog)\n",
      "\u001b[1;31mInvocationException\u001b[0m: GraphViz's executables not found"
     ]
    }
   ],
   "source": [
    "data_plot = tree.export_graphviz(model, out_file=None, feature_names = list(df.columns[:-1].values), class_names=['Alive', 'Dead'], \n",
    "                                 rounded=True, filled=True)\n",
    "graph = pydotplus.graph_from_dot_data(data_plot)\n",
    "\n",
    "Image(graph.create_png())"
   ]
  },
  {
   "cell_type": "markdown",
   "metadata": {},
   "source": [
    "# Predict on Test Data"
   ]
  },
  {
   "cell_type": "code",
   "execution_count": 13,
   "metadata": {},
   "outputs": [],
   "source": [
    "y_pred=model.predict(x_test)"
   ]
  },
  {
   "cell_type": "markdown",
   "metadata": {},
   "source": [
    "# Evaluation Metrics"
   ]
  },
  {
   "cell_type": "code",
   "execution_count": 14,
   "metadata": {},
   "outputs": [],
   "source": [
    "from sklearn.metrics import accuracy_score,recall_score, precision_score, f1_score,classification_report"
   ]
  },
  {
   "cell_type": "code",
   "execution_count": 15,
   "metadata": {},
   "outputs": [
    {
     "name": "stdout",
     "output_type": "stream",
     "text": [
      "Model's acuracy : 0.8\n",
      "Recall-Score : 0.6\n",
      "Precision-Score : 0.8823529411764706\n",
      "F1-Score : 0.7142857142857143\n"
     ]
    }
   ],
   "source": [
    "print(\"Model's acuracy :\",accuracy_score(y_pred,y_test))\n",
    "print(\"Recall-Score :\",recall_score(y_pred,y_test))\n",
    "print(\"Precision-Score :\",precision_score(y_pred,y_test))\n",
    "print(\"F1-Score :\",f1_score(y_pred,y_test))"
   ]
  },
  {
   "cell_type": "code",
   "execution_count": 16,
   "metadata": {},
   "outputs": [
    {
     "name": "stdout",
     "output_type": "stream",
     "text": [
      "              precision    recall  f1-score   support\n",
      "\n",
      "           0       0.77      0.94      0.85        35\n",
      "           1       0.88      0.60      0.71        25\n",
      "\n",
      "    accuracy                           0.80        60\n",
      "   macro avg       0.82      0.77      0.78        60\n",
      "weighted avg       0.82      0.80      0.79        60\n",
      "\n"
     ]
    }
   ],
   "source": [
    "print(classification_report(y_pred,y_test))"
   ]
  },
  {
   "cell_type": "markdown",
   "metadata": {},
   "source": [
    "# Confusion Matrix"
   ]
  },
  {
   "cell_type": "code",
   "execution_count": 17,
   "metadata": {},
   "outputs": [
    {
     "name": "stdout",
     "output_type": "stream",
     "text": [
      "Requirement already satisfied: seaborn in c:\\users\\silwa\\.conda\\envs\\daks\\lib\\site-packages (0.13.2)\n",
      "Requirement already satisfied: numpy!=1.24.0,>=1.20 in c:\\users\\silwa\\.conda\\envs\\daks\\lib\\site-packages (from seaborn) (1.24.3)\n",
      "Requirement already satisfied: pandas>=1.2 in c:\\users\\silwa\\.conda\\envs\\daks\\lib\\site-packages (from seaborn) (2.0.3)\n",
      "Requirement already satisfied: matplotlib!=3.6.1,>=3.4 in c:\\users\\silwa\\.conda\\envs\\daks\\lib\\site-packages (from seaborn) (3.7.5)\n",
      "Requirement already satisfied: contourpy>=1.0.1 in c:\\users\\silwa\\.conda\\envs\\daks\\lib\\site-packages (from matplotlib!=3.6.1,>=3.4->seaborn) (1.1.1)\n",
      "Requirement already satisfied: cycler>=0.10 in c:\\users\\silwa\\.conda\\envs\\daks\\lib\\site-packages (from matplotlib!=3.6.1,>=3.4->seaborn) (0.12.1)\n",
      "Requirement already satisfied: fonttools>=4.22.0 in c:\\users\\silwa\\.conda\\envs\\daks\\lib\\site-packages (from matplotlib!=3.6.1,>=3.4->seaborn) (4.55.3)\n",
      "Requirement already satisfied: kiwisolver>=1.0.1 in c:\\users\\silwa\\.conda\\envs\\daks\\lib\\site-packages (from matplotlib!=3.6.1,>=3.4->seaborn) (1.4.7)\n",
      "Requirement already satisfied: packaging>=20.0 in c:\\users\\silwa\\.conda\\envs\\daks\\lib\\site-packages (from matplotlib!=3.6.1,>=3.4->seaborn) (24.2)\n",
      "Requirement already satisfied: pillow>=6.2.0 in c:\\users\\silwa\\.conda\\envs\\daks\\lib\\site-packages (from matplotlib!=3.6.1,>=3.4->seaborn) (10.4.0)\n",
      "Requirement already satisfied: pyparsing>=2.3.1 in c:\\users\\silwa\\.conda\\envs\\daks\\lib\\site-packages (from matplotlib!=3.6.1,>=3.4->seaborn) (3.1.4)\n",
      "Requirement already satisfied: python-dateutil>=2.7 in c:\\users\\silwa\\.conda\\envs\\daks\\lib\\site-packages (from matplotlib!=3.6.1,>=3.4->seaborn) (2.9.0.post0)\n",
      "Requirement already satisfied: importlib-resources>=3.2.0 in c:\\users\\silwa\\.conda\\envs\\daks\\lib\\site-packages (from matplotlib!=3.6.1,>=3.4->seaborn) (6.4.5)\n",
      "Requirement already satisfied: pytz>=2020.1 in c:\\users\\silwa\\.conda\\envs\\daks\\lib\\site-packages (from pandas>=1.2->seaborn) (2024.2)\n",
      "Requirement already satisfied: tzdata>=2022.1 in c:\\users\\silwa\\.conda\\envs\\daks\\lib\\site-packages (from pandas>=1.2->seaborn) (2024.2)\n",
      "Requirement already satisfied: zipp>=3.1.0 in c:\\users\\silwa\\.conda\\envs\\daks\\lib\\site-packages (from importlib-resources>=3.2.0->matplotlib!=3.6.1,>=3.4->seaborn) (3.20.2)\n",
      "Requirement already satisfied: six>=1.5 in c:\\users\\silwa\\.conda\\envs\\daks\\lib\\site-packages (from python-dateutil>=2.7->matplotlib!=3.6.1,>=3.4->seaborn) (1.17.0)\n"
     ]
    }
   ],
   "source": [
    "!pip install seaborn\n"
   ]
  },
  {
   "cell_type": "code",
   "execution_count": 18,
   "metadata": {},
   "outputs": [],
   "source": [
    "import seaborn as sns\n",
    "from sklearn.metrics import confusion_matrix"
   ]
  },
  {
   "cell_type": "code",
   "execution_count": 19,
   "metadata": {},
   "outputs": [
    {
     "data": {
      "image/png": "[encoded data removed]",
      "text/plain": [
       "<Figure size 800x600 with 2 Axes>"
      ]
     },
     "metadata": {},
     "output_type": "display_data"
    }
   ],
   "source": [
    "\n",
    "# Compute confusion matrix\n",
    "cm = confusion_matrix(y_pred , y_test)\n",
    "\n",
    "# Plot confusion matrix as a heatmap\n",
    "plt.figure(figsize=(8, 6))\n",
    "sns.heatmap(cm, annot=True, fmt='d', cmap='Blues', xticklabels=['Predicted 0', 'Predicted 1'], yticklabels=['Actual 0', 'Actual 1'])\n",
    "plt.xlabel('Predicted label')\n",
    "plt.ylabel('True label')\n",
    "plt.title('Confusion Matrix')\n",
    "plt.show()"
   ]
  },
  {
   "cell_type": "code",
   "execution_count": 20,
   "metadata": {},
   "outputs": [
    {
     "data": {
      "text/plain": [
       "array([6.50e+01, 0.00e+00, 1.13e+02, 1.00e+00, 2.50e+01, 0.00e+00,\n",
       "       4.97e+05, 1.83e+00, 1.35e+02, 1.00e+00, 0.00e+00, 6.70e+01])"
      ]
     },
     "execution_count": 20,
     "metadata": {},
     "output_type": "execute_result"
    }
   ],
   "source": [
    "x_test[0]"
   ]
  },
  {
   "cell_type": "code",
   "execution_count": 21,
   "metadata": {},
   "outputs": [],
   "source": [
    "test = [634,0,113,1,25,0,49700,1.83,135,1,0,67]"
   ]
  },
  {
   "cell_type": "code",
   "execution_count": 22,
   "metadata": {},
   "outputs": [
    {
     "data": {
      "text/plain": [
       "array([1], dtype=int64)"
      ]
     },
     "execution_count": 22,
     "metadata": {},
     "output_type": "execute_result"
    }
   ],
   "source": [
    "model.predict([test])"
   ]
  }
 ],
 "metadata": {
  "kernelspec": {
   "display_name": "Python 3.8.20",
   "language": "python",
   "name": "daks"
  },
  "language_info": {
   "codemirror_mode": {
    "name": "ipython",
    "version": 3
   },
   "file_extension": ".py",
   "mimetype": "text/x-python",
   "name": "python",
   "nbconvert_exporter": "python",
   "pygments_lexer": "ipython3",
   "version": "3.8.20"
  },
  "orig_nbformat": 4
 },
 "nbformat": 4,
 "nbformat_minor": 2
}
